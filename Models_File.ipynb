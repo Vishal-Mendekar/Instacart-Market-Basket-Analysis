{
  "nbformat": 4,
  "nbformat_minor": 0,
  "metadata": {
    "kernelspec": {
      "display_name": "Python 3",
      "language": "python",
      "name": "python3"
    },
    "language_info": {
      "codemirror_mode": {
        "name": "ipython",
        "version": 3
      },
      "file_extension": ".py",
      "mimetype": "text/x-python",
      "name": "python",
      "nbconvert_exporter": "python",
      "pygments_lexer": "ipython3",
      "version": "3.5.3"
    },
    "colab": {
      "name": "Model Preparing.ipynb",
      "provenance": [],
      "collapsed_sections": []
    },
    "accelerator": "GPU"
  },
  "cells": [
    {
      "cell_type": "markdown",
      "metadata": {
        "id": "4c916T29R6hw",
        "colab_type": "text"
      },
      "source": [
        "<h1>Importing Libraries</h1>"
      ]
    },
    {
      "cell_type": "code",
      "metadata": {
        "id": "4o7ZRZlY30lA",
        "colab_type": "code",
        "colab": {
          "base_uri": "https://localhost:8080/",
          "height": 33
        },
        "outputId": "55f8a3de-89ea-4ff0-ed34-e51cd2e5176a"
      },
      "source": [
        "from google.colab import drive\n",
        "drive.mount('/content/drive')"
      ],
      "execution_count": 1,
      "outputs": [
        {
          "output_type": "stream",
          "text": [
            "Mounted at /content/drive\n"
          ],
          "name": "stdout"
        }
      ]
    },
    {
      "cell_type": "code",
      "metadata": {
        "id": "lmzb62hYR6hx",
        "colab_type": "code",
        "colab": {}
      },
      "source": [
        "import warnings\n",
        "warnings.filterwarnings(\"ignore\")\n",
        "\n",
        "from sklearn.model_selection import train_test_split\n",
        "from sklearn.ensemble import RandomForestClassifier, GradientBoostingClassifier\n",
        "from tensorflow.keras.layers import Input, Dense, Activation, Dropout\n",
        "from tensorflow.keras.models import Model\n",
        "from sklearn.metrics import confusion_matrix, f1_score\n",
        "from sklearn.calibration import CalibratedClassifierCV\n",
        "from sklearn.model_selection import train_test_split\n",
        "from sklearn.linear_model import LogisticRegression\n",
        "from mlxtend.classifier import StackingClassifier\n",
        "from sklearn.tree import DecisionTreeClassifier\n",
        "from sklearn.ensemble import AdaBoostClassifier\n",
        "from tqdm import tqdm\n",
        "import random\n",
        "import lightgbm as lgb\n",
        "import pandas as pd\n",
        "import numpy as np\n",
        "import pickle\n",
        "import os"
      ],
      "execution_count": 10,
      "outputs": []
    },
    {
      "cell_type": "markdown",
      "metadata": {
        "id": "FE3SwjSKR6h6",
        "colab_type": "text"
      },
      "source": [
        "<h1>Importing Train Test Files</h1>"
      ]
    },
    {
      "cell_type": "code",
      "metadata": {
        "id": "J4jZbV0GR6h7",
        "colab_type": "code",
        "colab": {}
      },
      "source": [
        "train_data = pickle.load(open('/content/drive/My Drive/Instacart Analysis/final_data_trainn.pkl','rb'))\n",
        "test_data = pickle.load(open('/content/drive/My Drive/Instacart Analysis/final_data_test.pkl','rb'))"
      ],
      "execution_count": 3,
      "outputs": []
    },
    {
      "cell_type": "markdown",
      "metadata": {
        "id": "at_t4iZ_9F0c",
        "colab_type": "text"
      },
      "source": [
        "<h1>Data & Result Split</h1>"
      ]
    },
    {
      "cell_type": "code",
      "metadata": {
        "id": "P3rh3pw5R6iB",
        "colab_type": "code",
        "colab": {}
      },
      "source": [
        "X = train_data.drop('reordered', axis=1)\n",
        "Y = train_data['reordered'].values"
      ],
      "execution_count": 4,
      "outputs": []
    },
    {
      "cell_type": "code",
      "metadata": {
        "id": "AVBL_UspR6iH",
        "colab_type": "code",
        "colab": {}
      },
      "source": [
        "# Replacing the infinite values with NaN first and then with the mean value.\n",
        "\n",
        "X.replace([np.inf, -np.inf], np.nan, inplace=True)\n",
        "X.fillna(X.mean(), inplace=True)"
      ],
      "execution_count": 5,
      "outputs": []
    },
    {
      "cell_type": "markdown",
      "metadata": {
        "id": "UiM3vtSZR6iN",
        "colab_type": "text"
      },
      "source": [
        "<h1>Preprocessing Data</h1>"
      ]
    },
    {
      "cell_type": "code",
      "metadata": {
        "id": "aLosOGAWR6iO",
        "colab_type": "code",
        "colab": {}
      },
      "source": [
        "from sklearn.preprocessing import MinMaxScaler\n",
        "minmax = MinMaxScaler()\n",
        "def normalize(df):\n",
        "    #This function normalizes data by applying min max scaler\n",
        "\n",
        "    result1 = df.copy()\n",
        "    for feature_name in df.columns:\n",
        "        array_values = np.asarray(df[feature_name].values)\n",
        "        array = array_values.reshape(-1,1)\n",
        "        minmax.fit(array)\n",
        "        scaled = minmax.transform(array)\n",
        "        result1[feature_name] = scaled\n",
        "    return result1\n",
        "\n",
        "processed_x = normalize(X)"
      ],
      "execution_count": 6,
      "outputs": []
    },
    {
      "cell_type": "markdown",
      "metadata": {
        "id": "0vmhC46MR6iT",
        "colab_type": "text"
      },
      "source": [
        "<h1>Train Test Split</h1>"
      ]
    },
    {
      "cell_type": "code",
      "metadata": {
        "id": "6BU9xR7mR6iU",
        "colab_type": "code",
        "colab": {
          "base_uri": "https://localhost:8080/",
          "height": 50
        },
        "outputId": "d66485f2-5036-4e3a-ce6d-d96ed455e6d0"
      },
      "source": [
        "X_train, X_test, Y_train, Y_test = train_test_split(processed_x, Y, stratify = Y, test_size=0.2, random_state=14)\n",
        "\n",
        "print(\"Train size\", X_train.shape, Y_train.shape)\n",
        "print(\"Test size\", X_test.shape, Y_test.shape)"
      ],
      "execution_count": 7,
      "outputs": [
        {
          "output_type": "stream",
          "text": [
            "Train size (6779728, 25) (6779728,)\n",
            "Test size (1694933, 25) (1694933,)\n"
          ],
          "name": "stdout"
        }
      ]
    },
    {
      "cell_type": "markdown",
      "metadata": {
        "id": "IZwP6lMjR6ic",
        "colab_type": "text"
      },
      "source": [
        "<h1>Building Models</h1>"
      ]
    },
    {
      "cell_type": "markdown",
      "metadata": {
        "id": "GtXqbwShYRtU",
        "colab_type": "text"
      },
      "source": [
        "#Note\n",
        "\n",
        "1. As there are many models making submission with each of them doesn't make sense and is time consuming.\n",
        "\n",
        "2. So I will look into Validation F1-Score and will pick the model with best Validation F1-Score.\n",
        "\n",
        "3. Will compare validation F1-Score of each model.\n",
        "\n",
        "4. Then will predict the real test data through that model and will create submission file"
      ]
    },
    {
      "cell_type": "markdown",
      "metadata": {
        "id": "nixd_90eR6id",
        "colab_type": "text"
      },
      "source": [
        "<h2> 1. Logistic Regression </h2>\n",
        "\n",
        "<h3> Tuning Logistic Regression</h3>"
      ]
    },
    {
      "cell_type": "code",
      "metadata": {
        "id": "Lge05vuLjvut",
        "colab_type": "code",
        "colab": {
          "base_uri": "https://localhost:8080/",
          "height": 115
        },
        "outputId": "a8196e4c-e33e-4f02-cca0-9c3480749487"
      },
      "source": [
        "C = [0.001,1,100]\n",
        "for i in C:\n",
        "  lr_temp = LogisticRegression(C=i)\n",
        "  lr_temp.fit(X_train, Y_train)\n",
        "  train_predict = (lr_temp.predict_proba(X_train)[:,1]>=0.21).astype('int')\n",
        "  test_predict = (lr_temp.predict_proba(X_test)[:,1]>=0.21).astype('int')\n",
        "\n",
        "  f1_train = f1_score(train_predict, Y_train)\n",
        "  f1_test = f1_score(test_predict, Y_test)\n",
        "\n",
        "  print(\"Train F1 Score At C = {0} is {1}\".format(i, f1_train))\n",
        "  print(\"Test F1 Score At C = {0} is {1}\".format(i, f1_test))\n"
      ],
      "execution_count": null,
      "outputs": [
        {
          "output_type": "stream",
          "text": [
            "Train F1 Score At C = 0.001 is 0.41359469062720733\n",
            "Test F1 Score At C = 0.001 is 0.4143218690280113\n",
            "Train F1 Score At C = 1 is 0.41443100984586545\n",
            "Test F1 Score At C = 1 is 0.4153962307155373\n",
            "Train F1 Score At C = 100 is 0.41445507389710123\n",
            "Test F1 Score At C = 100 is 0.4153770740354418\n"
          ],
          "name": "stdout"
        }
      ]
    },
    {
      "cell_type": "markdown",
      "metadata": {
        "id": "-ToayCi6xO6q",
        "colab_type": "text"
      },
      "source": [
        "<h3>Logistic Regression With Best Parameter</h3>"
      ]
    },
    {
      "cell_type": "code",
      "metadata": {
        "id": "4w4W0fLcR6if",
        "colab_type": "code",
        "colab": {
          "base_uri": "https://localhost:8080/",
          "height": 50
        },
        "outputId": "6c7e25e8-4727-4430-a00b-75547d5d91aa"
      },
      "source": [
        "lr = LogisticRegression(C=1)\n",
        "lr.fit(X_train, Y_train)\n",
        "\n",
        "train_pred = (lr.predict_proba(X_train)[:, 1] >= 0.21).astype('int')\n",
        "test_pred = (lr.predict_proba(X_test)[:, 1] >= 0.21).astype('int')\n",
        "\n",
        "f1_train = f1_score(train_pred, Y_train)\n",
        "f1_test = f1_score(test_pred, Y_test)\n",
        "\n",
        "print(\"Train F1 Score:\", f1_train)\n",
        "print(\"Validation F1 Score:\", f1_test)"
      ],
      "execution_count": null,
      "outputs": [
        {
          "output_type": "stream",
          "text": [
            "Train F1 Score: 0.41443100984586545\n",
            "Validation F1 Score: 0.4153962307155373\n"
          ],
          "name": "stdout"
        }
      ]
    },
    {
      "cell_type": "markdown",
      "metadata": {
        "id": "Oj83GHAoR6ij",
        "colab_type": "text"
      },
      "source": [
        "<h2> 2. Decision Tree </h2>\n",
        "\n",
        "<h3>Tuning Decision Tree</h3>"
      ]
    },
    {
      "cell_type": "code",
      "metadata": {
        "id": "x5P1472mR6ik",
        "colab_type": "code",
        "colab": {
          "base_uri": "https://localhost:8080/",
          "height": 797
        },
        "outputId": "3196f664-fad1-404f-910b-ae88ff2dde7e"
      },
      "source": [
        "depth = [3, 5, 7, 10]\n",
        "splits = [5,20,50,100,300,500]\n",
        "\n",
        "for i in depth:\n",
        "    for j in splits:\n",
        "        dtree = DecisionTreeClassifier(max_depth = i, min_samples_split = j)\n",
        "        dtree.fit(X_train,Y_train)\n",
        "\n",
        "        train_pred = (dtree.predict_proba(X_train)[:, 1] >= 0.21).astype('int')\n",
        "        test_pred = (dtree.predict_proba(X_test)[:, 1] >= 0.21).astype('int')\n",
        "\n",
        "        f1_train = f1_score(train_pred, Y_train)\n",
        "        f1_test = f1_score(test_pred, Y_test)\n",
        "\n",
        "        print(\"Train F1 Score At Depth {0} & Minimum Split {1} is {2}\".format(i,j, f1_train))\n",
        "        print(\"Test F1 Score At Depth {0} & Minimum Split {1} is {2}\".format(i,j, f1_test))"
      ],
      "execution_count": null,
      "outputs": [
        {
          "output_type": "stream",
          "text": [
            "Train F1 Score At Depth 3 & Minimum Split 5 is 0.3942283201052616\n",
            "Test F1 Score At Depth 3 & Minimum Split 5 is 0.393697784581691\n",
            "Train F1 Score At Depth 3 & Minimum Split 20 is 0.3942283201052616\n",
            "Test F1 Score At Depth 3 & Minimum Split 20 is 0.393697784581691\n",
            "Train F1 Score At Depth 3 & Minimum Split 50 is 0.3942283201052616\n",
            "Test F1 Score At Depth 3 & Minimum Split 50 is 0.393697784581691\n",
            "Train F1 Score At Depth 3 & Minimum Split 100 is 0.3942283201052616\n",
            "Test F1 Score At Depth 3 & Minimum Split 100 is 0.393697784581691\n",
            "Train F1 Score At Depth 3 & Minimum Split 300 is 0.3942283201052616\n",
            "Test F1 Score At Depth 3 & Minimum Split 300 is 0.393697784581691\n",
            "Train F1 Score At Depth 3 & Minimum Split 500 is 0.3942283201052616\n",
            "Test F1 Score At Depth 3 & Minimum Split 500 is 0.393697784581691\n",
            "Train F1 Score At Depth 5 & Minimum Split 5 is 0.41481963662176935\n",
            "Test F1 Score At Depth 5 & Minimum Split 5 is 0.4147884617003308\n",
            "Train F1 Score At Depth 5 & Minimum Split 20 is 0.41481963662176935\n",
            "Test F1 Score At Depth 5 & Minimum Split 20 is 0.4147884617003308\n",
            "Train F1 Score At Depth 5 & Minimum Split 50 is 0.41481963662176935\n",
            "Test F1 Score At Depth 5 & Minimum Split 50 is 0.4147884617003308\n",
            "Train F1 Score At Depth 5 & Minimum Split 100 is 0.41481963662176935\n",
            "Test F1 Score At Depth 5 & Minimum Split 100 is 0.4147884617003308\n",
            "Train F1 Score At Depth 5 & Minimum Split 300 is 0.41481963662176935\n",
            "Test F1 Score At Depth 5 & Minimum Split 300 is 0.4147884617003308\n",
            "Train F1 Score At Depth 5 & Minimum Split 500 is 0.41481963662176935\n",
            "Test F1 Score At Depth 5 & Minimum Split 500 is 0.4147884617003308\n",
            "Train F1 Score At Depth 7 & Minimum Split 5 is 0.4203230727308381\n",
            "Test F1 Score At Depth 7 & Minimum Split 5 is 0.42001927185035254\n",
            "Train F1 Score At Depth 7 & Minimum Split 20 is 0.4203230727308381\n",
            "Test F1 Score At Depth 7 & Minimum Split 20 is 0.42001927185035254\n",
            "Train F1 Score At Depth 7 & Minimum Split 50 is 0.4203230727308381\n",
            "Test F1 Score At Depth 7 & Minimum Split 50 is 0.42001927185035254\n",
            "Train F1 Score At Depth 7 & Minimum Split 100 is 0.4203230727308381\n",
            "Test F1 Score At Depth 7 & Minimum Split 100 is 0.42001927185035254\n",
            "Train F1 Score At Depth 7 & Minimum Split 300 is 0.4203230727308381\n",
            "Test F1 Score At Depth 7 & Minimum Split 300 is 0.42001927185035254\n",
            "Train F1 Score At Depth 7 & Minimum Split 500 is 0.4203230727308381\n",
            "Test F1 Score At Depth 7 & Minimum Split 500 is 0.42001927185035254\n",
            "Train F1 Score At Depth 10 & Minimum Split 5 is 0.42554044105289035\n",
            "Test F1 Score At Depth 10 & Minimum Split 5 is 0.42298200093439936\n",
            "Train F1 Score At Depth 10 & Minimum Split 20 is 0.4255092262450059\n",
            "Test F1 Score At Depth 10 & Minimum Split 20 is 0.4229946947501782\n",
            "Train F1 Score At Depth 10 & Minimum Split 50 is 0.425491841037135\n",
            "Test F1 Score At Depth 10 & Minimum Split 50 is 0.42302535734645186\n",
            "Train F1 Score At Depth 10 & Minimum Split 100 is 0.42546410917595456\n",
            "Test F1 Score At Depth 10 & Minimum Split 100 is 0.423024142044315\n",
            "Train F1 Score At Depth 10 & Minimum Split 300 is 0.4254430792649777\n",
            "Test F1 Score At Depth 10 & Minimum Split 300 is 0.4230943810498981\n",
            "Train F1 Score At Depth 10 & Minimum Split 500 is 0.425405332058087\n",
            "Test F1 Score At Depth 10 & Minimum Split 500 is 0.4231079690838587\n"
          ],
          "name": "stdout"
        }
      ]
    },
    {
      "cell_type": "markdown",
      "metadata": {
        "id": "l5bZ94mHklgu",
        "colab_type": "text"
      },
      "source": [
        "<h3>Decision Tree With Best Parameter</h3>"
      ]
    },
    {
      "cell_type": "code",
      "metadata": {
        "id": "_IxqyYwYR6it",
        "colab_type": "code",
        "colab": {
          "base_uri": "https://localhost:8080/",
          "height": 50
        },
        "outputId": "3b3876ef-ccd4-42d4-fe3b-a1bfee7eae96"
      },
      "source": [
        "dtree_tuned = DecisionTreeClassifier(max_depth=10, min_samples_split = 500, random_state=21)\n",
        "dtree_tuned.fit(X_train, Y_train)\n",
        "train_pred = (dtree_tuned.predict_proba(X_train)[:, 1] >= 0.21).astype('int')\n",
        "test_pred = (dtree_tuned.predict_proba(X_test)[:, 1] >= 0.21).astype('int')\n",
        "\n",
        "f1_train = f1_score(train_pred, Y_train)\n",
        "f1_test = f1_score(test_pred, Y_test)\n",
        "\n",
        "print(\"Train F1 Score:\", f1_train)\n",
        "print(\"Test F1 Score:\", f1_test)"
      ],
      "execution_count": null,
      "outputs": [
        {
          "output_type": "stream",
          "text": [
            "Train F1 Score: 0.425405332058087\n",
            "Test F1 Score: 0.4231079690838587\n"
          ],
          "name": "stdout"
        }
      ]
    },
    {
      "cell_type": "markdown",
      "metadata": {
        "id": "F0PRKuhHR6i4",
        "colab_type": "text"
      },
      "source": [
        "<h2> 3. Random Forest </h2>\n",
        "\n",
        "<h3>Tuning Random Forest</h3>"
      ]
    },
    {
      "cell_type": "code",
      "metadata": {
        "id": "PVNa60BBhl2a",
        "colab_type": "code",
        "colab": {
          "base_uri": "https://localhost:8080/",
          "height": 1000
        },
        "outputId": "4f3cbff3-fc16-4331-a82a-3913bd0b9ff7"
      },
      "source": [
        "rf= RandomForestClassifier()\n",
        "n_estimators = [10,50,100,300,500]\n",
        "max_depth = [3,5,7,10]\n",
        "for i in n_estimators:\n",
        "    print(\"Estimator :\",i)\n",
        "    for j in max_depth:\n",
        "        print(\"Depth :\",j)\n",
        "        rf_tuned = RandomForestClassifier(max_depth=j, n_estimators = i)\n",
        "        rf_tuned.fit(X_train, Y_train)\n",
        "\n",
        "        train_pred = (rf_tuned.predict_proba(X_train)[:, 1] >= 0.21).astype('int')\n",
        "        test_pred = (rf_tuned.predict_proba(X_test)[:, 1] >= 0.21).astype('int')\n",
        "\n",
        "        f1_train = f1_score(train_pred, Y_train)\n",
        "        f1_test = f1_score(test_pred, Y_test)\n",
        "\n",
        "        print(\"Train F1 Score:\", f1_train)\n",
        "        print(\"Test F1 Score:\", f1_test)\n",
        "    print(\"_\"*40)   "
      ],
      "execution_count": null,
      "outputs": [
        {
          "output_type": "stream",
          "text": [
            "Estimator : 10\n",
            "Depth : 3\n",
            "Train F1 Score: 0.3980820459624664\n",
            "Test F1 Score: 0.3975248707589383\n",
            "Depth : 5\n",
            "Train F1 Score: 0.40899840947647104\n",
            "Test F1 Score: 0.40858858920947355\n",
            "Depth : 7\n",
            "Train F1 Score: 0.41832240762018513\n",
            "Test F1 Score: 0.4175053467522147\n",
            "Depth : 10\n",
            "Train F1 Score: 0.42478122572228494\n",
            "Test F1 Score: 0.4224164370847857\n",
            "________________________________________\n",
            "Estimator : 50\n",
            "Depth : 3\n",
            "Train F1 Score: 0.3943749513350919\n",
            "Test F1 Score: 0.3938325196899869\n",
            "Depth : 5\n",
            "Train F1 Score: 0.4129219961326261\n",
            "Test F1 Score: 0.4128331843751643\n",
            "Depth : 7\n",
            "Train F1 Score: 0.41916526538750054\n",
            "Test F1 Score: 0.4185694355097038\n",
            "Depth : 10\n",
            "Train F1 Score: 0.4252651066045408\n",
            "Test F1 Score: 0.42323315460446576\n",
            "________________________________________\n",
            "Estimator : 100\n",
            "Depth : 3\n",
            "Train F1 Score: 0.3947882620191616\n",
            "Test F1 Score: 0.3942856516833006\n",
            "Depth : 5\n",
            "Train F1 Score: 0.4141029877677766\n",
            "Test F1 Score: 0.41363933256562463\n",
            "Depth : 7\n",
            "Train F1 Score: 0.41976347050985763\n",
            "Test F1 Score: 0.41895697467603965\n",
            "Depth : 10\n",
            "Train F1 Score: 0.42546375370137945\n",
            "Test F1 Score: 0.42323915596104517\n",
            "________________________________________\n",
            "Estimator : 300\n",
            "Depth : 3\n",
            "Train F1 Score: 0.39602247801291024\n",
            "Test F1 Score: 0.3955482362644865\n",
            "Depth : 5\n",
            "Train F1 Score: 0.41301800623279933\n",
            "Test F1 Score: 0.4123932700132808\n",
            "Depth : 7\n",
            "Train F1 Score: 0.4196123854907389\n",
            "Test F1 Score: 0.41877059773401804\n",
            "Depth : 10\n",
            "Train F1 Score: 0.4252903353038802\n",
            "Test F1 Score: 0.4231179697338371\n",
            "________________________________________\n",
            "Estimator : 500\n",
            "Depth : 3\n",
            "Train F1 Score: 0.3942283201052616\n",
            "Test F1 Score: 0.393697784581691\n",
            "Depth : 5\n",
            "Train F1 Score: 0.41344711751203733\n",
            "Test F1 Score: 0.4130238040115337\n",
            "Depth : 7\n",
            "Train F1 Score: 0.419252831542025\n",
            "Test F1 Score: 0.41834742833532423\n",
            "Depth : 10\n",
            "Train F1 Score: 0.417484831542025\n",
            "Test F1 Score: 0.41819733433532423\n"
          ],
          "name": "stdout"
        }
      ]
    },
    {
      "cell_type": "markdown",
      "metadata": {
        "id": "f8Bmw0n-kuCY",
        "colab_type": "text"
      },
      "source": [
        "<h3>Random Forest With Best Parameter</h3>"
      ]
    },
    {
      "cell_type": "code",
      "metadata": {
        "id": "cKH3725NR6jG",
        "colab_type": "code",
        "colab": {
          "base_uri": "https://localhost:8080/",
          "height": 50
        },
        "outputId": "62771328-6276-47f6-9a6e-2f653ed58279"
      },
      "source": [
        "rf_tuned = RandomForestClassifier(max_depth=7, n_estimators = 500)\n",
        "rf_tuned.fit(X_train, Y_train)\n",
        "\n",
        "train_pred = (rf_tuned.predict_proba(X_train)[:, 1] >= 0.21).astype('int')\n",
        "test_pred = (rf_tuned.predict_proba(X_test)[:, 1] >= 0.21).astype('int')\n",
        "\n",
        "f1_train = f1_score(train_pred, Y_train)\n",
        "f1_test = f1_score(test_pred, Y_test)\n",
        "\n",
        "print(\"Train F1 Score:\", f1_train)\n",
        "print(\"Test F1 Score:\", f1_test)"
      ],
      "execution_count": null,
      "outputs": [
        {
          "output_type": "stream",
          "text": [
            "Train F1 Score: 0.4194688367264793\n",
            "Test F1 Score: 0.41868181083394507\n"
          ],
          "name": "stdout"
        }
      ]
    },
    {
      "cell_type": "markdown",
      "metadata": {
        "id": "gV9EZmggnY-V",
        "colab_type": "text"
      },
      "source": [
        "<h2> 4. Light GBM</h2>\n",
        "\n",
        "<h3>Tuning Light GBM</h3>"
      ]
    },
    {
      "cell_type": "code",
      "metadata": {
        "id": "0tV_cZq0R6jm",
        "colab_type": "code",
        "colab": {
          "base_uri": "https://localhost:8080/",
          "height": 732
        },
        "outputId": "96d314fe-bee4-4602-a998-be9661e4250f"
      },
      "source": [
        "#Since GBDT was too slow when it comes to hyper-parameter tuning. So didn't used it.\n",
        "#And since Light GBM is successor to GBDT and also fast then it so using it instead of GBDT\n",
        "\n",
        "import lightgbm as lgb\n",
        "lgb_tune = lgb.LGBMClassifier(boosting_type='gbdt')\n",
        "\n",
        "estimator = [10,50,100,300,500]\n",
        "depths = [3,5,7,10]\n",
        "\n",
        "for i in depths:\n",
        "    for j in estimator:\n",
        "        lgb_model = lgb.LGBMClassifier(boosting_type='gbdt', n_estimators=j, max_depth = i)\n",
        "        lgb_model.fit(X_train,Y_train)\n",
        "\n",
        "        train_pred = (lgb_model.predict_proba(X_train)[:, 1] >= 0.21).astype('int')\n",
        "        test_pred = (lgb_model.predict_proba(X_test)[:, 1] >= 0.21).astype('int')\n",
        "\n",
        "        f1_train = f1_score(train_pred, Y_train)\n",
        "        f1_test = f1_score(test_pred, Y_test)\n",
        "\n",
        "        print(\"Train F1 Score At Depth {0} & Minimum Split {1} is {2}\".format(i,j, f1_train))\n",
        "        print(\"Test F1 Score At Depth {0} & Minimum Split {1} is {2}\".format(i,j, f1_test))\n",
        "    print(\"_\"*35)"
      ],
      "execution_count": null,
      "outputs": [
        {
          "output_type": "stream",
          "text": [
            "Train F1 Score At Depth 3 & Minimum Split 10 is 0.4088698274077699\n",
            "Test F1 Score At Depth 3 & Minimum Split 10 is 0.40941107849539404\n",
            "Train F1 Score At Depth 3 & Minimum Split 50 is 0.42390339842963287\n",
            "Test F1 Score At Depth 3 & Minimum Split 50 is 0.42355966448294863\n",
            "Train F1 Score At Depth 3 & Minimum Split 100 is 0.4253537556723544\n",
            "Test F1 Score At Depth 3 & Minimum Split 100 is 0.42485807871760034\n",
            "Train F1 Score At Depth 3 & Minimum Split 300 is 0.426956935054936\n",
            "Test F1 Score At Depth 3 & Minimum Split 300 is 0.42597369911281696\n",
            "Train F1 Score At Depth 3 & Minimum Split 500 is 0.4276553605444572\n",
            "Test F1 Score At Depth 3 & Minimum Split 500 is 0.42662292547106234\n",
            "___________________________________\n",
            "Train F1 Score At Depth 5 & Minimum Split 10 is 0.4123163070775854\n",
            "Test F1 Score At Depth 5 & Minimum Split 10 is 0.41200372576843974\n",
            "Train F1 Score At Depth 5 & Minimum Split 50 is 0.42628174497716204\n",
            "Test F1 Score At Depth 5 & Minimum Split 50 is 0.4254802587248858\n",
            "Train F1 Score At Depth 5 & Minimum Split 100 is 0.42782078693209336\n",
            "Test F1 Score At Depth 5 & Minimum Split 100 is 0.42632990496029166\n",
            "Train F1 Score At Depth 5 & Minimum Split 300 is 0.43012873256409095\n",
            "Test F1 Score At Depth 5 & Minimum Split 300 is 0.42764922914061243\n",
            "Train F1 Score At Depth 5 & Minimum Split 500 is 0.4318701553650003\n",
            "Test F1 Score At Depth 5 & Minimum Split 500 is 0.42841695557808646\n",
            "___________________________________\n",
            "Train F1 Score At Depth 7 & Minimum Split 10 is 0.4107646017868264\n",
            "Test F1 Score At Depth 7 & Minimum Split 10 is 0.410485660702971\n",
            "Train F1 Score At Depth 7 & Minimum Split 50 is 0.42689540098028994\n",
            "Test F1 Score At Depth 7 & Minimum Split 50 is 0.4258429517206105\n",
            "Train F1 Score At Depth 7 & Minimum Split 100 is 0.4282983213167994\n",
            "Test F1 Score At Depth 7 & Minimum Split 100 is 0.42679554065529407\n",
            "Train F1 Score At Depth 7 & Minimum Split 300 is 0.4307163040233045\n",
            "Test F1 Score At Depth 7 & Minimum Split 300 is 0.4280494098669315\n",
            "Train F1 Score At Depth 7 & Minimum Split 500 is 0.4324764314230438\n",
            "Test F1 Score At Depth 7 & Minimum Split 500 is 0.4286491810076716\n",
            "___________________________________\n",
            "Train F1 Score At Depth 10 & Minimum Split 10 is 0.4106970977632443\n",
            "Test F1 Score At Depth 10 & Minimum Split 10 is 0.4103617766140104\n",
            "Train F1 Score At Depth 10 & Minimum Split 50 is 0.42707979011295427\n",
            "Test F1 Score At Depth 10 & Minimum Split 50 is 0.42581481742913235\n",
            "Train F1 Score At Depth 10 & Minimum Split 100 is 0.42850295200794997\n",
            "Test F1 Score At Depth 10 & Minimum Split 100 is 0.4268353284299314\n",
            "Train F1 Score At Depth 10 & Minimum Split 300 is 0.43102463255439943\n",
            "Test F1 Score At Depth 10 & Minimum Split 300 is 0.42791618184840424\n",
            "Train F1 Score At Depth 10 & Minimum Split 500 is 0.43279300784213864\n",
            "Test F1 Score At Depth 10 & Minimum Split 500 is 0.42873829349834913\n",
            "___________________________________\n"
          ],
          "name": "stdout"
        }
      ]
    },
    {
      "cell_type": "markdown",
      "metadata": {
        "id": "lBt-FJj0a6rp",
        "colab_type": "text"
      },
      "source": [
        "<h3>Light GBM With Best Parameters</h3>"
      ]
    },
    {
      "cell_type": "code",
      "metadata": {
        "id": "_I_5orhDRjCh",
        "colab_type": "code",
        "colab": {
          "base_uri": "https://localhost:8080/",
          "height": 50
        },
        "outputId": "68e59f35-3774-4b23-bd4b-78f08f09fbdb"
      },
      "source": [
        "lgb_tuned = lgb.LGBMClassifier(boosting_type='gbdt', n_estimators=500, max_depth=10, random_state=21)\n",
        "\n",
        "lgb_tuned.fit(X_train, Y_train)\n",
        "\n",
        "train_pred = (lgb_tuned.predict_proba(X_train)[:, 1] >= 0.21).astype('int')\n",
        "test_pred = (lgb_tuned.predict_proba(X_test)[:, 1] >= 0.21).astype('int')\n",
        "\n",
        "f1_train = f1_score(train_pred, Y_train)\n",
        "f1_test = f1_score(test_pred, Y_test)\n",
        "\n",
        "print(\"Train F1 Score:\", f1_train)\n",
        "print(\"Test F1 Score:\", f1_test)"
      ],
      "execution_count": null,
      "outputs": [
        {
          "output_type": "stream",
          "text": [
            "Train F1 Score: 0.4326663096139362\n",
            "Test F1 Score: 0.428093853820598\n"
          ],
          "name": "stdout"
        }
      ]
    },
    {
      "cell_type": "markdown",
      "metadata": {
        "id": "OqnFVREEVc3a",
        "colab_type": "text"
      },
      "source": [
        "<h1> 5. Stacking Model</h1>"
      ]
    },
    {
      "cell_type": "code",
      "metadata": {
        "id": "bMJbIUgovh6v",
        "colab_type": "code",
        "colab": {
          "base_uri": "https://localhost:8080/",
          "height": 50
        },
        "outputId": "de7c05e2-3dc9-43a5-cbe2-510d821b1c15"
      },
      "source": [
        "decision_tree = DecisionTreeClassifier(max_depth=10, min_samples_split = 500, random_state=0)\n",
        "decision_tree1 = DecisionTreeClassifier(max_depth=10, min_samples_split = 700, random_state=0)\n",
        "light_gbm = lgb.LGBMClassifier(boosting_type='gbdt', n_estimators=500, max_depth=10, random_state=0)\n",
        "light_gbm1 = lgb.LGBMClassifier(boosting_type='gbdt', n_estimators=700, max_depth=10, random_state=0)\n",
        "log_r = LogisticRegression(C=1, random_state=0)\n",
        "\n",
        "models = [decision_tree, decision_tree1, log_r, light_gbm, light_gbm]\n",
        "\n",
        "stack_classifier = StackingClassifier(classifiers=[decision_tree, decision_tree1, log_r, light_gbm, light_gbm1], meta_classifier=light_gbm1)\n",
        "stack_classifier.fit(X_train, Y_train)\n",
        "\n",
        "\n",
        "train_pred = (stack_classifier.predict_proba(X_train)[:, 1] >= 0.21).astype('int')\n",
        "test_pred = (stack_classifier.predict_proba(X_test)[:, 1] >= 0.21).astype('int')\n",
        "\n",
        "f1_train = f1_score(train_pred, Y_train)\n",
        "f1_test = f1_score(test_pred, Y_test)\n",
        "\n",
        "print(\"Train F1 Score:\", f1_train)\n",
        "print(\"Test F1 Score:\", f1_test)"
      ],
      "execution_count": null,
      "outputs": [
        {
          "output_type": "stream",
          "text": [
            "Train F1 Score: 0.2984194430740991\n",
            "Test F1 Score: 0.294584146253342\n"
          ],
          "name": "stdout"
        }
      ]
    },
    {
      "cell_type": "markdown",
      "metadata": {
        "id": "P1Mqo1vxbhrk",
        "colab_type": "text"
      },
      "source": [
        "<h1> 6. Meta Classifier </h1>\n"
      ]
    },
    {
      "cell_type": "markdown",
      "metadata": {
        "id": "zNLnukc3DkEs",
        "colab_type": "text"
      },
      "source": [
        "<h1>Since above models doesn't seems to work well! Let's give a try to a new approach</h1>\n",
        "\n",
        "1. Here I will be splitting my train data into 2 parts part_1 and part_2.\n",
        "\n",
        "2. Now will create multiple datasets from data \"part_1\" using sampling with replacement.\n",
        "\n",
        "3. Selecting any tree based model as the base learner. Will train model on respective datasets.\n",
        "\n",
        "4. Now will do prediction on \"part_2\" using all the models created. \n",
        "\n",
        "5. Will store prediction of all models in a dataframe as the columns. Size of this dataframe will be (No. of rows in part_2 dataset, No. of models)\n",
        "\n",
        "6. Now will select any tree based algorithm and use it as meta classifier will do prediction on the Dataset created in point 5 above.\n",
        "\n",
        "7. I observed that the score which is achieved at more depth in Decision Tree is achieved at lesser depth in Light GBM so will use LightGBM as my base model."
      ]
    },
    {
      "cell_type": "code",
      "metadata": {
        "id": "a_vbRCImFBdn",
        "colab_type": "code",
        "colab": {
          "base_uri": "https://localhost:8080/",
          "height": 50
        },
        "outputId": "789a2175-0d98-42c9-dc05-17681e734be5"
      },
      "source": [
        "X_train_sampling, X_train_predicter, Y_train_sampling, Y_train_predicter = train_test_split(X_train, Y_train, stratify = Y_train, test_size=0.5, random_state=14)\n",
        "\n",
        "dataframes= dataframes_creator(X_train_sampling, Y_train_sampling, 30)\n",
        "\n",
        "print(\"Train size to be used for sampling\", X_train_sampling.shape, Y_train_sampling.shape)\n",
        "print(\"Test size to be used for prediction\", X_train_predicter.shape, Y_train_predicter.shape)"
      ],
      "execution_count": null,
      "outputs": [
        {
          "output_type": "stream",
          "text": [
            "Train size to be used for sampling (3389864, 25) (3389864,)\n",
            "Test size to be used for prediction (3389864, 25) (3389864,)\n"
          ],
          "name": "stdout"
        }
      ]
    },
    {
      "cell_type": "code",
      "metadata": {
        "id": "mzfTwqzFFuej",
        "colab_type": "code",
        "colab": {}
      },
      "source": [
        "# This is the function which will create datasets by sampling with replacement.\n",
        "\n",
        "# Parameters\n",
        "# 1. Original Dataset From which sampels are to be created.\n",
        "# 2. Number of dataset to be created.\n",
        "\n",
        "import random\n",
        "def dataframes_creator(Original_data, Original_labels, Number_of_dataframe_needed):\n",
        "\n",
        "    temp_df = pd.DataFrame()\n",
        "    temp_df = Original_data.copy()\n",
        "    \n",
        "    #Since dataframe does not have index right now so we will add temporary index now\n",
        "    temp_index = list(range(temp_df.shape[0]))\n",
        "    temp_df.insert(loc=0, column='temp_index', value=temp_index)\n",
        "    temp_df.insert(loc=temp_df.shape[1], column='Prediction', value=Original_labels)\n",
        "    \n",
        "    # This line will get the 0% of total size\n",
        "    number_of_samples_for_each_df = int((temp_df.shape[0] * 20)/100)\n",
        "\n",
        "    # An empty list to store all the dataframes created\n",
        "    all_dataframe_data = list()\n",
        "\n",
        "    for i in range(Number_of_dataframe_needed):\n",
        "        \n",
        "        # This line will create random number which will be 40% of total len in size.\n",
        "        random_index = random.sample(temp_index, number_of_samples_for_each_df)\n",
        "      \n",
        "        # Creating a dataframe which has random generated rows \n",
        "        # Row sampling with replacement\n",
        "        temp_df_data = temp_df[temp_df['temp_index'].isin(random_index)]\n",
        "\n",
        "        all_dataframe_data.append(temp_df_data)\n",
        "    \n",
        "    # Removing the \"temp_index\" column which we created earlier\n",
        "    temp_df = temp_df.drop('temp_index',axis=1)\n",
        "\n",
        "    return all_dataframe_data"
      ],
      "execution_count": null,
      "outputs": []
    },
    {
      "cell_type": "code",
      "metadata": {
        "id": "2hoJIDMmjKdA",
        "colab_type": "code",
        "colab": {}
      },
      "source": [
        "# This function will take a list of dataframe created. Will train models on it.\n",
        "#Will return list of models trained on different dataframes\n",
        "\n",
        "def sampled_model_creation(dataframes_list_data):  #, dataframes_list_label\n",
        "    \n",
        "    # Creating list to append various models\n",
        "    models_list = list()\n",
        "\n",
        "    # Iterating through various dataframes created with sampling and there corresponding labels\n",
        "    for i in dataframes_list_data: #, dataframes_list_label\n",
        "        \n",
        "        j = i['Prediction'].values\n",
        "        i = i.drop(['temp_index','Prediction'],axis=1)\n",
        "        \n",
        "        # On my own preference picking Decision Tree as my base model. \n",
        "        # Using the parameter collected while tuning in early stage of notebook\n",
        "    \n",
        "        lgb_tune = lgb.LGBMClassifier(boosting_type='gbdt', n_estimators=500, max_depth=3, random_state=21)\n",
        "        lgb_tune.fit(i,j)\n",
        "\n",
        "        models_list.append(lgb_tune)\n",
        "\n",
        "    return models_list"
      ],
      "execution_count": null,
      "outputs": []
    },
    {
      "cell_type": "code",
      "metadata": {
        "id": "xZzbRKo-pQb3",
        "colab_type": "code",
        "colab": {}
      },
      "source": [
        "# This function takes models list of all models and the data created during split and its label\n",
        "# Perform prediction on that data and store this predictions as column in a dataframe\n",
        "# Returns this dataframe containing predictions.\n",
        "\n",
        "def create_prediction_df(models, test_dataframe):\n",
        "    \n",
        "    # Dataframe to store prediction for all the models\n",
        "    predictions_df = pd.DataFrame()\n",
        "\n",
        "    test_labels = test_dataframe['Prediction'].values\n",
        "    test_dataframe = test_dataframe.drop('Prediction',axis=1)\n",
        "    for key, i in enumerate(models):\n",
        "        \n",
        "        # Creating different column names for different models\n",
        "        column_name = 'prediction_model_' + str(key+1)\n",
        "        prediction = i.predict(test_dataframe)\n",
        "        predictions_df[column_name] = prediction\n",
        "        \n",
        "        print(\"F1 Score By Model {0} is {1}\".format(key+1, f1_score(prediction, test_labels)))\n",
        "    \n",
        "    return predictions_df    \n",
        "\n",
        "def prediction_test(models, test_data):\n",
        "\n",
        "    test_pred = pd.DataFrame()\n",
        "\n",
        "    for key,i in enumerate(models):\n",
        "        column_name = 'prediction_model_' + str(key+1)\n",
        "        prediction = i.predict(test_data)\n",
        "        test_pred[column_name] = prediction\n",
        "    \n",
        "    return test_pred"
      ],
      "execution_count": null,
      "outputs": []
    },
    {
      "cell_type": "markdown",
      "metadata": {
        "id": "WMWWNLL0aiP_",
        "colab_type": "text"
      },
      "source": [
        "At least session was crashing with 33 base models so I created only 30 base models"
      ]
    },
    {
      "cell_type": "code",
      "metadata": {
        "id": "8kbQN-I9fdAI",
        "colab_type": "code",
        "colab": {
          "base_uri": "https://localhost:8080/",
          "height": 505
        },
        "outputId": "59159619-f221-4c3a-a810-fee76a0b6de4"
      },
      "source": [
        "dataframes= dataframes_creator(X_train_sampling, Y_train_sampling, 30)\n",
        "\n",
        "models = sampled_model_creation(dataframes)\n",
        "\n",
        "X_train_predicter['Prediction'] = Y_train_predicter\n",
        "predicted_df = create_prediction_df(models, X_train_predicter)"
      ],
      "execution_count": null,
      "outputs": [
        {
          "output_type": "stream",
          "text": [
            "F1 Score By Model 1 is 0.25589106121812927\n",
            "F1 Score By Model 2 is 0.25509738685409494\n",
            "F1 Score By Model 3 is 0.2552080455987721\n",
            "F1 Score By Model 4 is 0.25635162601626016\n",
            "F1 Score By Model 5 is 0.2566614269830924\n",
            "F1 Score By Model 6 is 0.25506323643801676\n",
            "F1 Score By Model 7 is 0.2589365243493274\n",
            "F1 Score By Model 8 is 0.2578513108650082\n",
            "F1 Score By Model 9 is 0.2583122711958432\n",
            "F1 Score By Model 10 is 0.2538546626268456\n",
            "F1 Score By Model 11 is 0.2549044102455688\n",
            "F1 Score By Model 12 is 0.2519769681106186\n",
            "F1 Score By Model 13 is 0.2542669952515478\n",
            "F1 Score By Model 14 is 0.25825426581987915\n",
            "F1 Score By Model 15 is 0.25556824945757567\n",
            "F1 Score By Model 16 is 0.257248622301134\n",
            "F1 Score By Model 17 is 0.2568943623164099\n",
            "F1 Score By Model 18 is 0.2576985413290114\n",
            "F1 Score By Model 19 is 0.2580089603720014\n",
            "F1 Score By Model 20 is 0.2538840032241378\n",
            "F1 Score By Model 21 is 0.2598605230623828\n",
            "F1 Score By Model 22 is 0.25568660185511666\n",
            "F1 Score By Model 23 is 0.2588694404042865\n",
            "F1 Score By Model 24 is 0.25630361818700154\n",
            "F1 Score By Model 25 is 0.2547981278411548\n",
            "F1 Score By Model 26 is 0.2569972664962519\n",
            "F1 Score By Model 27 is 0.2561713818573241\n",
            "F1 Score By Model 28 is 0.258388002628906\n",
            "F1 Score By Model 29 is 0.25343933433170734\n",
            "F1 Score By Model 30 is 0.25996525524034975\n"
          ],
          "name": "stdout"
        }
      ]
    },
    {
      "cell_type": "code",
      "metadata": {
        "id": "GKOhWFDuLK_Y",
        "colab_type": "code",
        "colab": {}
      },
      "source": [
        "#pickle.dump((predicted_df),open('/content/drive/My Drive/Instacart Analysis/base_model_predicted_df.pkl','wb'))\n",
        "#pickle.dump((models),open('/content/drive/My Drive/Instacart Analysis/base_models.pkl','wb'))"
      ],
      "execution_count": null,
      "outputs": []
    },
    {
      "cell_type": "code",
      "metadata": {
        "id": "wixj7gm3in2n",
        "colab_type": "code",
        "colab": {}
      },
      "source": [
        "# Since we have dataframe with all the prediction so building a meta classifier on it.\n",
        "# Since LightGBM gave best results so using it.\n",
        "\n",
        "X_train_meta, X_cv_meta, Y_train_meta, Y_cv_meta = train_test_split(predicted_df, Y_train_predicter, stratify = Y_train_predicter, test_size=0.2, random_state=14)"
      ],
      "execution_count": null,
      "outputs": []
    },
    {
      "cell_type": "markdown",
      "metadata": {
        "id": "oVRXhRIvs_Vq",
        "colab_type": "text"
      },
      "source": [
        "<h3>Meta Classifier With Light GBM as Meta Classifier</h3>\n",
        "\n",
        "1. I would have prefered Decision Tree as my base model. But there is reason behind picking LightGBM as Base Model.\n",
        "\n",
        "2. While tuning LightGBM and Decision Tree in \"Meta_Classifier.ipynb\". I observed that the Validation F1 Score which I get at more depth on Decision Tree is easily achieved at lesser depth in Light GBM.\n",
        "\n",
        "3. So considering this point. I am taking LightGBM as my base model so having lesser depth will allow me to have more number of base model without exhausting the RAM.\n",
        "\n",
        "4. Observation from \"Meta_Classifier.ipynb\" is Validation F1 Score At Depth 3 & Minimum Split 500 is 0.3134939157430826 in Light GBM.\n",
        "\n",
        "5. Whereas same score in Decison Tree came at Depth 10 & Minimum Split 500 is 0.3134939157430826\n",
        "\n"
      ]
    },
    {
      "cell_type": "code",
      "metadata": {
        "id": "z87K1ENXscG-",
        "colab_type": "code",
        "colab": {
          "base_uri": "https://localhost:8080/",
          "height": 732
        },
        "outputId": "c4d635de-b6bf-498c-c243-9dfedc6d72b4"
      },
      "source": [
        "depth = [3, 5, 7, 10]\n",
        "splits = [5,20,50,100,500]\n",
        "\n",
        "\n",
        "for i in depth:\n",
        "    for j in splits:\n",
        "        lgb_tuned_meta = lgb.LGBMClassifier(boosting_type='gbdt', n_estimators=j, max_depth=i, random_state=21)\n",
        "        lgb_tuned_meta.fit(X_train_meta, Y_train_meta)\n",
        "\n",
        "        train_pred = (lgb_tuned_meta.predict_proba(X_train_meta)[:, 1] >= 0.21).astype('int')\n",
        "        cv_pred = (lgb_tuned_meta.predict_proba(X_cv_meta)[:, 1] >= 0.21).astype('int')\n",
        "\n",
        "        f1_train = f1_score(train_pred, Y_train_meta)\n",
        "        f1_test = f1_score(cv_pred, Y_cv_meta)\n",
        "\n",
        "        print(\"Train F1 Score At Depth {0} & Minimum Split {1} is {2}\".format(i,j, f1_train))\n",
        "        print(\"Validation F1 Score At Depth {0} & Minimum Split {1} is {2}\".format(i,j, f1_test))\n",
        "    print(\"_\"*35)"
      ],
      "execution_count": null,
      "outputs": [
        {
          "output_type": "stream",
          "text": [
            "Train F1 Score At Depth 3 & Minimum Split 5 is 0.2710328136564964\n",
            "Validation F1 Score At Depth 3 & Minimum Split 5 is 0.2740989299793504\n",
            "Train F1 Score At Depth 3 & Minimum Split 20 is 0.2826053692941506\n",
            "Validation F1 Score At Depth 3 & Minimum Split 20 is 0.2849793526656978\n",
            "Train F1 Score At Depth 3 & Minimum Split 50 is 0.28573316554906253\n",
            "Validation F1 Score At Depth 3 & Minimum Split 50 is 0.2880591361439836\n",
            "Train F1 Score At Depth 3 & Minimum Split 100 is 0.28740212748280336\n",
            "Validation F1 Score At Depth 3 & Minimum Split 100 is 0.2898799510191003\n",
            "Train F1 Score At Depth 3 & Minimum Split 500 is 0.28914189391883205\n",
            "Validation F1 Score At Depth 3 & Minimum Split 500 is 0.2912490582406794\n",
            "___________________________________\n",
            "Train F1 Score At Depth 5 & Minimum Split 5 is 0.27849138632506454\n",
            "Validation F1 Score At Depth 5 & Minimum Split 5 is 0.28075512004829795\n",
            "Train F1 Score At Depth 5 & Minimum Split 20 is 0.28876763854312854\n",
            "Validation F1 Score At Depth 5 & Minimum Split 20 is 0.2910328445479877\n",
            "Train F1 Score At Depth 5 & Minimum Split 50 is 0.2919451443912927\n",
            "Validation F1 Score At Depth 5 & Minimum Split 50 is 0.2934864158235762\n",
            "Train F1 Score At Depth 5 & Minimum Split 100 is 0.2933745620629495\n",
            "Validation F1 Score At Depth 5 & Minimum Split 100 is 0.2949607656370481\n",
            "Train F1 Score At Depth 5 & Minimum Split 500 is 0.2984101422059805\n",
            "Validation F1 Score At Depth 5 & Minimum Split 500 is 0.29890570116184817\n",
            "___________________________________\n",
            "Train F1 Score At Depth 7 & Minimum Split 5 is 0.2828453090499762\n",
            "Validation F1 Score At Depth 7 & Minimum Split 5 is 0.28499907715024\n",
            "Train F1 Score At Depth 7 & Minimum Split 20 is 0.2926718420237862\n",
            "Validation F1 Score At Depth 7 & Minimum Split 20 is 0.2938885798299293\n",
            "Train F1 Score At Depth 7 & Minimum Split 50 is 0.2951424240367429\n",
            "Validation F1 Score At Depth 7 & Minimum Split 50 is 0.29638507898099253\n",
            "Train F1 Score At Depth 7 & Minimum Split 100 is 0.2955464557316174\n",
            "Validation F1 Score At Depth 7 & Minimum Split 100 is 0.296903069813687\n",
            "Train F1 Score At Depth 7 & Minimum Split 500 is 0.29892727830277593\n",
            "Validation F1 Score At Depth 7 & Minimum Split 500 is 0.29954233152290033\n",
            "___________________________________\n",
            "Train F1 Score At Depth 10 & Minimum Split 5 is 0.2867876910722991\n",
            "Validation F1 Score At Depth 10 & Minimum Split 5 is 0.2889321723189734\n",
            "Train F1 Score At Depth 10 & Minimum Split 20 is 0.2958972982897171\n",
            "Validation F1 Score At Depth 10 & Minimum Split 20 is 0.2970985848683691\n",
            "Train F1 Score At Depth 10 & Minimum Split 50 is 0.29772664560561773\n",
            "Validation F1 Score At Depth 10 & Minimum Split 50 is 0.29885160999774824\n",
            "Train F1 Score At Depth 10 & Minimum Split 100 is 0.29772748390148585\n",
            "Validation F1 Score At Depth 10 & Minimum Split 100 is 0.29885160999774824\n",
            "Train F1 Score At Depth 10 & Minimum Split 500 is 0.30026323617729433\n",
            "Validation F1 Score At Depth 10 & Minimum Split 500 is 0.3010870906582003\n",
            "___________________________________\n"
          ],
          "name": "stdout"
        }
      ]
    },
    {
      "cell_type": "code",
      "metadata": {
        "id": "C4L_-MpxrkOq",
        "colab_type": "code",
        "colab": {
          "base_uri": "https://localhost:8080/",
          "height": 50
        },
        "outputId": "d0103308-ff0f-4ddc-bb58-f8076c8d46a9"
      },
      "source": [
        "lgb_final = lgb.LGBMClassifier(boosting_type='gbdt', n_estimators=500, max_depth=10, random_state=21)\n",
        "\n",
        "\n",
        "lgb_final.fit(X_train_meta, Y_train_meta)\n",
        "\n",
        "train_pred = (lgb_final.predict_proba(X_train_meta)[:, 1] >= 0.21).astype('int')\n",
        "cv_pred = (lgb_final.predict_proba(X_cv_meta)[:, 1] >= 0.21).astype('int')\n",
        "\n",
        "\n",
        "train_f1_score = f1_score(train_pred, Y_train_meta) \n",
        "cv_f1_score = f1_score(cv_pred, Y_cv_meta)\n",
        "\n",
        "print(\"Train F1 Score Is {0}\".format(train_f1_score))\n",
        "print(\"Validation F1 Score Is {0}\".format(cv_f1_score))\n",
        "\n",
        "pickle.dump((lgb_final),open('/content/drive/My Drive/Instacart Analysis/tuned_meta_lgb.pkl','wb'))"
      ],
      "execution_count": null,
      "outputs": [
        {
          "output_type": "stream",
          "text": [
            "Train F1 Score Is 0.30068202702816627\n",
            "Validation F1 Score Is 0.3008406568122383\n"
          ],
          "name": "stdout"
        }
      ]
    },
    {
      "cell_type": "markdown",
      "metadata": {
        "id": "cAZirYcio7vU",
        "colab_type": "text"
      },
      "source": [
        "<h1>7. Multilevel Perceptron</h1>"
      ]
    },
    {
      "cell_type": "code",
      "metadata": {
        "id": "AbZx9UskpenE",
        "colab_type": "code",
        "colab": {
          "base_uri": "https://localhost:8080/",
          "height": 33
        },
        "outputId": "761c4b80-73a5-468e-9e03-40ccf8ba57f3"
      },
      "source": [
        "X_train.shape"
      ],
      "execution_count": 8,
      "outputs": [
        {
          "output_type": "execute_result",
          "data": {
            "text/plain": [
              "(6779728, 25)"
            ]
          },
          "metadata": {
            "tags": []
          },
          "execution_count": 8
        }
      ]
    },
    {
      "cell_type": "code",
      "metadata": {
        "id": "8sF820p0pBrS",
        "colab_type": "code",
        "colab": {
          "base_uri": "https://localhost:8080/",
          "height": 407
        },
        "outputId": "a601277e-1b61-4a13-d3d2-deb6d9a300c0"
      },
      "source": [
        "Input_layer = Input(shape=(25,))\n",
        "Dense_1 = Dense(units = 128, activation = 'relu')(Input_layer)\n",
        "Dense_2 = Dense(units = 64, activation = 'relu')(Dense_1)\n",
        "Dropout_1 = Dropout(rate = 0.3)(Dense_2)\n",
        "Dense_3 = Dense( units = 32, activation = 'relu')(Dropout_1)\n",
        "Dense_4 = Dense(units = 20, activation = 'relu')(Dense_3)\n",
        "Dropout_2 = Dropout(rate=0.15)(Dense_4)\n",
        "Dense_final = Dense(units = 1, activation = 'sigmoid')(Dropout_2)\n",
        "MLP_Model = Model(inputs=Input_layer ,outputs=Dense_final)\n",
        "MLP_Model.summary()\n"
      ],
      "execution_count": 11,
      "outputs": [
        {
          "output_type": "stream",
          "text": [
            "Model: \"functional_1\"\n",
            "_________________________________________________________________\n",
            "Layer (type)                 Output Shape              Param #   \n",
            "=================================================================\n",
            "input_1 (InputLayer)         [(None, 25)]              0         \n",
            "_________________________________________________________________\n",
            "dense (Dense)                (None, 128)               3328      \n",
            "_________________________________________________________________\n",
            "dense_1 (Dense)              (None, 64)                8256      \n",
            "_________________________________________________________________\n",
            "dropout (Dropout)            (None, 64)                0         \n",
            "_________________________________________________________________\n",
            "dense_2 (Dense)              (None, 32)                2080      \n",
            "_________________________________________________________________\n",
            "dense_3 (Dense)              (None, 20)                660       \n",
            "_________________________________________________________________\n",
            "dropout_1 (Dropout)          (None, 20)                0         \n",
            "_________________________________________________________________\n",
            "dense_4 (Dense)              (None, 1)                 21        \n",
            "=================================================================\n",
            "Total params: 14,345\n",
            "Trainable params: 14,345\n",
            "Non-trainable params: 0\n",
            "_________________________________________________________________\n"
          ],
          "name": "stdout"
        }
      ]
    },
    {
      "cell_type": "code",
      "metadata": {
        "id": "vm40n43Vp9RF",
        "colab_type": "code",
        "colab": {
          "base_uri": "https://localhost:8080/",
          "height": 757
        },
        "outputId": "e68bbabe-d7be-457c-ad9b-4d1de6366804"
      },
      "source": [
        "import tensorflow\n",
        "tensorflow.keras.utils.plot_model(MLP_Model, show_layer_names=True)"
      ],
      "execution_count": 15,
      "outputs": [
        {
          "output_type": "execute_result",
          "data": {
            "image/png": "[encoded data removed]",
            "text/plain": [
              "<IPython.core.display.Image object>"
            ]
          },
          "metadata": {
            "tags": []
          },
          "execution_count": 15
        }
      ]
    },
    {
      "cell_type": "code",
      "metadata": {
        "id": "NpcWTqUVqwLo",
        "colab_type": "code",
        "colab": {}
      },
      "source": [
        "import tensorflow.keras.backend as K\n",
        "def f1_metric(y_true, y_pred):\n",
        "    true_positives = K.sum(K.round(K.clip(y_true * y_pred, 0, 1)))\n",
        "    possible_positives = K.sum(K.round(K.clip(y_true, 0, 1)))\n",
        "    predicted_positives = K.sum(K.round(K.clip(y_pred, 0, 1)))\n",
        "    precision = true_positives / (predicted_positives + K.epsilon())\n",
        "    recall = true_positives / (possible_positives + K.epsilon())\n",
        "    f1_val = 2*(precision*recall)/(precision+recall+K.epsilon())\n",
        "    return f1_val\n",
        "\n",
        "MLP_Model.compile(optimizer=tensorflow.keras.optimizers.Adam(lr=0.001),loss='binary_crossentropy',metrics=[f1_metric])  "
      ],
      "execution_count": 17,
      "outputs": []
    },
    {
      "cell_type": "code",
      "metadata": {
        "id": "QSpeBkT0s_67",
        "colab_type": "code",
        "colab": {
          "base_uri": "https://localhost:8080/",
          "height": 683
        },
        "outputId": "086cc34a-b6eb-4e02-9c9b-bc45d387548c"
      },
      "source": [
        "MLP_Model.fit(X_train, Y_train, validation_data=(X_test,Y_test), epochs = 20, batch_size=2000, steps_per_epoch=(6779728/2000))"
      ],
      "execution_count": 18,
      "outputs": [
        {
          "output_type": "stream",
          "text": [
            "Epoch 1/20\n",
            "3390/3389 [==============================] - 16s 5ms/step - loss: 0.2593 - f1_metric: 0.2320 - val_loss: 0.2521 - val_f1_metric: 0.2596\n",
            "Epoch 2/20\n",
            "3390/3389 [==============================] - 15s 4ms/step - loss: 0.2536 - f1_metric: 0.2388 - val_loss: 0.2514 - val_f1_metric: 0.1932\n",
            "Epoch 3/20\n",
            "3390/3389 [==============================] - 15s 4ms/step - loss: 0.2524 - f1_metric: 0.2376 - val_loss: 0.2526 - val_f1_metric: 0.1688\n",
            "Epoch 4/20\n",
            "3390/3389 [==============================] - 15s 5ms/step - loss: 0.2520 - f1_metric: 0.2380 - val_loss: 0.2540 - val_f1_metric: 0.1344\n",
            "Epoch 5/20\n",
            "3390/3389 [==============================] - 15s 4ms/step - loss: 0.2518 - f1_metric: 0.2382 - val_loss: 0.2542 - val_f1_metric: 0.0856\n",
            "Epoch 6/20\n",
            "3390/3389 [==============================] - 15s 4ms/step - loss: 0.2516 - f1_metric: 0.2389 - val_loss: 0.2537 - val_f1_metric: 0.1066\n",
            "Epoch 7/20\n",
            "3390/3389 [==============================] - 16s 5ms/step - loss: 0.2515 - f1_metric: 0.2392 - val_loss: 0.2525 - val_f1_metric: 0.1144\n",
            "Epoch 8/20\n",
            "3390/3389 [==============================] - 14s 4ms/step - loss: 0.2514 - f1_metric: 0.2400 - val_loss: 0.2539 - val_f1_metric: 0.0908\n",
            "Epoch 9/20\n",
            "3390/3389 [==============================] - 14s 4ms/step - loss: 0.2514 - f1_metric: 0.2393 - val_loss: 0.2539 - val_f1_metric: 0.1221\n",
            "Epoch 10/20\n",
            "3390/3389 [==============================] - 16s 5ms/step - loss: 0.2513 - f1_metric: 0.2401 - val_loss: 0.2539 - val_f1_metric: 0.0726\n",
            "Epoch 11/20\n",
            "3390/3389 [==============================] - 14s 4ms/step - loss: 0.2513 - f1_metric: 0.2393 - val_loss: 0.2543 - val_f1_metric: 0.0765\n",
            "Epoch 12/20\n",
            "3390/3389 [==============================] - 14s 4ms/step - loss: 0.2513 - f1_metric: 0.2404 - val_loss: 0.2535 - val_f1_metric: 0.1134\n",
            "Epoch 13/20\n",
            "3390/3389 [==============================] - 14s 4ms/step - loss: 0.2513 - f1_metric: 0.2398 - val_loss: 0.2539 - val_f1_metric: 0.0822\n",
            "Epoch 14/20\n",
            "3390/3389 [==============================] - 15s 4ms/step - loss: 0.2512 - f1_metric: 0.2405 - val_loss: 0.2543 - val_f1_metric: 0.1070\n",
            "Epoch 15/20\n",
            "3390/3389 [==============================] - 14s 4ms/step - loss: 0.2512 - f1_metric: 0.2403 - val_loss: 0.2536 - val_f1_metric: 0.1004\n",
            "Epoch 16/20\n",
            "3390/3389 [==============================] - 14s 4ms/step - loss: 0.2511 - f1_metric: 0.2406 - val_loss: 0.2536 - val_f1_metric: 0.1059\n",
            "Epoch 17/20\n",
            "3390/3389 [==============================] - 14s 4ms/step - loss: 0.2511 - f1_metric: 0.2395 - val_loss: 0.2527 - val_f1_metric: 0.1081\n",
            "Epoch 18/20\n",
            "3390/3389 [==============================] - 14s 4ms/step - loss: 0.2510 - f1_metric: 0.2408 - val_loss: 0.2537 - val_f1_metric: 0.0933\n",
            "Epoch 19/20\n",
            "3390/3389 [==============================] - 14s 4ms/step - loss: 0.2510 - f1_metric: 0.2398 - val_loss: 0.2534 - val_f1_metric: 0.1102\n",
            "Epoch 20/20\n",
            "3390/3389 [==============================] - 14s 4ms/step - loss: 0.2510 - f1_metric: 0.2413 - val_loss: 0.2545 - val_f1_metric: 0.0813\n"
          ],
          "name": "stdout"
        },
        {
          "output_type": "execute_result",
          "data": {
            "text/plain": [
              "<tensorflow.python.keras.callbacks.History at 0x7f2df4036a90>"
            ]
          },
          "metadata": {
            "tags": []
          },
          "execution_count": 18
        }
      ]
    },
    {
      "cell_type": "markdown",
      "metadata": {
        "id": "I41I8j7_h08B",
        "colab_type": "text"
      },
      "source": [
        "<h2>Feature Importance</h2>"
      ]
    },
    {
      "cell_type": "code",
      "metadata": {
        "id": "-ACGsPmdh7yI",
        "colab_type": "code",
        "colab": {
          "base_uri": "https://localhost:8080/",
          "height": 311
        },
        "outputId": "3ce45755-48a0-4960-ef95-8a10381a6ef9"
      },
      "source": [
        "lgb.plot_importance(lgb_tuned)"
      ],
      "execution_count": null,
      "outputs": [
        {
          "output_type": "execute_result",
          "data": {
            "text/plain": [
              "<matplotlib.axes._subplots.AxesSubplot at 0x7f3688f0b860>"
            ]
          },
          "metadata": {
            "tags": []
          },
          "execution_count": 100
        },
        {
          "output_type": "display_data",
          "data": {
            "image/png": "[encoded data removed]",
            "text/plain": [
              "<Figure size 432x288 with 1 Axes>"
            ]
          },
          "metadata": {
            "tags": [],
            "needs_background": "light"
          }
        }
      ]
    },
    {
      "cell_type": "markdown",
      "metadata": {
        "id": "vSCdXRAGwgVB",
        "colab_type": "text"
      },
      "source": [
        "**Observation**\n",
        "\n",
        "1. Although every model has almost similar results on both train and validation.\n",
        "\n",
        "2. But still Light GBM has bit better results. \n",
        "\n",
        "3. Will create final prediction data with Light GBM\n",
        "\n",
        "<h2>Function To Predict On Test Data </h2>"
      ]
    },
    {
      "cell_type": "code",
      "metadata": {
        "id": "MkZ_ZDiNyC-c",
        "colab_type": "code",
        "colab": {}
      },
      "source": [
        "test_data.replace([np.inf, -np.inf], np.nan, inplace=True)\n",
        "test_data.fillna(X.mean(), inplace=True)\n",
        "\n",
        "final_test = normalize(test_data)"
      ],
      "execution_count": 19,
      "outputs": []
    },
    {
      "cell_type": "code",
      "metadata": {
        "id": "fqR_kE8Yv5jH",
        "colab_type": "code",
        "colab": {}
      },
      "source": [
        "# This function performs prediction on test data by taking the model, test data and dataframe as input\n",
        "\n",
        "def predict_final(data_point, model):\n",
        "  new_data = data_point.copy()\n",
        "  if (model==MLP_Model):\n",
        "      new_data['prediction'] = (model.predict(data_point)).astype('int')\n",
        "      new_data = new_data.reset_index()  \n",
        "  else:\n",
        "      new_data['prediction'] = (model.predict_proba(data_point)[:, 1] >= 0.21).astype('int')\n",
        "      new_data = new_data.reset_index()\n",
        "\n",
        "  final_test_data = new_data[['product_id', 'user_id', 'prediction']]\n",
        "\n",
        "  # We are getting the user_id and order_id which belongs to \"Test Set\"\n",
        "  orders = pd.read_csv('/content/drive/My Drive/Instacart Analysis/orders.csv')\n",
        "  test_from_order = orders.loc[orders['eval_set']=='test',['user_id','order_id']]\n",
        "\n",
        "  # Calling the predict function by passing the test data and model by which prediction is to be done\n",
        "  # Merging the whole data with real test data using user_id which gives us 75000 test points\n",
        "\n",
        "  \n",
        "  predicted_results = pd.merge(final_test_data, test_from_order, how='left', on='user_id')\n",
        "  predicted_results = predicted_results.drop('user_id',axis=1)\n",
        "  print(predicted_results.isnull().any().sum())\n",
        "\n",
        "  return predicted_results"
      ],
      "execution_count": 26,
      "outputs": []
    },
    {
      "cell_type": "markdown",
      "metadata": {
        "id": "Sg37EczO2Ymu",
        "colab_type": "text"
      },
      "source": [
        "<h2>Creating the submission file with the final dataframe</h2>"
      ]
    },
    {
      "cell_type": "code",
      "metadata": {
        "id": "GH2f7rNt1-Dk",
        "colab_type": "code",
        "colab": {}
      },
      "source": [
        "# This function takes the final dataframe and creates the submission file\n",
        "\n",
        "def create_submission_file(final_df):\n",
        "    user_product = dict()\n",
        "\n",
        "    for row in tqdm(final_df.itertuples()):\n",
        "        if row.prediction== 1:\n",
        "            try:\n",
        "                user_product[row.order_id] += ' ' + str(row.product_id)\n",
        "            except:\n",
        "                user_product[row.order_id] = str(row.product_id)\n",
        "\n",
        "    for order in final_df.order_id:\n",
        "        if order not in user_product:\n",
        "            user_product[order] = 'None'\n",
        "\n",
        "    sub = pd.DataFrame.from_dict(user_product, orient='index')\n",
        "    #Reset index\n",
        "    sub.reset_index(inplace=True)\n",
        "    #Set column names\n",
        "    sub.columns = ['order_id', 'products']\n",
        "    \n",
        "    return sub\n",
        "\n",
        "def final_predict_function(final_df):\n",
        "    user_product = dict()\n",
        "\n",
        "    for row in tqdm(final_df.itertuples()):\n",
        "        if row.prediction== 1:\n",
        "            try:\n",
        "                user_product[row.order_id] += ' ' + str(row.product_id)\n",
        "            except:\n",
        "                user_product[row.order_id] = str(row.product_id)\n",
        "\n",
        "    for order in final_df.order_id:\n",
        "        if order not in user_product:\n",
        "            user_product[order] = 'None'    \n",
        "    return user_product            "
      ],
      "execution_count": 24,
      "outputs": []
    },
    {
      "cell_type": "markdown",
      "metadata": {
        "id": "qyg8T8cY1vyu",
        "colab_type": "text"
      },
      "source": [
        "<h2>Prediction & Submission File By Each Model</h2>\n",
        "\n",
        "<h3>1. Logistic Regression</h3>"
      ]
    },
    {
      "cell_type": "code",
      "metadata": {
        "id": "_Ew51ssp1sEP",
        "colab_type": "code",
        "colab": {
          "base_uri": "https://localhost:8080/",
          "height": 50
        },
        "outputId": "51a438dc-50ec-48d8-da88-7612fc402ad8"
      },
      "source": [
        "lr_predicted_df = predict_final(final_test, lr)\n",
        "lr_submission_file = create_submission_file(lr_predicted_df)\n",
        "lr_submission_file.to_csv('/content/drive/My Drive/Submission Files/logistic_regression_submission.csv',index=False, header=True)"
      ],
      "execution_count": null,
      "outputs": [
        {
          "output_type": "stream",
          "text": [
            "71252it [00:00, 712517.28it/s]"
          ],
          "name": "stderr"
        },
        {
          "output_type": "stream",
          "text": [
            "0\n"
          ],
          "name": "stdout"
        },
        {
          "output_type": "stream",
          "text": [
            "4833292it [00:06, 772587.92it/s]\n"
          ],
          "name": "stderr"
        }
      ]
    },
    {
      "cell_type": "code",
      "metadata": {
        "id": "cOD0W1iTv3qP",
        "colab_type": "code",
        "colab": {
          "base_uri": "https://localhost:8080/",
          "height": 33
        },
        "outputId": "c049b5a0-e468-4be1-dc8c-8b82b17fa8d2"
      },
      "source": [
        "print(\"F1 Score on Test Data From Kaggle 0.359470\")"
      ],
      "execution_count": null,
      "outputs": [
        {
          "output_type": "stream",
          "text": [
            "F1 Score on Test Data From Kaggle 0.359470\n"
          ],
          "name": "stdout"
        }
      ]
    },
    {
      "cell_type": "markdown",
      "metadata": {
        "id": "uFFeYXBr6uBc",
        "colab_type": "text"
      },
      "source": [
        "<h3>2. Decision Tree</h3>"
      ]
    },
    {
      "cell_type": "code",
      "metadata": {
        "id": "vjqdCEpC68cu",
        "colab_type": "code",
        "colab": {
          "base_uri": "https://localhost:8080/",
          "height": 50
        },
        "outputId": "98a98050-2d20-4614-b8ef-ea1072bb5b2f"
      },
      "source": [
        "dtree_predicted_df = predict_final(final_test, dtree_tuned)\n",
        "dtree_submission_file = create_submission_file(dtree_predicted_df)\n",
        "\n",
        "dtree_submission_file.to_csv('/content/drive/My Drive/Submission Files/Decision_Tree_Submission.csv', index=False, header=True)"
      ],
      "execution_count": null,
      "outputs": [
        {
          "output_type": "stream",
          "text": [
            "70391it [00:00, 703907.31it/s]"
          ],
          "name": "stderr"
        },
        {
          "output_type": "stream",
          "text": [
            "0\n"
          ],
          "name": "stdout"
        },
        {
          "output_type": "stream",
          "text": [
            "4833292it [00:06, 743968.04it/s]\n"
          ],
          "name": "stderr"
        }
      ]
    },
    {
      "cell_type": "code",
      "metadata": {
        "id": "VBTnwtvLwBpu",
        "colab_type": "code",
        "colab": {
          "base_uri": "https://localhost:8080/",
          "height": 33
        },
        "outputId": "c5474614-4f45-4739-beea-e27e0f160e18"
      },
      "source": [
        "print(\"F1 Score on Test Data From Kaggle 0.366460\")"
      ],
      "execution_count": null,
      "outputs": [
        {
          "output_type": "stream",
          "text": [
            "F1 Score on Test Data From Kaggle 0.366460\n"
          ],
          "name": "stdout"
        }
      ]
    },
    {
      "cell_type": "markdown",
      "metadata": {
        "id": "aWD6XS847T0Z",
        "colab_type": "text"
      },
      "source": [
        "<h3>3. Random Forest</h3>"
      ]
    },
    {
      "cell_type": "code",
      "metadata": {
        "id": "iLzh8_uNnMax",
        "colab_type": "code",
        "colab": {
          "base_uri": "https://localhost:8080/",
          "height": 50
        },
        "outputId": "4df67520-1aee-4bea-a637-89ec5cdeb8fc"
      },
      "source": [
        "random_forest_predicted_df = predict_final(final_test, rf_tuned)\n",
        "random_forest_submission_file = create_submission_file(random_forest_predicted_df)\n",
        "\n",
        "random_forest_submission_file.to_csv('/content/drive/My Drive/Submission Files/random_forest_submission.csv', index=False, header=True)"
      ],
      "execution_count": null,
      "outputs": [
        {
          "output_type": "stream",
          "text": [
            "88649it [00:00, 886484.50it/s]"
          ],
          "name": "stderr"
        },
        {
          "output_type": "stream",
          "text": [
            "0\n"
          ],
          "name": "stdout"
        },
        {
          "output_type": "stream",
          "text": [
            "4833292it [00:05, 953017.29it/s]\n"
          ],
          "name": "stderr"
        }
      ]
    },
    {
      "cell_type": "code",
      "metadata": {
        "id": "TVtrfyM1thDB",
        "colab_type": "code",
        "colab": {
          "base_uri": "https://localhost:8080/",
          "height": 33
        },
        "outputId": "859ca0de-b7eb-4ba9-a0eb-b4ed43bd609d"
      },
      "source": [
        "print(\"F1 Score on Test Data From Kaggle 0.366450\")"
      ],
      "execution_count": null,
      "outputs": [
        {
          "output_type": "stream",
          "text": [
            "F1 Score on Test Data From Kaggle 0.366450\n"
          ],
          "name": "stdout"
        }
      ]
    },
    {
      "cell_type": "markdown",
      "metadata": {
        "id": "g3d5fv3m7ZWJ",
        "colab_type": "text"
      },
      "source": [
        "<h3>4. Light GBM</h3>"
      ]
    },
    {
      "cell_type": "code",
      "metadata": {
        "id": "8qY-Uljy68p-",
        "colab_type": "code",
        "colab": {}
      },
      "source": [
        "lgb_predicted_df = predict_final(final_test, lgb_tuned)\n",
        "lgb_submission_file = create_submission_file(lgb_predicted_df)\n",
        "\n",
        "lgb_submission_file.to_csv('/content/drive/My Drive/Submission Files/light_gbm_submission.csv', index=False, header=True)"
      ],
      "execution_count": null,
      "outputs": []
    },
    {
      "cell_type": "code",
      "metadata": {
        "id": "tuqpTD78wEBy",
        "colab_type": "code",
        "colab": {
          "base_uri": "https://localhost:8080/",
          "height": 33
        },
        "outputId": "ed20a1f4-ba32-40c0-abe8-fbf85988b474"
      },
      "source": [
        "print(\"F1 Score on Test Data From Kaggle 0.363680\")"
      ],
      "execution_count": null,
      "outputs": [
        {
          "output_type": "stream",
          "text": [
            "F1 Score on Test Data From Kaggle 0.363680\n"
          ],
          "name": "stdout"
        }
      ]
    },
    {
      "cell_type": "markdown",
      "metadata": {
        "id": "wZkAkMpQ77zK",
        "colab_type": "text"
      },
      "source": [
        "<h3>5. Stacked Model</h3>"
      ]
    },
    {
      "cell_type": "code",
      "metadata": {
        "id": "BzhQtz1m8BFn",
        "colab_type": "code",
        "colab": {
          "base_uri": "https://localhost:8080/",
          "height": 50
        },
        "outputId": "7c56d91b-0934-4aef-8298-7bccd182e2dc"
      },
      "source": [
        "stacked_predicted_df = predict_final(final_test, stack_classifier)\n",
        "stacked_submission_file = create_submission_file(stacked_predicted_df)\n",
        "\n",
        "stacked_submission_file.to_csv('/content/drive/My Drive/Submission Files/stacked_submission.csv', index=False, header=True)    "
      ],
      "execution_count": null,
      "outputs": [
        {
          "output_type": "stream",
          "text": [
            "74658it [00:00, 746573.59it/s]"
          ],
          "name": "stderr"
        },
        {
          "output_type": "stream",
          "text": [
            "0\n"
          ],
          "name": "stdout"
        },
        {
          "output_type": "stream",
          "text": [
            "4833292it [00:05, 877524.22it/s]\n"
          ],
          "name": "stderr"
        }
      ]
    },
    {
      "cell_type": "code",
      "metadata": {
        "id": "TNYQPny1IzbY",
        "colab_type": "code",
        "colab": {
          "base_uri": "https://localhost:8080/",
          "height": 33
        },
        "outputId": "4fb94fbe-104b-46ed-a2b3-88b97c4a2843"
      },
      "source": [
        "print(\"F1 Score on Test Data From Kaggle 0.255930\")"
      ],
      "execution_count": 30,
      "outputs": [
        {
          "output_type": "stream",
          "text": [
            "F1 Score on Test Data From Kaggle 0.255930\n"
          ],
          "name": "stdout"
        }
      ]
    },
    {
      "cell_type": "markdown",
      "metadata": {
        "id": "X38RZDrkfAqk",
        "colab_type": "text"
      },
      "source": [
        "<h3>6. Meta Classifier</h3>"
      ]
    },
    {
      "cell_type": "code",
      "metadata": {
        "id": "eWuYkBMIfW7F",
        "colab_type": "code",
        "colab": {
          "base_uri": "https://localhost:8080/",
          "height": 33
        },
        "outputId": "60b46c1a-351f-441a-d11b-462950c6d9dd"
      },
      "source": [
        "meta_final_df = final_test.copy()\n",
        "test_prediction_df = prediction_test(models, meta_final_df)\n",
        "test_pred = (lgb_final.predict_proba(test_prediction_df)[:, 1] >= 0.21).astype('int')\n",
        "meta_final_df['prediction'] = test_pred\n",
        "\n",
        "meta_final_df = meta_final_df.reset_index()\n",
        "\n",
        "meta_test_data = meta_final_df[['product_id', 'user_id', 'prediction']]\n",
        "\n",
        "# We are getting the user_id and order_id which belongs to \"Test Set\"\n",
        "orders = pd.read_csv('/content/drive/My Drive/Instacart Analysis/orders.csv')\n",
        "test_from_orders = orders.loc[orders['eval_set']=='test',['user_id','order_id']]\n",
        "\n",
        "# Calling the predict function by passing the test data and model by which prediction is to be done\n",
        "# Merging the whole data with real test data using user_id which gives us 75000 test points\n",
        "\n",
        "  \n",
        "predicted_results_meta = pd.merge(meta_test_data, test_from_orders, how='left', on='user_id')\n",
        "predicted_results_meta = predicted_results_meta.drop('user_id',axis=1)\n",
        "print(predicted_results_meta.isnull().any().sum())"
      ],
      "execution_count": null,
      "outputs": [
        {
          "output_type": "stream",
          "text": [
            "0\n"
          ],
          "name": "stdout"
        }
      ]
    },
    {
      "cell_type": "code",
      "metadata": {
        "id": "mtX_-CK2g1ci",
        "colab_type": "code",
        "colab": {
          "base_uri": "https://localhost:8080/",
          "height": 33
        },
        "outputId": "c640cfc5-49c2-4ce6-910a-9ed03de5578c"
      },
      "source": [
        "meta_classifier_submission_file = create_submission_file(predicted_results_meta)\n",
        "meta_classifier_submission_file.to_csv('/content/drive/My Drive/Submission Files/meta_classifier_submission.csv',index=False, header=True)"
      ],
      "execution_count": null,
      "outputs": [
        {
          "output_type": "stream",
          "text": [
            "4833292it [00:05, 907184.79it/s]\n"
          ],
          "name": "stderr"
        }
      ]
    },
    {
      "cell_type": "code",
      "metadata": {
        "id": "naXXIkwRwGLR",
        "colab_type": "code",
        "colab": {
          "base_uri": "https://localhost:8080/",
          "height": 33
        },
        "outputId": "7daaa352-482d-47fd-f9a8-3c99fbfe4232"
      },
      "source": [
        "print(\"F1 Score on Test Data From Kaggle 0.280000\")"
      ],
      "execution_count": null,
      "outputs": [
        {
          "output_type": "stream",
          "text": [
            "F1 Score on Test Data From Kaggle 0.280000\n"
          ],
          "name": "stdout"
        }
      ]
    },
    {
      "cell_type": "markdown",
      "metadata": {
        "id": "H2_pQ_MSezuU",
        "colab_type": "text"
      },
      "source": [
        "<h3>7. Multi Layer Perceptron </h3>"
      ]
    },
    {
      "cell_type": "code",
      "metadata": {
        "id": "mAScbuHoe7nU",
        "colab_type": "code",
        "colab": {
          "base_uri": "https://localhost:8080/",
          "height": 50
        },
        "outputId": "d235e44a-7a7d-49f9-c81c-2696ac6487d2"
      },
      "source": [
        "mlp_predicted_df = predict_final(final_test, MLP_Model)\n",
        "mlp_submission_file = create_submission_file(mlp_predicted_df)\n",
        "\n",
        "mlp_submission_file.to_csv('/content/drive/My Drive/Submission Files/mlp_submission.csv', index=False, header=True)    "
      ],
      "execution_count": 29,
      "outputs": [
        {
          "output_type": "stream",
          "text": [
            "82643it [00:00, 826395.32it/s]"
          ],
          "name": "stderr"
        },
        {
          "output_type": "stream",
          "text": [
            "0\n"
          ],
          "name": "stdout"
        },
        {
          "output_type": "stream",
          "text": [
            "4833292it [00:04, 1112900.61it/s]\n"
          ],
          "name": "stderr"
        }
      ]
    },
    {
      "cell_type": "code",
      "metadata": {
        "id": "uty063CGfLdw",
        "colab_type": "code",
        "colab": {}
      },
      "source": [
        "print(\"F1 Score on Test Data From Kaggle 0.255930\")"
      ],
      "execution_count": null,
      "outputs": []
    },
    {
      "cell_type": "markdown",
      "metadata": {
        "id": "4j9Wc9YAt11t",
        "colab_type": "text"
      },
      "source": [
        "<h1>Comparing Results Of Each Model</h1>"
      ]
    },
    {
      "cell_type": "code",
      "metadata": {
        "id": "PXeL6e0DxJtv",
        "colab_type": "code",
        "colab": {
          "base_uri": "https://localhost:8080/",
          "height": 196
        },
        "outputId": "8ad8de3d-f949-4126-ef59-284652e90edf"
      },
      "source": [
        "from prettytable import PrettyTable\n",
        "\n",
        "table = PrettyTable()\n",
        "table.field_names = [\"Model\", \"Train F1 Score\", \"Validation F1 Score\", \"Kaggle Test F1 Score\"]\n",
        "table.add_row([\"Logistic Regression\", 0.414431, 0.415396, 0.359470])\n",
        "table.add_row([\"Decision Tree\", 0.425405, 0.423107, 0.366460])           \n",
        "table.add_row([\"Random Forest\", 0.425082, 0.422441, 0.366450])\n",
        "table.add_row([\"Light GBM\", 0.432666, 0.428093, 0.363680])\n",
        "table.add_row([\"Stacked Model\",  0.298419, 0.294584, 0.255930])\n",
        "table.add_row([\"Meta Classifier\",  0.294019, 0.295305, 0.28001])\n",
        "table.add_row([\"Multi Level Perceptron\",  0.241301, 0.081301, 0.063320])\n",
        "\n",
        "print(table) "
      ],
      "execution_count": 31,
      "outputs": [
        {
          "output_type": "stream",
          "text": [
            "+------------------------+----------------+---------------------+----------------------+\n",
            "|         Model          | Train F1 Score | Validation F1 Score | Kaggle Test F1 Score |\n",
            "+------------------------+----------------+---------------------+----------------------+\n",
            "|  Logistic Regression   |    0.414431    |       0.415396      |       0.35947        |\n",
            "|     Decision Tree      |    0.425405    |       0.423107      |       0.36646        |\n",
            "|     Random Forest      |    0.425082    |       0.422441      |       0.36645        |\n",
            "|       Light GBM        |    0.432666    |       0.428093      |       0.36368        |\n",
            "|     Stacked Model      |    0.298419    |       0.294584      |       0.25593        |\n",
            "|    Meta Classifier     |    0.294019    |       0.295305      |       0.28001        |\n",
            "| Multi Level Perceptron |    0.241301    |       0.081301      |       0.06332        |\n",
            "+------------------------+----------------+---------------------+----------------------+\n"
          ],
          "name": "stdout"
        }
      ]
    },
    {
      "cell_type": "markdown",
      "metadata": {
        "id": "kQobqgvshtKA",
        "colab_type": "text"
      },
      "source": [
        "<h1> Observation</h1>\n",
        "\n",
        "Decision Tree is the best model with Test F1-Score of 0.36646\n",
        "\n",
        "So will use product dataframe generated by decision tree"
      ]
    },
    {
      "cell_type": "markdown",
      "metadata": {
        "id": "aiQYWXFHZDVD",
        "colab_type": "text"
      },
      "source": [
        "<h1>Final Predict Function</h1>"
      ]
    },
    {
      "cell_type": "markdown",
      "metadata": {
        "id": "f2dB8PPukaVY",
        "colab_type": "text"
      },
      "source": [
        "1. Here our task is to predict the products which are going to be reordered withn in a certain order id.\n",
        "\n",
        "2. So for final predict function it can never expect any new order-id or a new user. As if the order-id or user is new there is no chance of any product being reordered when products are never ordered before.\n",
        "\n",
        "3. This can be seen as cold-start problem.\n",
        "\n",
        "4. So for my final predict function I followed below approach.\n",
        "I took all the prediction from train, validation and test so when a order-id comes and we already have that order-id the function returns list of all the products which can be reordered.\n",
        "\n",
        "5. Still, there was a issue in above approach as I tried to concat train, validaton, test prediction and build a dictionary consisting of order id and product id. But the problem was it was not possible to do so. As it was taking huge amount of time even after I left it to run overnight session got crashed/disconnected itself. So can't use the same approach.\n",
        "\n",
        "6. Time taken last night was\n",
        "13094627it [9:57:59, 127.73it/s]\n",
        "\n",
        "7. So alternative of that I have just taken the test data and predict function work on top of that.\n",
        "\n",
        "8. Since that approach was not working I removed that code to make notebook look more clean."
      ]
    },
    {
      "cell_type": "markdown",
      "metadata": {
        "id": "8a4lWVO6mbFs",
        "colab_type": "text"
      },
      "source": [
        "<h1>Function For Prediction</h1>"
      ]
    },
    {
      "cell_type": "code",
      "metadata": {
        "id": "3fpTUczDi7kW",
        "colab_type": "code",
        "colab": {
          "base_uri": "https://localhost:8080/",
          "height": 33
        },
        "outputId": "a714b709-c4d1-4897-d098-2a604aab5d64"
      },
      "source": [
        "user_product = final_predict_function(dtree_predicted_df)\n",
        "\n",
        "def pred(order_id, prediction_dict = user_product):    \n",
        "    product_list = user_product.get(order_id,\"The order id does not exist! The user is new so no point of product being reordered\")\n",
        "    return product_list\n"
      ],
      "execution_count": null,
      "outputs": [
        {
          "output_type": "stream",
          "text": [
            "4833292it [00:05, 867771.11it/s]\n"
          ],
          "name": "stderr"
        }
      ]
    },
    {
      "cell_type": "code",
      "metadata": {
        "id": "T0OsgoS9j8_a",
        "colab_type": "code",
        "colab": {}
      },
      "source": [
        "products = pd.read_csv('/content/drive/My Drive/Instacart Analysis/products.csv')"
      ],
      "execution_count": null,
      "outputs": []
    },
    {
      "cell_type": "code",
      "metadata": {
        "id": "PQbKRMXllV2b",
        "colab_type": "code",
        "colab": {
          "base_uri": "https://localhost:8080/",
          "height": 133
        },
        "outputId": "36e44d9c-40b8-4106-eb94-3676a65c662c"
      },
      "source": [
        "products.head(3)"
      ],
      "execution_count": null,
      "outputs": [
        {
          "output_type": "execute_result",
          "data": {
            "text/html": [
              "<div>\n",
              "<style scoped>\n",
              "    .dataframe tbody tr th:only-of-type {\n",
              "        vertical-align: middle;\n",
              "    }\n",
              "\n",
              "    .dataframe tbody tr th {\n",
              "        vertical-align: top;\n",
              "    }\n",
              "\n",
              "    .dataframe thead th {\n",
              "        text-align: right;\n",
              "    }\n",
              "</style>\n",
              "<table border=\"1\" class=\"dataframe\">\n",
              "  <thead>\n",
              "    <tr style=\"text-align: right;\">\n",
              "      <th></th>\n",
              "      <th>product_id</th>\n",
              "      <th>product_name</th>\n",
              "      <th>aisle_id</th>\n",
              "      <th>department_id</th>\n",
              "    </tr>\n",
              "  </thead>\n",
              "  <tbody>\n",
              "    <tr>\n",
              "      <th>0</th>\n",
              "      <td>1</td>\n",
              "      <td>Chocolate Sandwich Cookies</td>\n",
              "      <td>61</td>\n",
              "      <td>19</td>\n",
              "    </tr>\n",
              "    <tr>\n",
              "      <th>1</th>\n",
              "      <td>2</td>\n",
              "      <td>All-Seasons Salt</td>\n",
              "      <td>104</td>\n",
              "      <td>13</td>\n",
              "    </tr>\n",
              "    <tr>\n",
              "      <th>2</th>\n",
              "      <td>3</td>\n",
              "      <td>Robust Golden Unsweetened Oolong Tea</td>\n",
              "      <td>94</td>\n",
              "      <td>7</td>\n",
              "    </tr>\n",
              "  </tbody>\n",
              "</table>\n",
              "</div>"
            ],
            "text/plain": [
              "   product_id                          product_name  aisle_id  department_id\n",
              "0           1            Chocolate Sandwich Cookies        61             19\n",
              "1           2                      All-Seasons Salt       104             13\n",
              "2           3  Robust Golden Unsweetened Oolong Tea        94              7"
            ]
          },
          "metadata": {
            "tags": []
          },
          "execution_count": 39
        }
      ]
    },
    {
      "cell_type": "code",
      "metadata": {
        "id": "EarN1gysmo8z",
        "colab_type": "code",
        "colab": {
          "base_uri": "https://localhost:8080/",
          "height": 375
        },
        "outputId": "6e22c67c-6c02-40a2-b7b9-d8caaff9f70a"
      },
      "source": [
        "test_point_success = pred(2897111)\n",
        "test_point_fail = pred(2897)\n",
        "\n",
        "product_name = list()\n",
        "for i in test_point_success.split(\" \"):\n",
        "    product_name.append(i)\n",
        "\n",
        "product_list = products[products['product_id'].isin(product_name)]['product_name']\n",
        "\n",
        "print(\"Valid Case\")\n",
        "print('Products to be re-ordered are: ')\n",
        "print(product_list)\n",
        "print(\"_\"*80)\n",
        "print(\"Invalid Case\", test_point_fail)"
      ],
      "execution_count": null,
      "outputs": [
        {
          "output_type": "stream",
          "text": [
            "Valid Case\n",
            "Products to be re-ordered are: \n",
            "2304                                Baby Persian Cucumbers\n",
            "3799                     Hampshire 100% Natural Sour Cream\n",
            "5449                                    Small Hass Avocado\n",
            "5817                                           White Onion\n",
            "13965                                      Chicken Pot Pie\n",
            "17007                        Shredded Sharp Cheddar Cheese\n",
            "17680                           Puffed Wheat Cereal Cereal\n",
            "21136                                 Organic Strawberries\n",
            "24851                                               Banana\n",
            "30134                               Cheddar Cheese Burrito\n",
            "30226              Bag of Dutch Yellow Fingerling Potatoes\n",
            "31267                                        Sandwich Bags\n",
            "35913                      Dha Omega 3 Reduced Fat 2% Milk\n",
            "38562                        Mint Chocolate Chip Ice Cream\n",
            "40909                                            Root Beer\n",
            "44565                                      Thick Cut Bacon\n",
            "49415    Organic Gluten Free Non-Dairy Beans & Rice Bur...\n",
            "Name: product_name, dtype: object\n",
            "________________________________________________________________________________\n",
            "Invalid Case The order id does not exist! The user is new so no point of product being reordered\n"
          ],
          "name": "stdout"
        }
      ]
    },
    {
      "cell_type": "code",
      "metadata": {
        "id": "pQR6MSl0jOvD",
        "colab_type": "code",
        "colab": {}
      },
      "source": [
        ""
      ],
      "execution_count": null,
      "outputs": []
    }
  ]
}