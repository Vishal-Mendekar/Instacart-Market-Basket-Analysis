{
  "nbformat": 4,
  "nbformat_minor": 0,
  "metadata": {
    "kernelspec": {
      "display_name": "Python 3",
      "language": "python",
      "name": "python3"
    },
    "language_info": {
      "codemirror_mode": {
        "name": "ipython",
        "version": 3
      },
      "file_extension": ".py",
      "mimetype": "text/x-python",
      "name": "python",
      "nbconvert_exporter": "python",
      "pygments_lexer": "ipython3",
      "version": "3.5.3"
    },
    "colab": {
      "name": "My Approach_final.ipynb",
      "provenance": [],
      "collapsed_sections": []
    }
  },
  "cells": [
    {
      "cell_type": "markdown",
      "metadata": {
        "id": "xXrG-Y1Fp7V8",
        "colab_type": "text"
      },
      "source": [
        "Ref:https://www.kaggle.com/errolpereira/xgboost-with-feature-engineering/data#Model-Building.\n",
        "\n",
        "1. I followed above kernel. \n",
        "\n",
        "2. Earlier I was merging all dataframes and creating features. This time I used the same approach as reference. \n",
        "\n",
        "3.The features used in reference are the most common features so I too have them. Along with this I tried some new 5-6 features too."
      ]
    },
    {
      "cell_type": "code",
      "metadata": {
        "id": "i_zFuXV0mm8w",
        "colab_type": "code",
        "colab": {
          "base_uri": "https://localhost:8080/",
          "height": 34
        },
        "outputId": "33ac47d3-1ebf-470f-abb8-55f4d5f2330f"
      },
      "source": [
        "from google.colab import drive\n",
        "drive.mount('/content/drive')"
      ],
      "execution_count": null,
      "outputs": [
        {
          "output_type": "stream",
          "text": [
            "Drive already mounted at /content/drive; to attempt to forcibly remount, call drive.mount(\"/content/drive\", force_remount=True).\n"
          ],
          "name": "stdout"
        }
      ]
    },
    {
      "cell_type": "code",
      "metadata": {
        "id": "CKyGa1PRmOiZ",
        "colab_type": "code",
        "colab": {}
      },
      "source": [
        "# Import Statements\n",
        "import warnings\n",
        "warnings.filterwarnings(\"ignore\")\n",
        "\n",
        "from sklearn.model_selection import train_test_split, GridSearchCV, KFold\n",
        "from sklearn.metrics import confusion_matrix, f1_score\n",
        "from sklearn.calibration import CalibratedClassifierCV\n",
        "from sklearn.model_selection import train_test_split\n",
        "from sklearn.ensemble import RandomForestClassifier\n",
        "from sklearn.linear_model import LogisticRegression\n",
        "from sklearn.neighbors import KNeighborsClassifier\n",
        "from sklearn.tree import DecisionTreeClassifier\n",
        "from scipy import stats\n",
        "from tqdm import tqdm\n",
        "import pandas as pd\n",
        "import numpy as np\n",
        "import pickle\n",
        "import gc\n",
        "import os"
      ],
      "execution_count": null,
      "outputs": []
    },
    {
      "cell_type": "code",
      "metadata": {
        "id": "z1vv_8XKmOij",
        "colab_type": "code",
        "colab": {}
      },
      "source": [
        "# Importing each csv files\n",
        "aisles = pd.read_csv('/content/drive/My Drive/Instacart Analysis/aisles.csv')\n",
        "\n",
        "department = pd.read_csv('/content/drive/My Drive/Instacart Analysis/departments.csv')\n",
        "\n",
        "orders = pd.read_csv('/content/drive/My Drive/Instacart Analysis/orders.csv')\n",
        "\n",
        "products = pd.read_csv('/content/drive/My Drive/Instacart Analysis/products.csv')\n",
        "\n",
        "prior = pd.read_csv('/content/drive/My Drive/Instacart Analysis/order_products_prior.csv')\n",
        "\n",
        "train = pd.read_csv('/content/drive/My Drive/Instacart Analysis/order_products_train.csv')\n",
        "\n",
        "submission = pd.read_csv('/content/drive/My Drive/Instacart Analysis/sample_submission.csv')"
      ],
      "execution_count": null,
      "outputs": []
    },
    {
      "cell_type": "code",
      "metadata": {
        "id": "wboT3tt_mOip",
        "colab_type": "code",
        "colab": {
          "base_uri": "https://localhost:8080/",
          "height": 138
        },
        "outputId": "decbb20c-4d92-4a35-bcae-b930729a9a58"
      },
      "source": [
        "# Will see the shape of each dataframe and will decide whether to drop some rows or not\n",
        "print(\"Aisles DataFrame\",aisles.shape)\n",
        "print(\"Department DataFrame\",department.shape)\n",
        "print(\"Orders DataFrame\",orders.shape)\n",
        "print(\"Products DataFrame\",products.shape)\n",
        "print(\"Order Products Prior DataFrame\",prior.shape)\n",
        "print(\"Order Products Train DataFrame\",train.shape)\n",
        "print(\"Submission DataFrame\",submission.shape)"
      ],
      "execution_count": null,
      "outputs": [
        {
          "output_type": "stream",
          "text": [
            "Aisles DataFrame (134, 2)\n",
            "Department DataFrame (21, 2)\n",
            "Orders DataFrame (3421083, 7)\n",
            "Products DataFrame (49688, 4)\n",
            "Order Products Prior DataFrame (32434489, 4)\n",
            "Order Products Train DataFrame (1384617, 4)\n",
            "Submission DataFrame (75000, 2)\n"
          ],
          "name": "stdout"
        }
      ]
    },
    {
      "cell_type": "code",
      "metadata": {
        "id": "_DIWdZQTmOi2",
        "colab_type": "code",
        "colab": {
          "base_uri": "https://localhost:8080/",
          "height": 110
        },
        "outputId": "829d93db-041b-475e-b593-5965912f9389"
      },
      "source": [
        "orders.head(2)"
      ],
      "execution_count": null,
      "outputs": [
        {
          "output_type": "execute_result",
          "data": {
            "text/html": [
              "<div>\n",
              "<style scoped>\n",
              "    .dataframe tbody tr th:only-of-type {\n",
              "        vertical-align: middle;\n",
              "    }\n",
              "\n",
              "    .dataframe tbody tr th {\n",
              "        vertical-align: top;\n",
              "    }\n",
              "\n",
              "    .dataframe thead th {\n",
              "        text-align: right;\n",
              "    }\n",
              "</style>\n",
              "<table border=\"1\" class=\"dataframe\">\n",
              "  <thead>\n",
              "    <tr style=\"text-align: right;\">\n",
              "      <th></th>\n",
              "      <th>order_id</th>\n",
              "      <th>user_id</th>\n",
              "      <th>eval_set</th>\n",
              "      <th>order_number</th>\n",
              "      <th>order_dow</th>\n",
              "      <th>order_hour_of_day</th>\n",
              "      <th>days_since_prior_order</th>\n",
              "    </tr>\n",
              "  </thead>\n",
              "  <tbody>\n",
              "    <tr>\n",
              "      <th>0</th>\n",
              "      <td>2539329</td>\n",
              "      <td>1</td>\n",
              "      <td>prior</td>\n",
              "      <td>1</td>\n",
              "      <td>2</td>\n",
              "      <td>8</td>\n",
              "      <td>NaN</td>\n",
              "    </tr>\n",
              "    <tr>\n",
              "      <th>1</th>\n",
              "      <td>2398795</td>\n",
              "      <td>1</td>\n",
              "      <td>prior</td>\n",
              "      <td>2</td>\n",
              "      <td>3</td>\n",
              "      <td>7</td>\n",
              "      <td>15.0</td>\n",
              "    </tr>\n",
              "  </tbody>\n",
              "</table>\n",
              "</div>"
            ],
            "text/plain": [
              "   order_id  user_id  ... order_hour_of_day  days_since_prior_order\n",
              "0   2539329        1  ...                 8                     NaN\n",
              "1   2398795        1  ...                 7                    15.0\n",
              "\n",
              "[2 rows x 7 columns]"
            ]
          },
          "metadata": {
            "tags": []
          },
          "execution_count": 5
        }
      ]
    },
    {
      "cell_type": "code",
      "metadata": {
        "id": "XmzsgbJdmOjE",
        "colab_type": "code",
        "colab": {
          "base_uri": "https://localhost:8080/",
          "height": 110
        },
        "outputId": "e2c51f90-87a6-42e5-a41f-c0916ba9caca"
      },
      "source": [
        "prior.head(2)"
      ],
      "execution_count": null,
      "outputs": [
        {
          "output_type": "execute_result",
          "data": {
            "text/html": [
              "<div>\n",
              "<style scoped>\n",
              "    .dataframe tbody tr th:only-of-type {\n",
              "        vertical-align: middle;\n",
              "    }\n",
              "\n",
              "    .dataframe tbody tr th {\n",
              "        vertical-align: top;\n",
              "    }\n",
              "\n",
              "    .dataframe thead th {\n",
              "        text-align: right;\n",
              "    }\n",
              "</style>\n",
              "<table border=\"1\" class=\"dataframe\">\n",
              "  <thead>\n",
              "    <tr style=\"text-align: right;\">\n",
              "      <th></th>\n",
              "      <th>order_id</th>\n",
              "      <th>product_id</th>\n",
              "      <th>add_to_cart_order</th>\n",
              "      <th>reordered</th>\n",
              "    </tr>\n",
              "  </thead>\n",
              "  <tbody>\n",
              "    <tr>\n",
              "      <th>0</th>\n",
              "      <td>2</td>\n",
              "      <td>33120</td>\n",
              "      <td>1</td>\n",
              "      <td>1</td>\n",
              "    </tr>\n",
              "    <tr>\n",
              "      <th>1</th>\n",
              "      <td>2</td>\n",
              "      <td>28985</td>\n",
              "      <td>2</td>\n",
              "      <td>1</td>\n",
              "    </tr>\n",
              "  </tbody>\n",
              "</table>\n",
              "</div>"
            ],
            "text/plain": [
              "   order_id  product_id  add_to_cart_order  reordered\n",
              "0         2       33120                  1          1\n",
              "1         2       28985                  2          1"
            ]
          },
          "metadata": {
            "tags": []
          },
          "execution_count": 6
        }
      ]
    },
    {
      "cell_type": "code",
      "metadata": {
        "id": "1rrutEIvmOjX",
        "colab_type": "code",
        "colab": {
          "base_uri": "https://localhost:8080/",
          "height": 110
        },
        "outputId": "409695a1-e9a9-45a3-8088-856af2d9b9c2"
      },
      "source": [
        "train.head(2)"
      ],
      "execution_count": null,
      "outputs": [
        {
          "output_type": "execute_result",
          "data": {
            "text/html": [
              "<div>\n",
              "<style scoped>\n",
              "    .dataframe tbody tr th:only-of-type {\n",
              "        vertical-align: middle;\n",
              "    }\n",
              "\n",
              "    .dataframe tbody tr th {\n",
              "        vertical-align: top;\n",
              "    }\n",
              "\n",
              "    .dataframe thead th {\n",
              "        text-align: right;\n",
              "    }\n",
              "</style>\n",
              "<table border=\"1\" class=\"dataframe\">\n",
              "  <thead>\n",
              "    <tr style=\"text-align: right;\">\n",
              "      <th></th>\n",
              "      <th>order_id</th>\n",
              "      <th>product_id</th>\n",
              "      <th>add_to_cart_order</th>\n",
              "      <th>reordered</th>\n",
              "    </tr>\n",
              "  </thead>\n",
              "  <tbody>\n",
              "    <tr>\n",
              "      <th>0</th>\n",
              "      <td>1</td>\n",
              "      <td>49302</td>\n",
              "      <td>1</td>\n",
              "      <td>1</td>\n",
              "    </tr>\n",
              "    <tr>\n",
              "      <th>1</th>\n",
              "      <td>1</td>\n",
              "      <td>11109</td>\n",
              "      <td>2</td>\n",
              "      <td>1</td>\n",
              "    </tr>\n",
              "  </tbody>\n",
              "</table>\n",
              "</div>"
            ],
            "text/plain": [
              "   order_id  product_id  add_to_cart_order  reordered\n",
              "0         1       49302                  1          1\n",
              "1         1       11109                  2          1"
            ]
          },
          "metadata": {
            "tags": []
          },
          "execution_count": 7
        }
      ]
    },
    {
      "cell_type": "code",
      "metadata": {
        "id": "cLv_Q_r2mOjy",
        "colab_type": "code",
        "colab": {
          "base_uri": "https://localhost:8080/",
          "height": 52
        },
        "outputId": "4c759213-f868-4856-9176-67c0bff33074"
      },
      "source": [
        "# Since there are many NaN values in 'days_since_prior_order' so we do mean imputation for them\n",
        "# Below code finds the mean of the 'days_since_prior_order\n",
        "\n",
        "prior_order = list()\n",
        "for key,value in enumerate(orders['days_since_prior_order'].values):\n",
        "    if(str(value)=='nan'):\n",
        "      flag=1\n",
        "    else:  \n",
        "      prior_order.append(value)\n",
        "mean_value = sum(prior_order)/len(prior_order)\n",
        "print(\"Mean Value Of Days Since Prior Order\",np.round(mean_value,1))\n",
        "\n",
        "# Replaces NaN with mean of 'days_since_prior_order'\n",
        "\n",
        "prior_order = list()\n",
        "null_count = 0\n",
        "mean_values = np.round(mean_value,1)\n",
        "for key,value in enumerate(orders['days_since_prior_order'].values):\n",
        "    if(str(value)=='nan'):\n",
        "        prior_order.append(mean_values)\n",
        "        null_count+=1\n",
        "    else:\n",
        "        prior_order.append(value)           \n",
        "print(\"Total Null Values were\", null_count)        \n",
        "\n",
        "orders.drop('days_since_prior_order', axis=1, inplace=True)\n",
        "orders['days_since_prior_order'] = prior_order"
      ],
      "execution_count": null,
      "outputs": [
        {
          "output_type": "stream",
          "text": [
            "Mean Value Of Days Since Prior Order 11.1\n",
            "Total Null Values were 206209\n"
          ],
          "name": "stdout"
        }
      ]
    },
    {
      "cell_type": "code",
      "metadata": {
        "id": "CF2Sk0AQmOj_",
        "colab_type": "code",
        "colab": {
          "base_uri": "https://localhost:8080/",
          "height": 141
        },
        "outputId": "028b3a74-4ba1-484a-cfd5-8fb1ac25c9b1"
      },
      "source": [
        "prior_order_df = pd.merge(orders, prior, on='order_id', how='inner')\n",
        "prior_order_df.head(3)"
      ],
      "execution_count": null,
      "outputs": [
        {
          "output_type": "execute_result",
          "data": {
            "text/html": [
              "<div>\n",
              "<style scoped>\n",
              "    .dataframe tbody tr th:only-of-type {\n",
              "        vertical-align: middle;\n",
              "    }\n",
              "\n",
              "    .dataframe tbody tr th {\n",
              "        vertical-align: top;\n",
              "    }\n",
              "\n",
              "    .dataframe thead th {\n",
              "        text-align: right;\n",
              "    }\n",
              "</style>\n",
              "<table border=\"1\" class=\"dataframe\">\n",
              "  <thead>\n",
              "    <tr style=\"text-align: right;\">\n",
              "      <th></th>\n",
              "      <th>order_id</th>\n",
              "      <th>user_id</th>\n",
              "      <th>eval_set</th>\n",
              "      <th>order_number</th>\n",
              "      <th>order_dow</th>\n",
              "      <th>order_hour_of_day</th>\n",
              "      <th>days_since_prior_order</th>\n",
              "      <th>product_id</th>\n",
              "      <th>add_to_cart_order</th>\n",
              "      <th>reordered</th>\n",
              "    </tr>\n",
              "  </thead>\n",
              "  <tbody>\n",
              "    <tr>\n",
              "      <th>0</th>\n",
              "      <td>2539329</td>\n",
              "      <td>1</td>\n",
              "      <td>prior</td>\n",
              "      <td>1</td>\n",
              "      <td>2</td>\n",
              "      <td>8</td>\n",
              "      <td>11.1</td>\n",
              "      <td>196</td>\n",
              "      <td>1</td>\n",
              "      <td>0</td>\n",
              "    </tr>\n",
              "    <tr>\n",
              "      <th>1</th>\n",
              "      <td>2539329</td>\n",
              "      <td>1</td>\n",
              "      <td>prior</td>\n",
              "      <td>1</td>\n",
              "      <td>2</td>\n",
              "      <td>8</td>\n",
              "      <td>11.1</td>\n",
              "      <td>14084</td>\n",
              "      <td>2</td>\n",
              "      <td>0</td>\n",
              "    </tr>\n",
              "    <tr>\n",
              "      <th>2</th>\n",
              "      <td>2539329</td>\n",
              "      <td>1</td>\n",
              "      <td>prior</td>\n",
              "      <td>1</td>\n",
              "      <td>2</td>\n",
              "      <td>8</td>\n",
              "      <td>11.1</td>\n",
              "      <td>12427</td>\n",
              "      <td>3</td>\n",
              "      <td>0</td>\n",
              "    </tr>\n",
              "  </tbody>\n",
              "</table>\n",
              "</div>"
            ],
            "text/plain": [
              "   order_id  user_id eval_set  ...  product_id  add_to_cart_order  reordered\n",
              "0   2539329        1    prior  ...         196                  1          0\n",
              "1   2539329        1    prior  ...       14084                  2          0\n",
              "2   2539329        1    prior  ...       12427                  3          0\n",
              "\n",
              "[3 rows x 10 columns]"
            ]
          },
          "metadata": {
            "tags": []
          },
          "execution_count": 9
        }
      ]
    },
    {
      "cell_type": "markdown",
      "metadata": {
        "id": "S0PvzpYNmOkL",
        "colab_type": "text"
      },
      "source": [
        "<h2> Creating User Features </h2>\n",
        "\n",
        "1. Maximum number of order by user.\n",
        "2. Mean number of order by user.\n",
        "3. Minimum number of order by user."
      ]
    },
    {
      "cell_type": "code",
      "metadata": {
        "id": "K9nRQmfGmOkN",
        "colab_type": "code",
        "colab": {
          "base_uri": "https://localhost:8080/",
          "height": 189
        },
        "outputId": "09360b9b-8bc7-457a-9178-fc6cd0703ee2"
      },
      "source": [
        "user_df = pd.DataFrame()\n",
        "user_df['max_number_of_orders'] = prior_order_df.groupby(by='user_id')['order_number'].aggregate('max').astype(np.uint8)\n",
        "user_df['mean_number_of_orders'] = prior_order_df.groupby(by='user_id')['order_number'].aggregate('mean').astype(np.uint8)\n",
        "user_df['min_number_of_orders'] = prior_order_df.groupby(by='user_id')['order_number'].aggregate('min').astype(np.uint8)\n",
        "print(\"Null values\", user_df.isnull().any().sum().sum())\n",
        "user_df.head(3)"
      ],
      "execution_count": null,
      "outputs": [
        {
          "output_type": "stream",
          "text": [
            "Null values 0\n"
          ],
          "name": "stdout"
        },
        {
          "output_type": "execute_result",
          "data": {
            "text/html": [
              "<div>\n",
              "<style scoped>\n",
              "    .dataframe tbody tr th:only-of-type {\n",
              "        vertical-align: middle;\n",
              "    }\n",
              "\n",
              "    .dataframe tbody tr th {\n",
              "        vertical-align: top;\n",
              "    }\n",
              "\n",
              "    .dataframe thead th {\n",
              "        text-align: right;\n",
              "    }\n",
              "</style>\n",
              "<table border=\"1\" class=\"dataframe\">\n",
              "  <thead>\n",
              "    <tr style=\"text-align: right;\">\n",
              "      <th></th>\n",
              "      <th>max_number_of_orders</th>\n",
              "      <th>mean_number_of_orders</th>\n",
              "      <th>min_number_of_orders</th>\n",
              "    </tr>\n",
              "    <tr>\n",
              "      <th>user_id</th>\n",
              "      <th></th>\n",
              "      <th></th>\n",
              "      <th></th>\n",
              "    </tr>\n",
              "  </thead>\n",
              "  <tbody>\n",
              "    <tr>\n",
              "      <th>1</th>\n",
              "      <td>10</td>\n",
              "      <td>5</td>\n",
              "      <td>1</td>\n",
              "    </tr>\n",
              "    <tr>\n",
              "      <th>2</th>\n",
              "      <td>14</td>\n",
              "      <td>8</td>\n",
              "      <td>1</td>\n",
              "    </tr>\n",
              "    <tr>\n",
              "      <th>3</th>\n",
              "      <td>12</td>\n",
              "      <td>6</td>\n",
              "      <td>1</td>\n",
              "    </tr>\n",
              "  </tbody>\n",
              "</table>\n",
              "</div>"
            ],
            "text/plain": [
              "         max_number_of_orders  mean_number_of_orders  min_number_of_orders\n",
              "user_id                                                                   \n",
              "1                          10                      5                     1\n",
              "2                          14                      8                     1\n",
              "3                          12                      6                     1"
            ]
          },
          "metadata": {
            "tags": []
          },
          "execution_count": 10
        }
      ]
    },
    {
      "cell_type": "markdown",
      "metadata": {
        "id": "F6dCt-KVolBh",
        "colab_type": "text"
      },
      "source": [
        "<h2> Creating Max Order Features </h2>\n",
        "\n",
        "1. Average product by user in each order"
      ]
    },
    {
      "cell_type": "code",
      "metadata": {
        "id": "vReOdtRVmOkX",
        "colab_type": "code",
        "colab": {
          "base_uri": "https://localhost:8080/",
          "height": 189
        },
        "outputId": "cc617579-1036-4100-ba1e-d5c5e71942e9"
      },
      "source": [
        "max_order = pd.DataFrame()\n",
        "average_products= pd.DataFrame()\n",
        "max_order['total_products_per_order'] = prior_order_df.groupby(by=['user_id', 'order_id'])['product_id'].aggregate('count').astype(np.uint8)\n",
        "average_products['average_user_product'] = max_order.groupby(by=['user_id'])['total_products_per_order'].aggregate('mean').astype(np.float16)\n",
        "\n",
        "print(\"Null values\", average_products.isnull().any().sum().sum())\n",
        "average_products.head(3)"
      ],
      "execution_count": null,
      "outputs": [
        {
          "output_type": "stream",
          "text": [
            "Null values 0\n"
          ],
          "name": "stdout"
        },
        {
          "output_type": "execute_result",
          "data": {
            "text/html": [
              "<div>\n",
              "<style scoped>\n",
              "    .dataframe tbody tr th:only-of-type {\n",
              "        vertical-align: middle;\n",
              "    }\n",
              "\n",
              "    .dataframe tbody tr th {\n",
              "        vertical-align: top;\n",
              "    }\n",
              "\n",
              "    .dataframe thead th {\n",
              "        text-align: right;\n",
              "    }\n",
              "</style>\n",
              "<table border=\"1\" class=\"dataframe\">\n",
              "  <thead>\n",
              "    <tr style=\"text-align: right;\">\n",
              "      <th></th>\n",
              "      <th>average_user_product</th>\n",
              "    </tr>\n",
              "    <tr>\n",
              "      <th>user_id</th>\n",
              "      <th></th>\n",
              "    </tr>\n",
              "  </thead>\n",
              "  <tbody>\n",
              "    <tr>\n",
              "      <th>1</th>\n",
              "      <td>5.898438</td>\n",
              "    </tr>\n",
              "    <tr>\n",
              "      <th>2</th>\n",
              "      <td>13.929688</td>\n",
              "    </tr>\n",
              "    <tr>\n",
              "      <th>3</th>\n",
              "      <td>7.332031</td>\n",
              "    </tr>\n",
              "  </tbody>\n",
              "</table>\n",
              "</div>"
            ],
            "text/plain": [
              "         average_user_product\n",
              "user_id                      \n",
              "1                    5.898438\n",
              "2                   13.929688\n",
              "3                    7.332031"
            ]
          },
          "metadata": {
            "tags": []
          },
          "execution_count": 11
        }
      ]
    },
    {
      "cell_type": "markdown",
      "metadata": {
        "id": "V5YIG8UwoqC2",
        "colab_type": "text"
      },
      "source": [
        "<h2> Day Of Week Features</h2>\n",
        "\n",
        "1. Maximum order by user day wise"
      ]
    },
    {
      "cell_type": "code",
      "metadata": {
        "id": "iBoHTxs_mOki",
        "colab_type": "code",
        "colab": {
          "base_uri": "https://localhost:8080/",
          "height": 220
        },
        "outputId": "c67cc64c-ec20-40cd-d541-84243ab65316"
      },
      "source": [
        "day_of_week = pd.DataFrame()\n",
        "day_of_week['max_order_day'] = prior_order_df.groupby(by=['user_id'])['order_dow'].aggregate(lambda x : stats.mode(x)[0]).astype(np.uint8)\n",
        "day_of_week = day_of_week.reset_index()\n",
        "print(\"Null values\", day_of_week.isnull().any().sum().sum())\n",
        "day_of_week.head()"
      ],
      "execution_count": null,
      "outputs": [
        {
          "output_type": "stream",
          "text": [
            "Null values 0\n"
          ],
          "name": "stdout"
        },
        {
          "output_type": "execute_result",
          "data": {
            "text/html": [
              "<div>\n",
              "<style scoped>\n",
              "    .dataframe tbody tr th:only-of-type {\n",
              "        vertical-align: middle;\n",
              "    }\n",
              "\n",
              "    .dataframe tbody tr th {\n",
              "        vertical-align: top;\n",
              "    }\n",
              "\n",
              "    .dataframe thead th {\n",
              "        text-align: right;\n",
              "    }\n",
              "</style>\n",
              "<table border=\"1\" class=\"dataframe\">\n",
              "  <thead>\n",
              "    <tr style=\"text-align: right;\">\n",
              "      <th></th>\n",
              "      <th>user_id</th>\n",
              "      <th>max_order_day</th>\n",
              "    </tr>\n",
              "  </thead>\n",
              "  <tbody>\n",
              "    <tr>\n",
              "      <th>0</th>\n",
              "      <td>1</td>\n",
              "      <td>4</td>\n",
              "    </tr>\n",
              "    <tr>\n",
              "      <th>1</th>\n",
              "      <td>2</td>\n",
              "      <td>2</td>\n",
              "    </tr>\n",
              "    <tr>\n",
              "      <th>2</th>\n",
              "      <td>3</td>\n",
              "      <td>0</td>\n",
              "    </tr>\n",
              "    <tr>\n",
              "      <th>3</th>\n",
              "      <td>4</td>\n",
              "      <td>4</td>\n",
              "    </tr>\n",
              "    <tr>\n",
              "      <th>4</th>\n",
              "      <td>5</td>\n",
              "      <td>3</td>\n",
              "    </tr>\n",
              "  </tbody>\n",
              "</table>\n",
              "</div>"
            ],
            "text/plain": [
              "   user_id  max_order_day\n",
              "0        1              4\n",
              "1        2              2\n",
              "2        3              0\n",
              "3        4              4\n",
              "4        5              3"
            ]
          },
          "metadata": {
            "tags": []
          },
          "execution_count": 12
        }
      ]
    },
    {
      "cell_type": "markdown",
      "metadata": {
        "id": "7MCj2Ymzo1an",
        "colab_type": "text"
      },
      "source": [
        "<h2>Hour Of Day Feature</h2>\n",
        "\n",
        "1. Hour with maximum order by user "
      ]
    },
    {
      "cell_type": "code",
      "metadata": {
        "id": "MyqooUt5mOkp",
        "colab_type": "code",
        "colab": {
          "base_uri": "https://localhost:8080/",
          "height": 158
        },
        "outputId": "93a5f2dc-b8d5-4803-ae69-99e46d3f089b"
      },
      "source": [
        "hour_of_day = pd.DataFrame()\n",
        "hour_of_day['max_order_by_hour'] = prior_order_df.groupby(by=['user_id'])['order_hour_of_day'].aggregate(lambda x : stats.mode(x)[0]).astype(np.uint8)\n",
        "hour_of_day = hour_of_day.reset_index()\n",
        "print(\"Total NUll Values\",hour_of_day.isnull().any().sum().sum())\n",
        "hour_of_day.head(3)"
      ],
      "execution_count": null,
      "outputs": [
        {
          "output_type": "stream",
          "text": [
            "Total NUll Values 0\n"
          ],
          "name": "stdout"
        },
        {
          "output_type": "execute_result",
          "data": {
            "text/html": [
              "<div>\n",
              "<style scoped>\n",
              "    .dataframe tbody tr th:only-of-type {\n",
              "        vertical-align: middle;\n",
              "    }\n",
              "\n",
              "    .dataframe tbody tr th {\n",
              "        vertical-align: top;\n",
              "    }\n",
              "\n",
              "    .dataframe thead th {\n",
              "        text-align: right;\n",
              "    }\n",
              "</style>\n",
              "<table border=\"1\" class=\"dataframe\">\n",
              "  <thead>\n",
              "    <tr style=\"text-align: right;\">\n",
              "      <th></th>\n",
              "      <th>user_id</th>\n",
              "      <th>max_order_by_hour</th>\n",
              "    </tr>\n",
              "  </thead>\n",
              "  <tbody>\n",
              "    <tr>\n",
              "      <th>0</th>\n",
              "      <td>1</td>\n",
              "      <td>7</td>\n",
              "    </tr>\n",
              "    <tr>\n",
              "      <th>1</th>\n",
              "      <td>2</td>\n",
              "      <td>9</td>\n",
              "    </tr>\n",
              "    <tr>\n",
              "      <th>2</th>\n",
              "      <td>3</td>\n",
              "      <td>16</td>\n",
              "    </tr>\n",
              "  </tbody>\n",
              "</table>\n",
              "</div>"
            ],
            "text/plain": [
              "   user_id  max_order_by_hour\n",
              "0        1                  7\n",
              "1        2                  9\n",
              "2        3                 16"
            ]
          },
          "metadata": {
            "tags": []
          },
          "execution_count": 13
        }
      ]
    },
    {
      "cell_type": "markdown",
      "metadata": {
        "id": "iWZxhg8rpFJ1",
        "colab_type": "text"
      },
      "source": [
        "<h2>Reorder Features</h2>\n",
        "\n",
        "1. Total Number Of Reorders.\n",
        "2. Total Number Of Reorders Not Done.\n",
        "3. Reorder Ratio For Each User"
      ]
    },
    {
      "cell_type": "code",
      "metadata": {
        "id": "we-KaNuumOk8",
        "colab_type": "code",
        "colab": {
          "base_uri": "https://localhost:8080/",
          "height": 189
        },
        "outputId": "4af63215-c106-49c0-bbb1-859d13e164c4"
      },
      "source": [
        "reorder_by_user = pd.DataFrame()\n",
        "reorder_by_user['total_reorders'] = prior_order_df[prior_order_df['reordered']==1].groupby('user_id')['reordered'].aggregate('count').astype(np.uint8)\n",
        "reorder_by_user['total_non_reorders'] = prior_order_df[prior_order_df['reordered']==0].groupby('user_id')['reordered'].aggregate('count').astype(np.uint8)\n",
        "reorder_by_user['reorder_ratio'] = reorder_by_user['total_reorders']/(reorder_by_user['total_reorders'] + reorder_by_user['total_non_reorders']).astype(np.float16)\n",
        "print(\"Total NUll Values\",reorder_by_user.isnull().any().sum().sum())\n",
        "reorder_by_user.head(3)"
      ],
      "execution_count": null,
      "outputs": [
        {
          "output_type": "stream",
          "text": [
            "Total NUll Values 0\n"
          ],
          "name": "stdout"
        },
        {
          "output_type": "execute_result",
          "data": {
            "text/html": [
              "<div>\n",
              "<style scoped>\n",
              "    .dataframe tbody tr th:only-of-type {\n",
              "        vertical-align: middle;\n",
              "    }\n",
              "\n",
              "    .dataframe tbody tr th {\n",
              "        vertical-align: top;\n",
              "    }\n",
              "\n",
              "    .dataframe thead th {\n",
              "        text-align: right;\n",
              "    }\n",
              "</style>\n",
              "<table border=\"1\" class=\"dataframe\">\n",
              "  <thead>\n",
              "    <tr style=\"text-align: right;\">\n",
              "      <th></th>\n",
              "      <th>total_reorders</th>\n",
              "      <th>total_non_reorders</th>\n",
              "      <th>reorder_ratio</th>\n",
              "    </tr>\n",
              "    <tr>\n",
              "      <th>user_id</th>\n",
              "      <th></th>\n",
              "      <th></th>\n",
              "      <th></th>\n",
              "    </tr>\n",
              "  </thead>\n",
              "  <tbody>\n",
              "    <tr>\n",
              "      <th>1</th>\n",
              "      <td>41</td>\n",
              "      <td>18</td>\n",
              "      <td>0.694824</td>\n",
              "    </tr>\n",
              "    <tr>\n",
              "      <th>2</th>\n",
              "      <td>93</td>\n",
              "      <td>102</td>\n",
              "      <td>0.476807</td>\n",
              "    </tr>\n",
              "    <tr>\n",
              "      <th>3</th>\n",
              "      <td>55</td>\n",
              "      <td>33</td>\n",
              "      <td>0.625000</td>\n",
              "    </tr>\n",
              "  </tbody>\n",
              "</table>\n",
              "</div>"
            ],
            "text/plain": [
              "         total_reorders  total_non_reorders  reorder_ratio\n",
              "user_id                                                   \n",
              "1                    41                  18       0.694824\n",
              "2                    93                 102       0.476807\n",
              "3                    55                  33       0.625000"
            ]
          },
          "metadata": {
            "tags": []
          },
          "execution_count": 14
        }
      ]
    },
    {
      "cell_type": "markdown",
      "metadata": {
        "id": "YJAfmX50pco5",
        "colab_type": "text"
      },
      "source": [
        "<h2>Merging All Features Created Till Now On 'User_id'</h2>"
      ]
    },
    {
      "cell_type": "code",
      "metadata": {
        "id": "gfKXKboDmOlF",
        "colab_type": "code",
        "colab": {
          "base_uri": "https://localhost:8080/",
          "height": 158
        },
        "outputId": "e6f8d1c9-9ae4-4950-bd4f-7a87fa954999"
      },
      "source": [
        "user_df = pd.merge(user_df, average_products, on='user_id', how='left')  \n",
        "user_df = pd.merge(user_df, day_of_week, on='user_id', how='left')\n",
        "user_df = pd.merge(user_df, hour_of_day, on='user_id', how='left')\n",
        "user_df = pd.merge(user_df, reorder_by_user, on='user_id', how='left')\n",
        "print(\"Total null values\", user_df.isnull().any().sum())\n",
        "user_df.head(3)"
      ],
      "execution_count": null,
      "outputs": [
        {
          "output_type": "stream",
          "text": [
            "Total null values 3\n"
          ],
          "name": "stdout"
        },
        {
          "output_type": "execute_result",
          "data": {
            "text/html": [
              "<div>\n",
              "<style scoped>\n",
              "    .dataframe tbody tr th:only-of-type {\n",
              "        vertical-align: middle;\n",
              "    }\n",
              "\n",
              "    .dataframe tbody tr th {\n",
              "        vertical-align: top;\n",
              "    }\n",
              "\n",
              "    .dataframe thead th {\n",
              "        text-align: right;\n",
              "    }\n",
              "</style>\n",
              "<table border=\"1\" class=\"dataframe\">\n",
              "  <thead>\n",
              "    <tr style=\"text-align: right;\">\n",
              "      <th></th>\n",
              "      <th>user_id</th>\n",
              "      <th>max_number_of_orders</th>\n",
              "      <th>mean_number_of_orders</th>\n",
              "      <th>min_number_of_orders</th>\n",
              "      <th>average_user_product</th>\n",
              "      <th>max_order_day</th>\n",
              "      <th>max_order_by_hour</th>\n",
              "      <th>total_reorders</th>\n",
              "      <th>total_non_reorders</th>\n",
              "      <th>reorder_ratio</th>\n",
              "    </tr>\n",
              "  </thead>\n",
              "  <tbody>\n",
              "    <tr>\n",
              "      <th>0</th>\n",
              "      <td>1</td>\n",
              "      <td>10</td>\n",
              "      <td>5</td>\n",
              "      <td>1</td>\n",
              "      <td>5.898438</td>\n",
              "      <td>4</td>\n",
              "      <td>7</td>\n",
              "      <td>41.0</td>\n",
              "      <td>18.0</td>\n",
              "      <td>0.694824</td>\n",
              "    </tr>\n",
              "    <tr>\n",
              "      <th>1</th>\n",
              "      <td>2</td>\n",
              "      <td>14</td>\n",
              "      <td>8</td>\n",
              "      <td>1</td>\n",
              "      <td>13.929688</td>\n",
              "      <td>2</td>\n",
              "      <td>9</td>\n",
              "      <td>93.0</td>\n",
              "      <td>102.0</td>\n",
              "      <td>0.476807</td>\n",
              "    </tr>\n",
              "    <tr>\n",
              "      <th>2</th>\n",
              "      <td>3</td>\n",
              "      <td>12</td>\n",
              "      <td>6</td>\n",
              "      <td>1</td>\n",
              "      <td>7.332031</td>\n",
              "      <td>0</td>\n",
              "      <td>16</td>\n",
              "      <td>55.0</td>\n",
              "      <td>33.0</td>\n",
              "      <td>0.625000</td>\n",
              "    </tr>\n",
              "  </tbody>\n",
              "</table>\n",
              "</div>"
            ],
            "text/plain": [
              "   user_id  max_number_of_orders  ...  total_non_reorders  reorder_ratio\n",
              "0        1                    10  ...                18.0       0.694824\n",
              "1        2                    14  ...               102.0       0.476807\n",
              "2        3                    12  ...                33.0       0.625000\n",
              "\n",
              "[3 rows x 10 columns]"
            ]
          },
          "metadata": {
            "tags": []
          },
          "execution_count": 15
        }
      ]
    },
    {
      "cell_type": "code",
      "metadata": {
        "id": "gEEQg-wFyRtw",
        "colab_type": "code",
        "colab": {}
      },
      "source": [
        "#pickle.dump((user_df),open('/content/drive/My Drive/Instacart Analysis/user_df.pkl','wb'))\n",
        "user_df = pickle.load(open('/content/drive/My Drive/Instacart Analysis/user_df.pkl','rb'))"
      ],
      "execution_count": null,
      "outputs": []
    },
    {
      "cell_type": "markdown",
      "metadata": {
        "id": "FtNxqvHdpsso",
        "colab_type": "text"
      },
      "source": [
        "<h2> Deleting DataFrame which are not more needed</h2>"
      ]
    },
    {
      "cell_type": "code",
      "metadata": {
        "id": "JS5DmMekmOlM",
        "colab_type": "code",
        "colab": {
          "base_uri": "https://localhost:8080/",
          "height": 34
        },
        "outputId": "b87469cd-83b6-4442-c017-6d5714128d1e"
      },
      "source": [
        "del average_products, day_of_week, hour_of_day, reorder_by_user, prior\n",
        "user_df = user_df.fillna(0)\n",
        "print(\"Total null values\", user_df.isnull().any().sum())"
      ],
      "execution_count": null,
      "outputs": [
        {
          "output_type": "stream",
          "text": [
            "Total null values 0\n"
          ],
          "name": "stdout"
        }
      ]
    },
    {
      "cell_type": "markdown",
      "metadata": {
        "id": "1U6EGWLtp1YF",
        "colab_type": "text"
      },
      "source": [
        "<h2>Product DataFrame</h2>\n",
        "\n",
        "1. Number Of Times Product Reordered"
      ]
    },
    {
      "cell_type": "code",
      "metadata": {
        "id": "mNjPxZnHmOlW",
        "colab_type": "code",
        "colab": {
          "base_uri": "https://localhost:8080/",
          "height": 189
        },
        "outputId": "3b0d4585-60a7-4409-a0cf-08a163aa06c6"
      },
      "source": [
        "product_df = pd.DataFrame()\n",
        "product_df['times_product_ordered'] = prior_order_df.groupby(by='product_id')['order_id'].aggregate('count').astype(np.uint16)\n",
        "print(\"Total null values\", product_df.isnull().any().sum().sum())\n",
        "product_df.head(3)"
      ],
      "execution_count": null,
      "outputs": [
        {
          "output_type": "stream",
          "text": [
            "Total null values 0\n"
          ],
          "name": "stdout"
        },
        {
          "output_type": "execute_result",
          "data": {
            "text/html": [
              "<div>\n",
              "<style scoped>\n",
              "    .dataframe tbody tr th:only-of-type {\n",
              "        vertical-align: middle;\n",
              "    }\n",
              "\n",
              "    .dataframe tbody tr th {\n",
              "        vertical-align: top;\n",
              "    }\n",
              "\n",
              "    .dataframe thead th {\n",
              "        text-align: right;\n",
              "    }\n",
              "</style>\n",
              "<table border=\"1\" class=\"dataframe\">\n",
              "  <thead>\n",
              "    <tr style=\"text-align: right;\">\n",
              "      <th></th>\n",
              "      <th>times_product_ordered</th>\n",
              "    </tr>\n",
              "    <tr>\n",
              "      <th>product_id</th>\n",
              "      <th></th>\n",
              "    </tr>\n",
              "  </thead>\n",
              "  <tbody>\n",
              "    <tr>\n",
              "      <th>1</th>\n",
              "      <td>1852</td>\n",
              "    </tr>\n",
              "    <tr>\n",
              "      <th>2</th>\n",
              "      <td>90</td>\n",
              "    </tr>\n",
              "    <tr>\n",
              "      <th>3</th>\n",
              "      <td>277</td>\n",
              "    </tr>\n",
              "  </tbody>\n",
              "</table>\n",
              "</div>"
            ],
            "text/plain": [
              "            times_product_ordered\n",
              "product_id                       \n",
              "1                            1852\n",
              "2                              90\n",
              "3                             277"
            ]
          },
          "metadata": {
            "tags": []
          },
          "execution_count": 18
        }
      ]
    },
    {
      "cell_type": "markdown",
      "metadata": {
        "id": "1t1Lt94Yp_ms",
        "colab_type": "text"
      },
      "source": [
        "<h2>Product Reorder Features</h2>\n",
        "\n",
        "1. Product Reorder Ratio\n",
        "2. Time Product Not Reordered"
      ]
    },
    {
      "cell_type": "code",
      "metadata": {
        "id": "r9kfXXqgmOlf",
        "colab_type": "code",
        "colab": {
          "base_uri": "https://localhost:8080/",
          "height": 189
        },
        "outputId": "cfb2d115-9178-4c62-c2c3-de7a80764284"
      },
      "source": [
        "reorder_products = pd.DataFrame()\n",
        "reorder_products['product_reorder_ratio'] = prior_order_df.groupby('product_id')['reordered'].aggregate('mean').astype(np.float16)\n",
        "reorder_products['product_not_reorder_time'] = prior_order_df[prior_order_df['reordered']==0].groupby('product_id')['reordered'].aggregate('count').astype(np.uint8)\n",
        "print(\"Total null values\",reorder_products.isnull().any().sum().sum())\n",
        "\n",
        "reorder_products.head(3)"
      ],
      "execution_count": null,
      "outputs": [
        {
          "output_type": "stream",
          "text": [
            "Total null values 0\n"
          ],
          "name": "stdout"
        },
        {
          "output_type": "execute_result",
          "data": {
            "text/html": [
              "<div>\n",
              "<style scoped>\n",
              "    .dataframe tbody tr th:only-of-type {\n",
              "        vertical-align: middle;\n",
              "    }\n",
              "\n",
              "    .dataframe tbody tr th {\n",
              "        vertical-align: top;\n",
              "    }\n",
              "\n",
              "    .dataframe thead th {\n",
              "        text-align: right;\n",
              "    }\n",
              "</style>\n",
              "<table border=\"1\" class=\"dataframe\">\n",
              "  <thead>\n",
              "    <tr style=\"text-align: right;\">\n",
              "      <th></th>\n",
              "      <th>product_reorder_ratio</th>\n",
              "      <th>product_not_reorder_time</th>\n",
              "    </tr>\n",
              "    <tr>\n",
              "      <th>product_id</th>\n",
              "      <th></th>\n",
              "      <th></th>\n",
              "    </tr>\n",
              "  </thead>\n",
              "  <tbody>\n",
              "    <tr>\n",
              "      <th>1</th>\n",
              "      <td>0.613281</td>\n",
              "      <td>204</td>\n",
              "    </tr>\n",
              "    <tr>\n",
              "      <th>2</th>\n",
              "      <td>0.133301</td>\n",
              "      <td>78</td>\n",
              "    </tr>\n",
              "    <tr>\n",
              "      <th>3</th>\n",
              "      <td>0.732910</td>\n",
              "      <td>74</td>\n",
              "    </tr>\n",
              "  </tbody>\n",
              "</table>\n",
              "</div>"
            ],
            "text/plain": [
              "            product_reorder_ratio  product_not_reorder_time\n",
              "product_id                                                 \n",
              "1                        0.613281                       204\n",
              "2                        0.133301                        78\n",
              "3                        0.732910                        74"
            ]
          },
          "metadata": {
            "tags": []
          },
          "execution_count": 19
        }
      ]
    },
    {
      "cell_type": "markdown",
      "metadata": {
        "id": "U621O1XmqKRt",
        "colab_type": "text"
      },
      "source": [
        "<h2>Add To Cart Features</h2>\n",
        "\n",
        "1. Average Position Of Product On Cart.\n",
        "2. Late Position Of Product On Cart.\n",
        "3. Early Position Of Product On Cart."
      ]
    },
    {
      "cell_type": "code",
      "metadata": {
        "id": "-C3b7ISemOlp",
        "colab_type": "code",
        "colab": {
          "base_uri": "https://localhost:8080/",
          "height": 189
        },
        "outputId": "2a3d2e01-1472-4ecd-e8b3-c57743e616f0"
      },
      "source": [
        "add_to_cart = pd.DataFrame()\n",
        "add_to_cart['average_product_cart_position'] = prior_order_df.groupby(by='product_id')['add_to_cart_order'].aggregate('mean').astype(np.float16)\n",
        "add_to_cart['late_product_cart_position'] = prior_order_df.groupby(by='product_id')['add_to_cart_order'].aggregate('max').astype(np.float16)\n",
        "add_to_cart['early_product_cart_position'] = prior_order_df.groupby(by='product_id')['add_to_cart_order'].aggregate('min').astype(np.float16)\n",
        "print(\"Total null values\",add_to_cart.isnull().any().sum().sum())\n",
        "add_to_cart.head(3)"
      ],
      "execution_count": null,
      "outputs": [
        {
          "output_type": "stream",
          "text": [
            "Total null values 0\n"
          ],
          "name": "stdout"
        },
        {
          "output_type": "execute_result",
          "data": {
            "text/html": [
              "<div>\n",
              "<style scoped>\n",
              "    .dataframe tbody tr th:only-of-type {\n",
              "        vertical-align: middle;\n",
              "    }\n",
              "\n",
              "    .dataframe tbody tr th {\n",
              "        vertical-align: top;\n",
              "    }\n",
              "\n",
              "    .dataframe thead th {\n",
              "        text-align: right;\n",
              "    }\n",
              "</style>\n",
              "<table border=\"1\" class=\"dataframe\">\n",
              "  <thead>\n",
              "    <tr style=\"text-align: right;\">\n",
              "      <th></th>\n",
              "      <th>average_product_cart_position</th>\n",
              "      <th>late_product_cart_position</th>\n",
              "      <th>early_product_cart_position</th>\n",
              "    </tr>\n",
              "    <tr>\n",
              "      <th>product_id</th>\n",
              "      <th></th>\n",
              "      <th></th>\n",
              "      <th></th>\n",
              "    </tr>\n",
              "  </thead>\n",
              "  <tbody>\n",
              "    <tr>\n",
              "      <th>1</th>\n",
              "      <td>5.800781</td>\n",
              "      <td>74.0</td>\n",
              "      <td>1.0</td>\n",
              "    </tr>\n",
              "    <tr>\n",
              "      <th>2</th>\n",
              "      <td>9.890625</td>\n",
              "      <td>45.0</td>\n",
              "      <td>1.0</td>\n",
              "    </tr>\n",
              "    <tr>\n",
              "      <th>3</th>\n",
              "      <td>6.414062</td>\n",
              "      <td>41.0</td>\n",
              "      <td>1.0</td>\n",
              "    </tr>\n",
              "  </tbody>\n",
              "</table>\n",
              "</div>"
            ],
            "text/plain": [
              "            average_product_cart_position  ...  early_product_cart_position\n",
              "product_id                                 ...                             \n",
              "1                                5.800781  ...                          1.0\n",
              "2                                9.890625  ...                          1.0\n",
              "3                                6.414062  ...                          1.0\n",
              "\n",
              "[3 rows x 3 columns]"
            ]
          },
          "metadata": {
            "tags": []
          },
          "execution_count": 20
        }
      ]
    },
    {
      "cell_type": "markdown",
      "metadata": {
        "id": "pRd3nghVqpY5",
        "colab_type": "text"
      },
      "source": [
        "<h2>Day Of Week Features</h2>\n",
        "\n",
        "1. Average Nummber Of Product Order Day Wise\n",
        "2. Earliest Week Day Product Ordered.\n",
        "3. Late Week Day Product Ordered."
      ]
    },
    {
      "cell_type": "code",
      "metadata": {
        "id": "NzhAXkpXmOl1",
        "colab_type": "code",
        "colab": {
          "base_uri": "https://localhost:8080/",
          "height": 189
        },
        "outputId": "7b9cc15e-c78d-4311-b3b6-9d45e89ebc49"
      },
      "source": [
        "dow_product = pd.DataFrame()\n",
        "dow_product['average_product_order_day'] = prior_order_df.groupby(by='product_id')['order_dow'].aggregate('mean').astype(np.float16)\n",
        "dow_product['late_product_order_day'] = prior_order_df.groupby(by='product_id')['order_dow'].aggregate('max').astype(np.float16)\n",
        "dow_product['early_product_order_day'] = prior_order_df.groupby(by='product_id')['order_dow'].aggregate('min').astype(np.float16)\n",
        "print(\"Total null values\",dow_product.isnull().any().sum().sum())\n",
        "dow_product.head(3)"
      ],
      "execution_count": null,
      "outputs": [
        {
          "output_type": "stream",
          "text": [
            "Total null values 0\n"
          ],
          "name": "stdout"
        },
        {
          "output_type": "execute_result",
          "data": {
            "text/html": [
              "<div>\n",
              "<style scoped>\n",
              "    .dataframe tbody tr th:only-of-type {\n",
              "        vertical-align: middle;\n",
              "    }\n",
              "\n",
              "    .dataframe tbody tr th {\n",
              "        vertical-align: top;\n",
              "    }\n",
              "\n",
              "    .dataframe thead th {\n",
              "        text-align: right;\n",
              "    }\n",
              "</style>\n",
              "<table border=\"1\" class=\"dataframe\">\n",
              "  <thead>\n",
              "    <tr style=\"text-align: right;\">\n",
              "      <th></th>\n",
              "      <th>average_product_order_day</th>\n",
              "      <th>late_product_order_day</th>\n",
              "      <th>early_product_order_day</th>\n",
              "    </tr>\n",
              "    <tr>\n",
              "      <th>product_id</th>\n",
              "      <th></th>\n",
              "      <th></th>\n",
              "      <th></th>\n",
              "    </tr>\n",
              "  </thead>\n",
              "  <tbody>\n",
              "    <tr>\n",
              "      <th>1</th>\n",
              "      <td>2.777344</td>\n",
              "      <td>6.0</td>\n",
              "      <td>0.0</td>\n",
              "    </tr>\n",
              "    <tr>\n",
              "      <th>2</th>\n",
              "      <td>2.921875</td>\n",
              "      <td>6.0</td>\n",
              "      <td>0.0</td>\n",
              "    </tr>\n",
              "    <tr>\n",
              "      <th>3</th>\n",
              "      <td>2.736328</td>\n",
              "      <td>6.0</td>\n",
              "      <td>0.0</td>\n",
              "    </tr>\n",
              "  </tbody>\n",
              "</table>\n",
              "</div>"
            ],
            "text/plain": [
              "            average_product_order_day  ...  early_product_order_day\n",
              "product_id                             ...                         \n",
              "1                            2.777344  ...                      0.0\n",
              "2                            2.921875  ...                      0.0\n",
              "3                            2.736328  ...                      0.0\n",
              "\n",
              "[3 rows x 3 columns]"
            ]
          },
          "metadata": {
            "tags": []
          },
          "execution_count": 21
        }
      ]
    },
    {
      "cell_type": "markdown",
      "metadata": {
        "id": "7WBryM4ErLHP",
        "colab_type": "text"
      },
      "source": [
        "<h2>Order Hour Of Day Features</h2>\n",
        "\n",
        "1. Average Time Product Ordered.\n",
        "2. Late Time Of Product Ordered.\n",
        "3. Earliest Time Of Product Ordered."
      ]
    },
    {
      "cell_type": "code",
      "metadata": {
        "id": "OilbmEbWmOmA",
        "colab_type": "code",
        "colab": {
          "base_uri": "https://localhost:8080/",
          "height": 189
        },
        "outputId": "ffcffd1d-1dbc-4de7-bfe0-bd2a09560978"
      },
      "source": [
        "order_hour_of_day_product = pd.DataFrame()\n",
        "order_hour_of_day_product['average_product_hour'] = prior_order_df.groupby(by='product_id')['order_hour_of_day'].aggregate('mean').astype(np.float16)\n",
        "order_hour_of_day_product['late_product_hour'] = prior_order_df.groupby(by='product_id')['order_hour_of_day'].aggregate('max').astype(np.float16)\n",
        "order_hour_of_day_product['early_product_hour'] = prior_order_df.groupby(by='product_id')['order_hour_of_day'].aggregate('min').astype(np.float16)\n",
        "print(\"Total null values\",order_hour_of_day_product.isnull().any().sum().sum())\n",
        "order_hour_of_day_product.head(3)"
      ],
      "execution_count": null,
      "outputs": [
        {
          "output_type": "stream",
          "text": [
            "Total null values 0\n"
          ],
          "name": "stdout"
        },
        {
          "output_type": "execute_result",
          "data": {
            "text/html": [
              "<div>\n",
              "<style scoped>\n",
              "    .dataframe tbody tr th:only-of-type {\n",
              "        vertical-align: middle;\n",
              "    }\n",
              "\n",
              "    .dataframe tbody tr th {\n",
              "        vertical-align: top;\n",
              "    }\n",
              "\n",
              "    .dataframe thead th {\n",
              "        text-align: right;\n",
              "    }\n",
              "</style>\n",
              "<table border=\"1\" class=\"dataframe\">\n",
              "  <thead>\n",
              "    <tr style=\"text-align: right;\">\n",
              "      <th></th>\n",
              "      <th>average_product_hour</th>\n",
              "      <th>late_product_hour</th>\n",
              "      <th>early_product_hour</th>\n",
              "    </tr>\n",
              "    <tr>\n",
              "      <th>product_id</th>\n",
              "      <th></th>\n",
              "      <th></th>\n",
              "      <th></th>\n",
              "    </tr>\n",
              "  </thead>\n",
              "  <tbody>\n",
              "    <tr>\n",
              "      <th>1</th>\n",
              "      <td>13.234375</td>\n",
              "      <td>23.0</td>\n",
              "      <td>0.0</td>\n",
              "    </tr>\n",
              "    <tr>\n",
              "      <th>2</th>\n",
              "      <td>13.281250</td>\n",
              "      <td>22.0</td>\n",
              "      <td>0.0</td>\n",
              "    </tr>\n",
              "    <tr>\n",
              "      <th>3</th>\n",
              "      <td>12.101562</td>\n",
              "      <td>23.0</td>\n",
              "      <td>0.0</td>\n",
              "    </tr>\n",
              "  </tbody>\n",
              "</table>\n",
              "</div>"
            ],
            "text/plain": [
              "            average_product_hour  late_product_hour  early_product_hour\n",
              "product_id                                                             \n",
              "1                      13.234375               23.0                 0.0\n",
              "2                      13.281250               22.0                 0.0\n",
              "3                      12.101562               23.0                 0.0"
            ]
          },
          "metadata": {
            "tags": []
          },
          "execution_count": 22
        }
      ]
    },
    {
      "cell_type": "markdown",
      "metadata": {
        "id": "3-E70veNrdJp",
        "colab_type": "text"
      },
      "source": [
        "<h1>Merging all the product features on 'product_id'</h1>"
      ]
    },
    {
      "cell_type": "code",
      "metadata": {
        "id": "RggspVA9mOmK",
        "colab_type": "code",
        "colab": {
          "base_uri": "https://localhost:8080/",
          "height": 209
        },
        "outputId": "a33b0033-ff9a-4fe5-9e52-456b456d273a"
      },
      "source": [
        "product_df = pd.merge(product_df, reorder_products, on='product_id', how='left')\n",
        "product_df = pd.merge(product_df, add_to_cart, on='product_id', how='left')\n",
        "product_df = pd.merge(product_df, dow_product, on='product_id', how='left')\n",
        "product_df = pd.merge(product_df, order_hour_of_day_product, on='product_id', how='left')\n",
        "print(\"Total null values\",product_df.isnull().any().sum().sum())\n",
        "product_df.head(3)"
      ],
      "execution_count": null,
      "outputs": [
        {
          "output_type": "stream",
          "text": [
            "Total null values 0\n"
          ],
          "name": "stdout"
        },
        {
          "output_type": "execute_result",
          "data": {
            "text/html": [
              "<div>\n",
              "<style scoped>\n",
              "    .dataframe tbody tr th:only-of-type {\n",
              "        vertical-align: middle;\n",
              "    }\n",
              "\n",
              "    .dataframe tbody tr th {\n",
              "        vertical-align: top;\n",
              "    }\n",
              "\n",
              "    .dataframe thead th {\n",
              "        text-align: right;\n",
              "    }\n",
              "</style>\n",
              "<table border=\"1\" class=\"dataframe\">\n",
              "  <thead>\n",
              "    <tr style=\"text-align: right;\">\n",
              "      <th></th>\n",
              "      <th>times_product_ordered</th>\n",
              "      <th>product_reorder_ratio</th>\n",
              "      <th>product_not_reorder_time</th>\n",
              "      <th>average_product_cart_position</th>\n",
              "      <th>late_product_cart_position</th>\n",
              "      <th>early_product_cart_position</th>\n",
              "      <th>average_product_order_day</th>\n",
              "      <th>late_product_order_day</th>\n",
              "      <th>early_product_order_day</th>\n",
              "      <th>average_product_hour</th>\n",
              "      <th>late_product_hour</th>\n",
              "      <th>early_product_hour</th>\n",
              "    </tr>\n",
              "    <tr>\n",
              "      <th>product_id</th>\n",
              "      <th></th>\n",
              "      <th></th>\n",
              "      <th></th>\n",
              "      <th></th>\n",
              "      <th></th>\n",
              "      <th></th>\n",
              "      <th></th>\n",
              "      <th></th>\n",
              "      <th></th>\n",
              "      <th></th>\n",
              "      <th></th>\n",
              "      <th></th>\n",
              "    </tr>\n",
              "  </thead>\n",
              "  <tbody>\n",
              "    <tr>\n",
              "      <th>1</th>\n",
              "      <td>1852</td>\n",
              "      <td>0.613281</td>\n",
              "      <td>204</td>\n",
              "      <td>5.800781</td>\n",
              "      <td>74.0</td>\n",
              "      <td>1.0</td>\n",
              "      <td>2.777344</td>\n",
              "      <td>6.0</td>\n",
              "      <td>0.0</td>\n",
              "      <td>13.234375</td>\n",
              "      <td>23.0</td>\n",
              "      <td>0.0</td>\n",
              "    </tr>\n",
              "    <tr>\n",
              "      <th>2</th>\n",
              "      <td>90</td>\n",
              "      <td>0.133301</td>\n",
              "      <td>78</td>\n",
              "      <td>9.890625</td>\n",
              "      <td>45.0</td>\n",
              "      <td>1.0</td>\n",
              "      <td>2.921875</td>\n",
              "      <td>6.0</td>\n",
              "      <td>0.0</td>\n",
              "      <td>13.281250</td>\n",
              "      <td>22.0</td>\n",
              "      <td>0.0</td>\n",
              "    </tr>\n",
              "    <tr>\n",
              "      <th>3</th>\n",
              "      <td>277</td>\n",
              "      <td>0.732910</td>\n",
              "      <td>74</td>\n",
              "      <td>6.414062</td>\n",
              "      <td>41.0</td>\n",
              "      <td>1.0</td>\n",
              "      <td>2.736328</td>\n",
              "      <td>6.0</td>\n",
              "      <td>0.0</td>\n",
              "      <td>12.101562</td>\n",
              "      <td>23.0</td>\n",
              "      <td>0.0</td>\n",
              "    </tr>\n",
              "  </tbody>\n",
              "</table>\n",
              "</div>"
            ],
            "text/plain": [
              "            times_product_ordered  ...  early_product_hour\n",
              "product_id                         ...                    \n",
              "1                            1852  ...                 0.0\n",
              "2                              90  ...                 0.0\n",
              "3                             277  ...                 0.0\n",
              "\n",
              "[3 rows x 12 columns]"
            ]
          },
          "metadata": {
            "tags": []
          },
          "execution_count": 23
        }
      ]
    },
    {
      "cell_type": "code",
      "metadata": {
        "id": "oJvcYmO-xcmk",
        "colab_type": "code",
        "colab": {}
      },
      "source": [
        "#pickle.dump((product_df),open('/content/drive/My Drive/Instacart Analysis/product_df.pkl','wb'))\n",
        "product_df = pickle.load(open('/content/drive/My Drive/Instacart Analysis/product_df.pkl','rb'))"
      ],
      "execution_count": null,
      "outputs": []
    },
    {
      "cell_type": "markdown",
      "metadata": {
        "id": "Ky1h8oYArm-Z",
        "colab_type": "text"
      },
      "source": [
        "<h2>User Product Features</h2>\n",
        "\n",
        "1. Times Product Ordered By User"
      ]
    },
    {
      "cell_type": "code",
      "metadata": {
        "id": "O3CACIeQmOmc",
        "colab_type": "code",
        "colab": {
          "base_uri": "https://localhost:8080/",
          "height": 158
        },
        "outputId": "abc94afc-c57a-42a9-d284-068797580977"
      },
      "source": [
        "user_product_df = pd.DataFrame()\n",
        "user_product_df['times_product_by_user'] = prior_order_df.groupby(by=['user_id', 'product_id'])['order_id'].aggregate('count').astype(np.uint8)\n",
        "user_product_df = user_product_df.reset_index()\n",
        "print(\"Total null values\",user_product_df.isnull().any().sum().sum())\n",
        "user_product_df.head(3)"
      ],
      "execution_count": null,
      "outputs": [
        {
          "output_type": "stream",
          "text": [
            "Total null values 0\n"
          ],
          "name": "stdout"
        },
        {
          "output_type": "execute_result",
          "data": {
            "text/html": [
              "<div>\n",
              "<style scoped>\n",
              "    .dataframe tbody tr th:only-of-type {\n",
              "        vertical-align: middle;\n",
              "    }\n",
              "\n",
              "    .dataframe tbody tr th {\n",
              "        vertical-align: top;\n",
              "    }\n",
              "\n",
              "    .dataframe thead th {\n",
              "        text-align: right;\n",
              "    }\n",
              "</style>\n",
              "<table border=\"1\" class=\"dataframe\">\n",
              "  <thead>\n",
              "    <tr style=\"text-align: right;\">\n",
              "      <th></th>\n",
              "      <th>user_id</th>\n",
              "      <th>product_id</th>\n",
              "      <th>times_product_by_user</th>\n",
              "    </tr>\n",
              "  </thead>\n",
              "  <tbody>\n",
              "    <tr>\n",
              "      <th>0</th>\n",
              "      <td>1</td>\n",
              "      <td>196</td>\n",
              "      <td>10</td>\n",
              "    </tr>\n",
              "    <tr>\n",
              "      <th>1</th>\n",
              "      <td>1</td>\n",
              "      <td>10258</td>\n",
              "      <td>9</td>\n",
              "    </tr>\n",
              "    <tr>\n",
              "      <th>2</th>\n",
              "      <td>1</td>\n",
              "      <td>10326</td>\n",
              "      <td>1</td>\n",
              "    </tr>\n",
              "  </tbody>\n",
              "</table>\n",
              "</div>"
            ],
            "text/plain": [
              "   user_id  product_id  times_product_by_user\n",
              "0        1         196                     10\n",
              "1        1       10258                      9\n",
              "2        1       10326                      1"
            ]
          },
          "metadata": {
            "tags": []
          },
          "execution_count": 12
        }
      ]
    },
    {
      "cell_type": "markdown",
      "metadata": {
        "id": "pU4W1QSTrw6W",
        "colab_type": "text"
      },
      "source": [
        "<h2>Product Bought Features</h2>\n",
        "\n",
        "1. Times Product Bought By User\n",
        "2. Minimum Times Product Ordered By User"
      ]
    },
    {
      "cell_type": "code",
      "metadata": {
        "id": "Dpr3NE0OmOmn",
        "colab_type": "code",
        "colab": {
          "base_uri": "https://localhost:8080/",
          "height": 158
        },
        "outputId": "b0493e3e-7c24-4f19-8d80-1037f72d4f6d"
      },
      "source": [
        "product_bought = pd.DataFrame()\n",
        "product_bought['times_bought'] = prior_order_df.groupby(by=['user_id', 'product_id'])['order_id'].aggregate('count').astype(np.uint8)\n",
        "product_bought['earliest_order_position'] = prior_order_df.groupby(by=['user_id', 'product_id'])['order_number'].aggregate('min').astype(np.uint8)\n",
        "product_bought = product_bought.reset_index()\n",
        "print(\"Total null values\",product_bought.isnull().any().sum().sum())\n",
        "product_bought.head(3)"
      ],
      "execution_count": null,
      "outputs": [
        {
          "output_type": "stream",
          "text": [
            "Total null values 0\n"
          ],
          "name": "stdout"
        },
        {
          "output_type": "execute_result",
          "data": {
            "text/html": [
              "<div>\n",
              "<style scoped>\n",
              "    .dataframe tbody tr th:only-of-type {\n",
              "        vertical-align: middle;\n",
              "    }\n",
              "\n",
              "    .dataframe tbody tr th {\n",
              "        vertical-align: top;\n",
              "    }\n",
              "\n",
              "    .dataframe thead th {\n",
              "        text-align: right;\n",
              "    }\n",
              "</style>\n",
              "<table border=\"1\" class=\"dataframe\">\n",
              "  <thead>\n",
              "    <tr style=\"text-align: right;\">\n",
              "      <th></th>\n",
              "      <th>user_id</th>\n",
              "      <th>product_id</th>\n",
              "      <th>times_bought</th>\n",
              "      <th>earliest_order_position</th>\n",
              "    </tr>\n",
              "  </thead>\n",
              "  <tbody>\n",
              "    <tr>\n",
              "      <th>0</th>\n",
              "      <td>1</td>\n",
              "      <td>196</td>\n",
              "      <td>10</td>\n",
              "      <td>1</td>\n",
              "    </tr>\n",
              "    <tr>\n",
              "      <th>1</th>\n",
              "      <td>1</td>\n",
              "      <td>10258</td>\n",
              "      <td>9</td>\n",
              "      <td>2</td>\n",
              "    </tr>\n",
              "    <tr>\n",
              "      <th>2</th>\n",
              "      <td>1</td>\n",
              "      <td>10326</td>\n",
              "      <td>1</td>\n",
              "      <td>5</td>\n",
              "    </tr>\n",
              "  </tbody>\n",
              "</table>\n",
              "</div>"
            ],
            "text/plain": [
              "   user_id  product_id  times_bought  earliest_order_position\n",
              "0        1         196            10                        1\n",
              "1        1       10258             9                        2\n",
              "2        1       10326             1                        5"
            ]
          },
          "metadata": {
            "tags": []
          },
          "execution_count": 26
        }
      ]
    },
    {
      "cell_type": "markdown",
      "metadata": {
        "id": "GMybyUNYsSiA",
        "colab_type": "text"
      },
      "source": [
        "<h2>Order By User Features</h2>\n",
        "\n",
        "1. Total Order By User."
      ]
    },
    {
      "cell_type": "code",
      "metadata": {
        "id": "3Phkg1sumOms",
        "colab_type": "code",
        "colab": {
          "base_uri": "https://localhost:8080/",
          "height": 158
        },
        "outputId": "94cffeab-f852-4aaa-de36-470919eca5eb"
      },
      "source": [
        "order_by_user = pd.DataFrame()\n",
        "order_by_user['total_orders_by_user'] = prior_order_df.groupby('user_id')['order_number'].aggregate('max').astype(np.uint16)\n",
        "order_by_user = order_by_user.reset_index()\n",
        "print(\"Total null values\",order_by_user.isnull().any().sum().sum())\n",
        "order_by_user.head(3)"
      ],
      "execution_count": null,
      "outputs": [
        {
          "output_type": "stream",
          "text": [
            "Total null values 0\n"
          ],
          "name": "stdout"
        },
        {
          "output_type": "execute_result",
          "data": {
            "text/html": [
              "<div>\n",
              "<style scoped>\n",
              "    .dataframe tbody tr th:only-of-type {\n",
              "        vertical-align: middle;\n",
              "    }\n",
              "\n",
              "    .dataframe tbody tr th {\n",
              "        vertical-align: top;\n",
              "    }\n",
              "\n",
              "    .dataframe thead th {\n",
              "        text-align: right;\n",
              "    }\n",
              "</style>\n",
              "<table border=\"1\" class=\"dataframe\">\n",
              "  <thead>\n",
              "    <tr style=\"text-align: right;\">\n",
              "      <th></th>\n",
              "      <th>user_id</th>\n",
              "      <th>total_orders_by_user</th>\n",
              "    </tr>\n",
              "  </thead>\n",
              "  <tbody>\n",
              "    <tr>\n",
              "      <th>0</th>\n",
              "      <td>1</td>\n",
              "      <td>10</td>\n",
              "    </tr>\n",
              "    <tr>\n",
              "      <th>1</th>\n",
              "      <td>2</td>\n",
              "      <td>14</td>\n",
              "    </tr>\n",
              "    <tr>\n",
              "      <th>2</th>\n",
              "      <td>3</td>\n",
              "      <td>12</td>\n",
              "    </tr>\n",
              "  </tbody>\n",
              "</table>\n",
              "</div>"
            ],
            "text/plain": [
              "   user_id  total_orders_by_user\n",
              "0        1                    10\n",
              "1        2                    14\n",
              "2        3                    12"
            ]
          },
          "metadata": {
            "tags": []
          },
          "execution_count": 27
        }
      ]
    },
    {
      "cell_type": "markdown",
      "metadata": {
        "id": "fr6vi1v8sTfi",
        "colab_type": "text"
      },
      "source": [
        "<h2>Merging Bought Product & Order By User</h2>"
      ]
    },
    {
      "cell_type": "code",
      "metadata": {
        "id": "wRE4d38umOm5",
        "colab_type": "code",
        "colab": {
          "base_uri": "https://localhost:8080/",
          "height": 158
        },
        "outputId": "8341ddc1-3cb1-40b1-9dd1-a03f546b867e"
      },
      "source": [
        "merged_user_order = pd.merge(order_by_user, product_bought, how='right', on='user_id')\n",
        "print(\"Total null values\",merged_user_order.isnull().any().sum().sum())\n",
        "merged_user_order.head(3)"
      ],
      "execution_count": null,
      "outputs": [
        {
          "output_type": "stream",
          "text": [
            "Total null values 0\n"
          ],
          "name": "stdout"
        },
        {
          "output_type": "execute_result",
          "data": {
            "text/html": [
              "<div>\n",
              "<style scoped>\n",
              "    .dataframe tbody tr th:only-of-type {\n",
              "        vertical-align: middle;\n",
              "    }\n",
              "\n",
              "    .dataframe tbody tr th {\n",
              "        vertical-align: top;\n",
              "    }\n",
              "\n",
              "    .dataframe thead th {\n",
              "        text-align: right;\n",
              "    }\n",
              "</style>\n",
              "<table border=\"1\" class=\"dataframe\">\n",
              "  <thead>\n",
              "    <tr style=\"text-align: right;\">\n",
              "      <th></th>\n",
              "      <th>user_id</th>\n",
              "      <th>total_orders_by_user</th>\n",
              "      <th>product_id</th>\n",
              "      <th>times_bought</th>\n",
              "      <th>earliest_order_position</th>\n",
              "    </tr>\n",
              "  </thead>\n",
              "  <tbody>\n",
              "    <tr>\n",
              "      <th>0</th>\n",
              "      <td>1</td>\n",
              "      <td>10</td>\n",
              "      <td>196</td>\n",
              "      <td>10</td>\n",
              "      <td>1</td>\n",
              "    </tr>\n",
              "    <tr>\n",
              "      <th>1</th>\n",
              "      <td>1</td>\n",
              "      <td>10</td>\n",
              "      <td>10258</td>\n",
              "      <td>9</td>\n",
              "      <td>2</td>\n",
              "    </tr>\n",
              "    <tr>\n",
              "      <th>2</th>\n",
              "      <td>1</td>\n",
              "      <td>10</td>\n",
              "      <td>10326</td>\n",
              "      <td>1</td>\n",
              "      <td>5</td>\n",
              "    </tr>\n",
              "  </tbody>\n",
              "</table>\n",
              "</div>"
            ],
            "text/plain": [
              "   user_id  total_orders_by_user  ...  times_bought  earliest_order_position\n",
              "0        1                    10  ...            10                        1\n",
              "1        1                    10  ...             9                        2\n",
              "2        1                    10  ...             1                        5\n",
              "\n",
              "[3 rows x 5 columns]"
            ]
          },
          "metadata": {
            "tags": []
          },
          "execution_count": 28
        }
      ]
    },
    {
      "cell_type": "markdown",
      "metadata": {
        "id": "-n2TXG2tsyN5",
        "colab_type": "text"
      },
      "source": [
        "<h2>Order Range Feature</h2>\n"
      ]
    },
    {
      "cell_type": "code",
      "metadata": {
        "id": "-O7f4qKimOnE",
        "colab_type": "code",
        "colab": {
          "base_uri": "https://localhost:8080/",
          "height": 158
        },
        "outputId": "4f1026b2-554d-497c-a3d5-4bdb45f690e2"
      },
      "source": [
        "merged_user_order['order_range'] = merged_user_order['total_orders_by_user'] - merged_user_order['earliest_order_position'] + 1\n",
        "print(\"Total null values\",merged_user_order.isnull().any().sum().sum())\n",
        "merged_user_order.head(3)"
      ],
      "execution_count": null,
      "outputs": [
        {
          "output_type": "stream",
          "text": [
            "Total null values 0\n"
          ],
          "name": "stdout"
        },
        {
          "output_type": "execute_result",
          "data": {
            "text/html": [
              "<div>\n",
              "<style scoped>\n",
              "    .dataframe tbody tr th:only-of-type {\n",
              "        vertical-align: middle;\n",
              "    }\n",
              "\n",
              "    .dataframe tbody tr th {\n",
              "        vertical-align: top;\n",
              "    }\n",
              "\n",
              "    .dataframe thead th {\n",
              "        text-align: right;\n",
              "    }\n",
              "</style>\n",
              "<table border=\"1\" class=\"dataframe\">\n",
              "  <thead>\n",
              "    <tr style=\"text-align: right;\">\n",
              "      <th></th>\n",
              "      <th>user_id</th>\n",
              "      <th>total_orders_by_user</th>\n",
              "      <th>product_id</th>\n",
              "      <th>times_bought</th>\n",
              "      <th>earliest_order_position</th>\n",
              "      <th>order_range</th>\n",
              "    </tr>\n",
              "  </thead>\n",
              "  <tbody>\n",
              "    <tr>\n",
              "      <th>0</th>\n",
              "      <td>1</td>\n",
              "      <td>10</td>\n",
              "      <td>196</td>\n",
              "      <td>10</td>\n",
              "      <td>1</td>\n",
              "      <td>10</td>\n",
              "    </tr>\n",
              "    <tr>\n",
              "      <th>1</th>\n",
              "      <td>1</td>\n",
              "      <td>10</td>\n",
              "      <td>10258</td>\n",
              "      <td>9</td>\n",
              "      <td>2</td>\n",
              "      <td>9</td>\n",
              "    </tr>\n",
              "    <tr>\n",
              "      <th>2</th>\n",
              "      <td>1</td>\n",
              "      <td>10</td>\n",
              "      <td>10326</td>\n",
              "      <td>1</td>\n",
              "      <td>5</td>\n",
              "      <td>6</td>\n",
              "    </tr>\n",
              "  </tbody>\n",
              "</table>\n",
              "</div>"
            ],
            "text/plain": [
              "   user_id  total_orders_by_user  ...  earliest_order_position  order_range\n",
              "0        1                    10  ...                        1           10\n",
              "1        1                    10  ...                        2            9\n",
              "2        1                    10  ...                        5            6\n",
              "\n",
              "[3 rows x 6 columns]"
            ]
          },
          "metadata": {
            "tags": []
          },
          "execution_count": 29
        }
      ]
    },
    {
      "cell_type": "markdown",
      "metadata": {
        "id": "5dIAU1P4txLA",
        "colab_type": "text"
      },
      "source": [
        "<h2>Merging User Product Features On 'user_id' and 'product_id'</h2>\n",
        "\n",
        "1. Reorder ratio of product by user"
      ]
    },
    {
      "cell_type": "code",
      "metadata": {
        "id": "W9Q4DIERmOnQ",
        "colab_type": "code",
        "colab": {
          "base_uri": "https://localhost:8080/",
          "height": 158
        },
        "outputId": "565ad908-906e-4ced-965e-65fd7531d697"
      },
      "source": [
        "user_product_merged_df = pd.merge(merged_user_order, user_product_df, on=['user_id', 'product_id'], how='left')\n",
        "user_product_merged_df['user_pro_reorder_ratio'] = user_product_merged_df['times_bought'] / user_product_merged_df['order_range']\n",
        "print(\"Total null values\",user_product_merged_df.isnull().any().sum().sum())\n",
        "user_product_merged_df.head(3)"
      ],
      "execution_count": null,
      "outputs": [
        {
          "output_type": "stream",
          "text": [
            "Total null values 0\n"
          ],
          "name": "stdout"
        },
        {
          "output_type": "execute_result",
          "data": {
            "text/html": [
              "<div>\n",
              "<style scoped>\n",
              "    .dataframe tbody tr th:only-of-type {\n",
              "        vertical-align: middle;\n",
              "    }\n",
              "\n",
              "    .dataframe tbody tr th {\n",
              "        vertical-align: top;\n",
              "    }\n",
              "\n",
              "    .dataframe thead th {\n",
              "        text-align: right;\n",
              "    }\n",
              "</style>\n",
              "<table border=\"1\" class=\"dataframe\">\n",
              "  <thead>\n",
              "    <tr style=\"text-align: right;\">\n",
              "      <th></th>\n",
              "      <th>user_id</th>\n",
              "      <th>total_orders_by_user</th>\n",
              "      <th>product_id</th>\n",
              "      <th>times_bought</th>\n",
              "      <th>earliest_order_position</th>\n",
              "      <th>order_range</th>\n",
              "      <th>times_product_by_user</th>\n",
              "      <th>user_pro_reorder_ratio</th>\n",
              "    </tr>\n",
              "  </thead>\n",
              "  <tbody>\n",
              "    <tr>\n",
              "      <th>0</th>\n",
              "      <td>1</td>\n",
              "      <td>10</td>\n",
              "      <td>196</td>\n",
              "      <td>10</td>\n",
              "      <td>1</td>\n",
              "      <td>10</td>\n",
              "      <td>10</td>\n",
              "      <td>1.000000</td>\n",
              "    </tr>\n",
              "    <tr>\n",
              "      <th>1</th>\n",
              "      <td>1</td>\n",
              "      <td>10</td>\n",
              "      <td>10258</td>\n",
              "      <td>9</td>\n",
              "      <td>2</td>\n",
              "      <td>9</td>\n",
              "      <td>9</td>\n",
              "      <td>1.000000</td>\n",
              "    </tr>\n",
              "    <tr>\n",
              "      <th>2</th>\n",
              "      <td>1</td>\n",
              "      <td>10</td>\n",
              "      <td>10326</td>\n",
              "      <td>1</td>\n",
              "      <td>5</td>\n",
              "      <td>6</td>\n",
              "      <td>1</td>\n",
              "      <td>0.166667</td>\n",
              "    </tr>\n",
              "  </tbody>\n",
              "</table>\n",
              "</div>"
            ],
            "text/plain": [
              "   user_id  total_orders_by_user  ...  times_product_by_user  user_pro_reorder_ratio\n",
              "0        1                    10  ...                     10                1.000000\n",
              "1        1                    10  ...                      9                1.000000\n",
              "2        1                    10  ...                      1                0.166667\n",
              "\n",
              "[3 rows x 8 columns]"
            ]
          },
          "metadata": {
            "tags": []
          },
          "execution_count": 30
        }
      ]
    },
    {
      "cell_type": "markdown",
      "metadata": {
        "id": "iAYyfxdguAUn",
        "colab_type": "text"
      },
      "source": [
        "<h2>Dropping Features Which Aren't Required</h2>"
      ]
    },
    {
      "cell_type": "code",
      "metadata": {
        "id": "WL3ageg1mOna",
        "colab_type": "code",
        "colab": {
          "base_uri": "https://localhost:8080/",
          "height": 141
        },
        "outputId": "0613bc0c-594c-4327-c28b-5b557af251ad"
      },
      "source": [
        "user_product_merged_df = user_product_merged_df.drop(['total_orders_by_user','order_range','times_product_by_user','earliest_order_position','times_bought'],axis=1)\n",
        "user_product_merged_df.head(3)"
      ],
      "execution_count": null,
      "outputs": [
        {
          "output_type": "execute_result",
          "data": {
            "text/html": [
              "<div>\n",
              "<style scoped>\n",
              "    .dataframe tbody tr th:only-of-type {\n",
              "        vertical-align: middle;\n",
              "    }\n",
              "\n",
              "    .dataframe tbody tr th {\n",
              "        vertical-align: top;\n",
              "    }\n",
              "\n",
              "    .dataframe thead th {\n",
              "        text-align: right;\n",
              "    }\n",
              "</style>\n",
              "<table border=\"1\" class=\"dataframe\">\n",
              "  <thead>\n",
              "    <tr style=\"text-align: right;\">\n",
              "      <th></th>\n",
              "      <th>user_id</th>\n",
              "      <th>product_id</th>\n",
              "      <th>user_pro_reorder_ratio</th>\n",
              "    </tr>\n",
              "  </thead>\n",
              "  <tbody>\n",
              "    <tr>\n",
              "      <th>0</th>\n",
              "      <td>1</td>\n",
              "      <td>196</td>\n",
              "      <td>1.000000</td>\n",
              "    </tr>\n",
              "    <tr>\n",
              "      <th>1</th>\n",
              "      <td>1</td>\n",
              "      <td>10258</td>\n",
              "      <td>1.000000</td>\n",
              "    </tr>\n",
              "    <tr>\n",
              "      <th>2</th>\n",
              "      <td>1</td>\n",
              "      <td>10326</td>\n",
              "      <td>0.166667</td>\n",
              "    </tr>\n",
              "  </tbody>\n",
              "</table>\n",
              "</div>"
            ],
            "text/plain": [
              "   user_id  product_id  user_pro_reorder_ratio\n",
              "0        1         196                1.000000\n",
              "1        1       10258                1.000000\n",
              "2        1       10326                0.166667"
            ]
          },
          "metadata": {
            "tags": []
          },
          "execution_count": 31
        }
      ]
    },
    {
      "cell_type": "markdown",
      "metadata": {
        "id": "SRafnLv8uLIC",
        "colab_type": "text"
      },
      "source": [
        "<h2>Dropping Features From Product Bought</h2>"
      ]
    },
    {
      "cell_type": "code",
      "metadata": {
        "id": "V7Nb7lKOmOnh",
        "colab_type": "code",
        "colab": {
          "base_uri": "https://localhost:8080/",
          "height": 141
        },
        "outputId": "b1828533-5eb6-4ff8-9b93-40f37ec25e1d"
      },
      "source": [
        "product_bought.drop(['earliest_order_position'],axis=1, inplace=True)\n",
        "product_bought.head(3)"
      ],
      "execution_count": null,
      "outputs": [
        {
          "output_type": "execute_result",
          "data": {
            "text/html": [
              "<div>\n",
              "<style scoped>\n",
              "    .dataframe tbody tr th:only-of-type {\n",
              "        vertical-align: middle;\n",
              "    }\n",
              "\n",
              "    .dataframe tbody tr th {\n",
              "        vertical-align: top;\n",
              "    }\n",
              "\n",
              "    .dataframe thead th {\n",
              "        text-align: right;\n",
              "    }\n",
              "</style>\n",
              "<table border=\"1\" class=\"dataframe\">\n",
              "  <thead>\n",
              "    <tr style=\"text-align: right;\">\n",
              "      <th></th>\n",
              "      <th>user_id</th>\n",
              "      <th>product_id</th>\n",
              "      <th>times_bought</th>\n",
              "    </tr>\n",
              "  </thead>\n",
              "  <tbody>\n",
              "    <tr>\n",
              "      <th>0</th>\n",
              "      <td>1</td>\n",
              "      <td>196</td>\n",
              "      <td>10</td>\n",
              "    </tr>\n",
              "    <tr>\n",
              "      <th>1</th>\n",
              "      <td>1</td>\n",
              "      <td>10258</td>\n",
              "      <td>9</td>\n",
              "    </tr>\n",
              "    <tr>\n",
              "      <th>2</th>\n",
              "      <td>1</td>\n",
              "      <td>10326</td>\n",
              "      <td>1</td>\n",
              "    </tr>\n",
              "  </tbody>\n",
              "</table>\n",
              "</div>"
            ],
            "text/plain": [
              "   user_id  product_id  times_bought\n",
              "0        1         196            10\n",
              "1        1       10258             9\n",
              "2        1       10326             1"
            ]
          },
          "metadata": {
            "tags": []
          },
          "execution_count": 32
        }
      ]
    },
    {
      "cell_type": "markdown",
      "metadata": {
        "id": "CVFYDCqguWsk",
        "colab_type": "text"
      },
      "source": [
        "<h2>Merging Bought Product With User Product Features</h2>"
      ]
    },
    {
      "cell_type": "code",
      "metadata": {
        "id": "E9Ij8sa3mOn-",
        "colab_type": "code",
        "colab": {
          "base_uri": "https://localhost:8080/",
          "height": 158
        },
        "outputId": "ba0f57ac-3557-4df4-fc86-0910eb855a19"
      },
      "source": [
        "product_bought = pd.merge(product_bought, user_product_merged_df, on=['user_id','product_id'], how='left')\n",
        "print(\"Total null values\",product_bought.isnull().any().sum().sum())\n",
        "product_bought.head(3)"
      ],
      "execution_count": null,
      "outputs": [
        {
          "output_type": "stream",
          "text": [
            "Total null values 0\n"
          ],
          "name": "stdout"
        },
        {
          "output_type": "execute_result",
          "data": {
            "text/html": [
              "<div>\n",
              "<style scoped>\n",
              "    .dataframe tbody tr th:only-of-type {\n",
              "        vertical-align: middle;\n",
              "    }\n",
              "\n",
              "    .dataframe tbody tr th {\n",
              "        vertical-align: top;\n",
              "    }\n",
              "\n",
              "    .dataframe thead th {\n",
              "        text-align: right;\n",
              "    }\n",
              "</style>\n",
              "<table border=\"1\" class=\"dataframe\">\n",
              "  <thead>\n",
              "    <tr style=\"text-align: right;\">\n",
              "      <th></th>\n",
              "      <th>user_id</th>\n",
              "      <th>product_id</th>\n",
              "      <th>times_bought</th>\n",
              "      <th>user_pro_reorder_ratio</th>\n",
              "    </tr>\n",
              "  </thead>\n",
              "  <tbody>\n",
              "    <tr>\n",
              "      <th>0</th>\n",
              "      <td>1</td>\n",
              "      <td>196</td>\n",
              "      <td>10</td>\n",
              "      <td>1.000000</td>\n",
              "    </tr>\n",
              "    <tr>\n",
              "      <th>1</th>\n",
              "      <td>1</td>\n",
              "      <td>10258</td>\n",
              "      <td>9</td>\n",
              "      <td>1.000000</td>\n",
              "    </tr>\n",
              "    <tr>\n",
              "      <th>2</th>\n",
              "      <td>1</td>\n",
              "      <td>10326</td>\n",
              "      <td>1</td>\n",
              "      <td>0.166667</td>\n",
              "    </tr>\n",
              "  </tbody>\n",
              "</table>\n",
              "</div>"
            ],
            "text/plain": [
              "   user_id  product_id  times_bought  user_pro_reorder_ratio\n",
              "0        1         196            10                1.000000\n",
              "1        1       10258             9                1.000000\n",
              "2        1       10326             1                0.166667"
            ]
          },
          "metadata": {
            "tags": []
          },
          "execution_count": 33
        }
      ]
    },
    {
      "cell_type": "markdown",
      "metadata": {
        "id": "tJMvMKyeuk-0",
        "colab_type": "text"
      },
      "source": [
        "<h2>Order Number Back Features</h2>\n",
        "\n",
        "1. Order Number Back: Times Product Bought By User In Recent Orders"
      ]
    },
    {
      "cell_type": "code",
      "metadata": {
        "id": "eOXuQjM7mOoI",
        "colab_type": "code",
        "colab": {
          "base_uri": "https://localhost:8080/",
          "height": 158
        },
        "outputId": "1feaac30-5607-453a-e43c-1b73e6ef932e"
      },
      "source": [
        "prior_order_df['order_number_back'] = (prior_order_df.groupby(by=['user_id'])['order_number'].transform(max) - prior_order_df['order_number'] + 1).astype(np.uint8)\n",
        "print(\"Total null values\", prior_order_df.isnull().any().sum().sum())\n",
        "prior_order_df.head(3)"
      ],
      "execution_count": null,
      "outputs": [
        {
          "output_type": "stream",
          "text": [
            "Total null values 0\n"
          ],
          "name": "stdout"
        },
        {
          "output_type": "execute_result",
          "data": {
            "text/html": [
              "<div>\n",
              "<style scoped>\n",
              "    .dataframe tbody tr th:only-of-type {\n",
              "        vertical-align: middle;\n",
              "    }\n",
              "\n",
              "    .dataframe tbody tr th {\n",
              "        vertical-align: top;\n",
              "    }\n",
              "\n",
              "    .dataframe thead th {\n",
              "        text-align: right;\n",
              "    }\n",
              "</style>\n",
              "<table border=\"1\" class=\"dataframe\">\n",
              "  <thead>\n",
              "    <tr style=\"text-align: right;\">\n",
              "      <th></th>\n",
              "      <th>order_id</th>\n",
              "      <th>user_id</th>\n",
              "      <th>eval_set</th>\n",
              "      <th>order_number</th>\n",
              "      <th>order_dow</th>\n",
              "      <th>order_hour_of_day</th>\n",
              "      <th>days_since_prior_order</th>\n",
              "      <th>product_id</th>\n",
              "      <th>add_to_cart_order</th>\n",
              "      <th>reordered</th>\n",
              "      <th>order_number_back</th>\n",
              "    </tr>\n",
              "  </thead>\n",
              "  <tbody>\n",
              "    <tr>\n",
              "      <th>0</th>\n",
              "      <td>2539329</td>\n",
              "      <td>1</td>\n",
              "      <td>prior</td>\n",
              "      <td>1</td>\n",
              "      <td>2</td>\n",
              "      <td>8</td>\n",
              "      <td>11.1</td>\n",
              "      <td>196</td>\n",
              "      <td>1</td>\n",
              "      <td>0</td>\n",
              "      <td>10</td>\n",
              "    </tr>\n",
              "    <tr>\n",
              "      <th>1</th>\n",
              "      <td>2539329</td>\n",
              "      <td>1</td>\n",
              "      <td>prior</td>\n",
              "      <td>1</td>\n",
              "      <td>2</td>\n",
              "      <td>8</td>\n",
              "      <td>11.1</td>\n",
              "      <td>14084</td>\n",
              "      <td>2</td>\n",
              "      <td>0</td>\n",
              "      <td>10</td>\n",
              "    </tr>\n",
              "    <tr>\n",
              "      <th>2</th>\n",
              "      <td>2539329</td>\n",
              "      <td>1</td>\n",
              "      <td>prior</td>\n",
              "      <td>1</td>\n",
              "      <td>2</td>\n",
              "      <td>8</td>\n",
              "      <td>11.1</td>\n",
              "      <td>12427</td>\n",
              "      <td>3</td>\n",
              "      <td>0</td>\n",
              "      <td>10</td>\n",
              "    </tr>\n",
              "  </tbody>\n",
              "</table>\n",
              "</div>"
            ],
            "text/plain": [
              "   order_id  user_id eval_set  ...  add_to_cart_order  reordered  order_number_back\n",
              "0   2539329        1    prior  ...                  1          0                 10\n",
              "1   2539329        1    prior  ...                  2          0                 10\n",
              "2   2539329        1    prior  ...                  3          0                 10\n",
              "\n",
              "[3 rows x 11 columns]"
            ]
          },
          "metadata": {
            "tags": []
          },
          "execution_count": 34
        }
      ]
    },
    {
      "cell_type": "markdown",
      "metadata": {
        "id": "BqFzJ00VvGcX",
        "colab_type": "text"
      },
      "source": [
        "<h2>Times Product Bought By Use In Last 10 Orders</h2>"
      ]
    },
    {
      "cell_type": "code",
      "metadata": {
        "id": "dQs5e005mOoU",
        "colab_type": "code",
        "colab": {
          "base_uri": "https://localhost:8080/",
          "height": 141
        },
        "outputId": "dad9a5b8-58fb-4bca-e8e8-dacfc73ceb95"
      },
      "source": [
        "temp = prior_order_df.loc[prior_order_df['order_number_back'] <= 10]\n",
        "temp.head(3)"
      ],
      "execution_count": null,
      "outputs": [
        {
          "output_type": "execute_result",
          "data": {
            "text/html": [
              "<div>\n",
              "<style scoped>\n",
              "    .dataframe tbody tr th:only-of-type {\n",
              "        vertical-align: middle;\n",
              "    }\n",
              "\n",
              "    .dataframe tbody tr th {\n",
              "        vertical-align: top;\n",
              "    }\n",
              "\n",
              "    .dataframe thead th {\n",
              "        text-align: right;\n",
              "    }\n",
              "</style>\n",
              "<table border=\"1\" class=\"dataframe\">\n",
              "  <thead>\n",
              "    <tr style=\"text-align: right;\">\n",
              "      <th></th>\n",
              "      <th>order_id</th>\n",
              "      <th>user_id</th>\n",
              "      <th>eval_set</th>\n",
              "      <th>order_number</th>\n",
              "      <th>order_dow</th>\n",
              "      <th>order_hour_of_day</th>\n",
              "      <th>days_since_prior_order</th>\n",
              "      <th>product_id</th>\n",
              "      <th>add_to_cart_order</th>\n",
              "      <th>reordered</th>\n",
              "      <th>order_number_back</th>\n",
              "    </tr>\n",
              "  </thead>\n",
              "  <tbody>\n",
              "    <tr>\n",
              "      <th>0</th>\n",
              "      <td>2539329</td>\n",
              "      <td>1</td>\n",
              "      <td>prior</td>\n",
              "      <td>1</td>\n",
              "      <td>2</td>\n",
              "      <td>8</td>\n",
              "      <td>11.1</td>\n",
              "      <td>196</td>\n",
              "      <td>1</td>\n",
              "      <td>0</td>\n",
              "      <td>10</td>\n",
              "    </tr>\n",
              "    <tr>\n",
              "      <th>1</th>\n",
              "      <td>2539329</td>\n",
              "      <td>1</td>\n",
              "      <td>prior</td>\n",
              "      <td>1</td>\n",
              "      <td>2</td>\n",
              "      <td>8</td>\n",
              "      <td>11.1</td>\n",
              "      <td>14084</td>\n",
              "      <td>2</td>\n",
              "      <td>0</td>\n",
              "      <td>10</td>\n",
              "    </tr>\n",
              "    <tr>\n",
              "      <th>2</th>\n",
              "      <td>2539329</td>\n",
              "      <td>1</td>\n",
              "      <td>prior</td>\n",
              "      <td>1</td>\n",
              "      <td>2</td>\n",
              "      <td>8</td>\n",
              "      <td>11.1</td>\n",
              "      <td>12427</td>\n",
              "      <td>3</td>\n",
              "      <td>0</td>\n",
              "      <td>10</td>\n",
              "    </tr>\n",
              "  </tbody>\n",
              "</table>\n",
              "</div>"
            ],
            "text/plain": [
              "   order_id  user_id eval_set  ...  add_to_cart_order  reordered  order_number_back\n",
              "0   2539329        1    prior  ...                  1          0                 10\n",
              "1   2539329        1    prior  ...                  2          0                 10\n",
              "2   2539329        1    prior  ...                  3          0                 10\n",
              "\n",
              "[3 rows x 11 columns]"
            ]
          },
          "metadata": {
            "tags": []
          },
          "execution_count": 35
        }
      ]
    },
    {
      "cell_type": "markdown",
      "metadata": {
        "id": "VGVCiO3uvWiw",
        "colab_type": "text"
      },
      "source": [
        "<h2>Recent Ten Orders</h2>"
      ]
    },
    {
      "cell_type": "code",
      "metadata": {
        "id": "_G94hgdimOoc",
        "colab_type": "code",
        "colab": {
          "base_uri": "https://localhost:8080/",
          "height": 141
        },
        "outputId": "440d2604-197e-4375-9218-4ed5db61a5cd"
      },
      "source": [
        "recent_orders = pd.DataFrame()\n",
        "recent_orders['recent_ten'] = (temp.groupby(by=['user_id', 'product_id'])['order_id'].aggregate('count')).astype(np.uint16)\n",
        "recent_orders = recent_orders.reset_index()\n",
        "recent_orders.head(3)"
      ],
      "execution_count": null,
      "outputs": [
        {
          "output_type": "execute_result",
          "data": {
            "text/html": [
              "<div>\n",
              "<style scoped>\n",
              "    .dataframe tbody tr th:only-of-type {\n",
              "        vertical-align: middle;\n",
              "    }\n",
              "\n",
              "    .dataframe tbody tr th {\n",
              "        vertical-align: top;\n",
              "    }\n",
              "\n",
              "    .dataframe thead th {\n",
              "        text-align: right;\n",
              "    }\n",
              "</style>\n",
              "<table border=\"1\" class=\"dataframe\">\n",
              "  <thead>\n",
              "    <tr style=\"text-align: right;\">\n",
              "      <th></th>\n",
              "      <th>user_id</th>\n",
              "      <th>product_id</th>\n",
              "      <th>recent_ten</th>\n",
              "    </tr>\n",
              "  </thead>\n",
              "  <tbody>\n",
              "    <tr>\n",
              "      <th>0</th>\n",
              "      <td>1</td>\n",
              "      <td>196</td>\n",
              "      <td>10</td>\n",
              "    </tr>\n",
              "    <tr>\n",
              "      <th>1</th>\n",
              "      <td>1</td>\n",
              "      <td>10258</td>\n",
              "      <td>9</td>\n",
              "    </tr>\n",
              "    <tr>\n",
              "      <th>2</th>\n",
              "      <td>1</td>\n",
              "      <td>10326</td>\n",
              "      <td>1</td>\n",
              "    </tr>\n",
              "  </tbody>\n",
              "</table>\n",
              "</div>"
            ],
            "text/plain": [
              "   user_id  product_id  recent_ten\n",
              "0        1         196          10\n",
              "1        1       10258           9\n",
              "2        1       10326           1"
            ]
          },
          "metadata": {
            "tags": []
          },
          "execution_count": 36
        }
      ]
    },
    {
      "cell_type": "markdown",
      "metadata": {
        "id": "bboEbEInveLl",
        "colab_type": "text"
      },
      "source": [
        "<h2>Recent Ten Order Ratio</h2>"
      ]
    },
    {
      "cell_type": "code",
      "metadata": {
        "id": "-V4MnIw0mOom",
        "colab_type": "code",
        "colab": {
          "base_uri": "https://localhost:8080/",
          "height": 141
        },
        "outputId": "96b0847f-5812-4c48-a9b5-d9becc2f3e47"
      },
      "source": [
        "recent_orders['recent_ten_ratio'] = (recent_orders['recent_ten'] / 10.0).astype(np.float16)\n",
        "recent_orders.head(3)"
      ],
      "execution_count": null,
      "outputs": [
        {
          "output_type": "execute_result",
          "data": {
            "text/html": [
              "<div>\n",
              "<style scoped>\n",
              "    .dataframe tbody tr th:only-of-type {\n",
              "        vertical-align: middle;\n",
              "    }\n",
              "\n",
              "    .dataframe tbody tr th {\n",
              "        vertical-align: top;\n",
              "    }\n",
              "\n",
              "    .dataframe thead th {\n",
              "        text-align: right;\n",
              "    }\n",
              "</style>\n",
              "<table border=\"1\" class=\"dataframe\">\n",
              "  <thead>\n",
              "    <tr style=\"text-align: right;\">\n",
              "      <th></th>\n",
              "      <th>user_id</th>\n",
              "      <th>product_id</th>\n",
              "      <th>recent_ten</th>\n",
              "      <th>recent_ten_ratio</th>\n",
              "    </tr>\n",
              "  </thead>\n",
              "  <tbody>\n",
              "    <tr>\n",
              "      <th>0</th>\n",
              "      <td>1</td>\n",
              "      <td>196</td>\n",
              "      <td>10</td>\n",
              "      <td>1.000000</td>\n",
              "    </tr>\n",
              "    <tr>\n",
              "      <th>1</th>\n",
              "      <td>1</td>\n",
              "      <td>10258</td>\n",
              "      <td>9</td>\n",
              "      <td>0.899902</td>\n",
              "    </tr>\n",
              "    <tr>\n",
              "      <th>2</th>\n",
              "      <td>1</td>\n",
              "      <td>10326</td>\n",
              "      <td>1</td>\n",
              "      <td>0.099976</td>\n",
              "    </tr>\n",
              "  </tbody>\n",
              "</table>\n",
              "</div>"
            ],
            "text/plain": [
              "   user_id  product_id  recent_ten  recent_ten_ratio\n",
              "0        1         196          10          1.000000\n",
              "1        1       10258           9          0.899902\n",
              "2        1       10326           1          0.099976"
            ]
          },
          "metadata": {
            "tags": []
          },
          "execution_count": 37
        }
      ]
    },
    {
      "cell_type": "markdown",
      "metadata": {
        "id": "ONL2NKJuvnvC",
        "colab_type": "text"
      },
      "source": [
        "<h2>Merging Product Bought & Recent Orders</h2>"
      ]
    },
    {
      "cell_type": "code",
      "metadata": {
        "id": "NYl1YD6AmOor",
        "colab_type": "code",
        "colab": {
          "base_uri": "https://localhost:8080/",
          "height": 158
        },
        "outputId": "4ee356b7-5df6-4053-ddea-3cdb1575b296"
      },
      "source": [
        "product_bought = pd.merge(product_bought, recent_orders, on=['user_id', 'product_id'], how='left')\n",
        "del temp, recent_orders\n",
        "print(\"Total null\",product_bought.isnull().any().sum().sum())\n",
        "product_bought.head(3)"
      ],
      "execution_count": null,
      "outputs": [
        {
          "output_type": "stream",
          "text": [
            "Total null 2\n"
          ],
          "name": "stdout"
        },
        {
          "output_type": "execute_result",
          "data": {
            "text/html": [
              "<div>\n",
              "<style scoped>\n",
              "    .dataframe tbody tr th:only-of-type {\n",
              "        vertical-align: middle;\n",
              "    }\n",
              "\n",
              "    .dataframe tbody tr th {\n",
              "        vertical-align: top;\n",
              "    }\n",
              "\n",
              "    .dataframe thead th {\n",
              "        text-align: right;\n",
              "    }\n",
              "</style>\n",
              "<table border=\"1\" class=\"dataframe\">\n",
              "  <thead>\n",
              "    <tr style=\"text-align: right;\">\n",
              "      <th></th>\n",
              "      <th>user_id</th>\n",
              "      <th>product_id</th>\n",
              "      <th>times_bought</th>\n",
              "      <th>user_pro_reorder_ratio</th>\n",
              "      <th>recent_ten</th>\n",
              "      <th>recent_ten_ratio</th>\n",
              "    </tr>\n",
              "  </thead>\n",
              "  <tbody>\n",
              "    <tr>\n",
              "      <th>0</th>\n",
              "      <td>1</td>\n",
              "      <td>196</td>\n",
              "      <td>10</td>\n",
              "      <td>1.000000</td>\n",
              "      <td>10.0</td>\n",
              "      <td>1.000000</td>\n",
              "    </tr>\n",
              "    <tr>\n",
              "      <th>1</th>\n",
              "      <td>1</td>\n",
              "      <td>10258</td>\n",
              "      <td>9</td>\n",
              "      <td>1.000000</td>\n",
              "      <td>9.0</td>\n",
              "      <td>0.899902</td>\n",
              "    </tr>\n",
              "    <tr>\n",
              "      <th>2</th>\n",
              "      <td>1</td>\n",
              "      <td>10326</td>\n",
              "      <td>1</td>\n",
              "      <td>0.166667</td>\n",
              "      <td>1.0</td>\n",
              "      <td>0.099976</td>\n",
              "    </tr>\n",
              "  </tbody>\n",
              "</table>\n",
              "</div>"
            ],
            "text/plain": [
              "   user_id  product_id  ...  recent_ten  recent_ten_ratio\n",
              "0        1         196  ...        10.0          1.000000\n",
              "1        1       10258  ...         9.0          0.899902\n",
              "2        1       10326  ...         1.0          0.099976\n",
              "\n",
              "[3 rows x 6 columns]"
            ]
          },
          "metadata": {
            "tags": []
          },
          "execution_count": 38
        }
      ]
    },
    {
      "cell_type": "markdown",
      "metadata": {
        "id": "7wrwGeo7vyQy",
        "colab_type": "text"
      },
      "source": [
        "<h2>Since there are null values so filling them with 0</h2>"
      ]
    },
    {
      "cell_type": "code",
      "metadata": {
        "id": "c-iToPfvmOox",
        "colab_type": "code",
        "colab": {
          "base_uri": "https://localhost:8080/",
          "height": 141
        },
        "outputId": "0a4db289-9b60-4567-e2ed-de3760f471ed"
      },
      "source": [
        "#product_bought = product_bought.fillna(0)\n",
        "#pickle.dump((product_bought),open('/content/drive/My Drive/Instacart Analysis/product_bought.pkl','wb'))\n",
        "product_bought = pickle.load(open('/content/drive/My Drive/Instacart Analysis/product_bought.pkl','rb'))\n",
        "product_bought.head(3)"
      ],
      "execution_count": null,
      "outputs": [
        {
          "output_type": "execute_result",
          "data": {
            "text/html": [
              "<div>\n",
              "<style scoped>\n",
              "    .dataframe tbody tr th:only-of-type {\n",
              "        vertical-align: middle;\n",
              "    }\n",
              "\n",
              "    .dataframe tbody tr th {\n",
              "        vertical-align: top;\n",
              "    }\n",
              "\n",
              "    .dataframe thead th {\n",
              "        text-align: right;\n",
              "    }\n",
              "</style>\n",
              "<table border=\"1\" class=\"dataframe\">\n",
              "  <thead>\n",
              "    <tr style=\"text-align: right;\">\n",
              "      <th></th>\n",
              "      <th>user_id</th>\n",
              "      <th>product_id</th>\n",
              "      <th>times_bought</th>\n",
              "      <th>user_pro_reorder_ratio</th>\n",
              "      <th>recent_ten</th>\n",
              "      <th>recent_ten_ratio</th>\n",
              "    </tr>\n",
              "  </thead>\n",
              "  <tbody>\n",
              "    <tr>\n",
              "      <th>0</th>\n",
              "      <td>1</td>\n",
              "      <td>196</td>\n",
              "      <td>10</td>\n",
              "      <td>1.000000</td>\n",
              "      <td>10.0</td>\n",
              "      <td>1.000000</td>\n",
              "    </tr>\n",
              "    <tr>\n",
              "      <th>1</th>\n",
              "      <td>1</td>\n",
              "      <td>10258</td>\n",
              "      <td>9</td>\n",
              "      <td>1.000000</td>\n",
              "      <td>9.0</td>\n",
              "      <td>0.899902</td>\n",
              "    </tr>\n",
              "    <tr>\n",
              "      <th>2</th>\n",
              "      <td>1</td>\n",
              "      <td>10326</td>\n",
              "      <td>1</td>\n",
              "      <td>0.166667</td>\n",
              "      <td>1.0</td>\n",
              "      <td>0.099976</td>\n",
              "    </tr>\n",
              "  </tbody>\n",
              "</table>\n",
              "</div>"
            ],
            "text/plain": [
              "   user_id  product_id  ...  recent_ten  recent_ten_ratio\n",
              "0        1         196  ...        10.0          1.000000\n",
              "1        1       10258  ...         9.0          0.899902\n",
              "2        1       10326  ...         1.0          0.099976\n",
              "\n",
              "[3 rows x 6 columns]"
            ]
          },
          "metadata": {
            "tags": []
          },
          "execution_count": 13
        }
      ]
    },
    {
      "cell_type": "markdown",
      "metadata": {
        "id": "xVbZQMgcv8qN",
        "colab_type": "text"
      },
      "source": [
        "<h2>Merging DataFrame Which Contains All Features</h2>"
      ]
    },
    {
      "cell_type": "code",
      "metadata": {
        "id": "8m-VsadumOo1",
        "colab_type": "code",
        "colab": {
          "base_uri": "https://localhost:8080/",
          "height": 178
        },
        "outputId": "1d88aa38-ed12-479c-d5e1-98943f333cb2"
      },
      "source": [
        "final_data = pd.merge(product_bought, user_df, on='user_id', how='left')\n",
        "final_data = pd.merge(final_data, product_df, on='product_id', how='left')\n",
        "print(\"Total null values\",final_data.isnull().any().sum().sum())\n",
        "final_data.head(3)"
      ],
      "execution_count": null,
      "outputs": [
        {
          "output_type": "stream",
          "text": [
            "Total null values 0\n"
          ],
          "name": "stdout"
        },
        {
          "output_type": "execute_result",
          "data": {
            "text/html": [
              "<div>\n",
              "<style scoped>\n",
              "    .dataframe tbody tr th:only-of-type {\n",
              "        vertical-align: middle;\n",
              "    }\n",
              "\n",
              "    .dataframe tbody tr th {\n",
              "        vertical-align: top;\n",
              "    }\n",
              "\n",
              "    .dataframe thead th {\n",
              "        text-align: right;\n",
              "    }\n",
              "</style>\n",
              "<table border=\"1\" class=\"dataframe\">\n",
              "  <thead>\n",
              "    <tr style=\"text-align: right;\">\n",
              "      <th></th>\n",
              "      <th>user_id</th>\n",
              "      <th>product_id</th>\n",
              "      <th>times_bought</th>\n",
              "      <th>user_pro_reorder_ratio</th>\n",
              "      <th>recent_ten</th>\n",
              "      <th>recent_ten_ratio</th>\n",
              "      <th>max_number_of_orders</th>\n",
              "      <th>mean_number_of_orders</th>\n",
              "      <th>min_number_of_orders</th>\n",
              "      <th>average_user_product</th>\n",
              "      <th>max_order_day</th>\n",
              "      <th>max_order_by_hour</th>\n",
              "      <th>total_reorders</th>\n",
              "      <th>total_non_reorders</th>\n",
              "      <th>reorder_ratio</th>\n",
              "      <th>times_product_ordered</th>\n",
              "      <th>product_reorder_ratio</th>\n",
              "      <th>product_not_reorder_time</th>\n",
              "      <th>average_product_cart_position</th>\n",
              "      <th>late_product_cart_position</th>\n",
              "      <th>early_product_cart_position</th>\n",
              "      <th>average_product_order_day</th>\n",
              "      <th>late_product_order_day</th>\n",
              "      <th>early_product_order_day</th>\n",
              "      <th>average_product_hour</th>\n",
              "      <th>late_product_hour</th>\n",
              "      <th>early_product_hour</th>\n",
              "    </tr>\n",
              "  </thead>\n",
              "  <tbody>\n",
              "    <tr>\n",
              "      <th>0</th>\n",
              "      <td>1</td>\n",
              "      <td>196</td>\n",
              "      <td>10</td>\n",
              "      <td>1.000000</td>\n",
              "      <td>10.0</td>\n",
              "      <td>1.000000</td>\n",
              "      <td>10</td>\n",
              "      <td>5</td>\n",
              "      <td>1</td>\n",
              "      <td>5.898438</td>\n",
              "      <td>4</td>\n",
              "      <td>7</td>\n",
              "      <td>41.0</td>\n",
              "      <td>18.0</td>\n",
              "      <td>0.694824</td>\n",
              "      <td>35791</td>\n",
              "      <td>0.776367</td>\n",
              "      <td>64</td>\n",
              "      <td>3.722656</td>\n",
              "      <td>60.0</td>\n",
              "      <td>1.0</td>\n",
              "      <td>2.898438</td>\n",
              "      <td>6.0</td>\n",
              "      <td>0.0</td>\n",
              "      <td>12.523438</td>\n",
              "      <td>23.0</td>\n",
              "      <td>0.0</td>\n",
              "    </tr>\n",
              "    <tr>\n",
              "      <th>1</th>\n",
              "      <td>1</td>\n",
              "      <td>10258</td>\n",
              "      <td>9</td>\n",
              "      <td>1.000000</td>\n",
              "      <td>9.0</td>\n",
              "      <td>0.899902</td>\n",
              "      <td>10</td>\n",
              "      <td>5</td>\n",
              "      <td>1</td>\n",
              "      <td>5.898438</td>\n",
              "      <td>4</td>\n",
              "      <td>7</td>\n",
              "      <td>41.0</td>\n",
              "      <td>18.0</td>\n",
              "      <td>0.694824</td>\n",
              "      <td>1946</td>\n",
              "      <td>0.713867</td>\n",
              "      <td>45</td>\n",
              "      <td>4.277344</td>\n",
              "      <td>29.0</td>\n",
              "      <td>1.0</td>\n",
              "      <td>2.718750</td>\n",
              "      <td>6.0</td>\n",
              "      <td>0.0</td>\n",
              "      <td>12.257812</td>\n",
              "      <td>23.0</td>\n",
              "      <td>0.0</td>\n",
              "    </tr>\n",
              "    <tr>\n",
              "      <th>2</th>\n",
              "      <td>1</td>\n",
              "      <td>10326</td>\n",
              "      <td>1</td>\n",
              "      <td>0.166667</td>\n",
              "      <td>1.0</td>\n",
              "      <td>0.099976</td>\n",
              "      <td>10</td>\n",
              "      <td>5</td>\n",
              "      <td>1</td>\n",
              "      <td>5.898438</td>\n",
              "      <td>4</td>\n",
              "      <td>7</td>\n",
              "      <td>41.0</td>\n",
              "      <td>18.0</td>\n",
              "      <td>0.694824</td>\n",
              "      <td>5526</td>\n",
              "      <td>0.651855</td>\n",
              "      <td>131</td>\n",
              "      <td>4.191406</td>\n",
              "      <td>37.0</td>\n",
              "      <td>1.0</td>\n",
              "      <td>2.742188</td>\n",
              "      <td>6.0</td>\n",
              "      <td>0.0</td>\n",
              "      <td>12.898438</td>\n",
              "      <td>23.0</td>\n",
              "      <td>0.0</td>\n",
              "    </tr>\n",
              "  </tbody>\n",
              "</table>\n",
              "</div>"
            ],
            "text/plain": [
              "   user_id  product_id  ...  late_product_hour  early_product_hour\n",
              "0        1         196  ...               23.0                 0.0\n",
              "1        1       10258  ...               23.0                 0.0\n",
              "2        1       10326  ...               23.0                 0.0\n",
              "\n",
              "[3 rows x 27 columns]"
            ]
          },
          "metadata": {
            "tags": []
          },
          "execution_count": 17
        }
      ]
    },
    {
      "cell_type": "code",
      "metadata": {
        "id": "Jqy8e-pPmOo8",
        "colab_type": "code",
        "colab": {}
      },
      "source": [
        "del product_bought, product_df, user_df"
      ],
      "execution_count": null,
      "outputs": []
    },
    {
      "cell_type": "code",
      "metadata": {
        "id": "PEFecCYN1Qvc",
        "colab_type": "code",
        "colab": {}
      },
      "source": [
        "#pickle.dump((final_data),open('/content/drive/My Drive/Instacart Analysis/final_data.pkl','wb'))\n",
        "final_data = pickle.load(open('/content/drive/My Drive/Instacart Analysis/final_data.pkl','rb'))"
      ],
      "execution_count": null,
      "outputs": []
    },
    {
      "cell_type": "markdown",
      "metadata": {
        "id": "gt_PJPzXmOpA",
        "colab_type": "text"
      },
      "source": [
        "<h1>Creating Train Test Data</h1>"
      ]
    },
    {
      "cell_type": "code",
      "metadata": {
        "id": "91zmoxnMmOpB",
        "colab_type": "code",
        "colab": {
          "base_uri": "https://localhost:8080/",
          "height": 202
        },
        "outputId": "b2c01dd4-95d7-44d9-cdea-536531af6f39"
      },
      "source": [
        "train_test_data = orders.loc[((orders['eval_set'] == 'train') | (orders['eval_set'] == 'test')), ['user_id', 'eval_set', 'order_id']]\n",
        "train_test_data.head()"
      ],
      "execution_count": null,
      "outputs": [
        {
          "output_type": "execute_result",
          "data": {
            "text/html": [
              "<div>\n",
              "<style scoped>\n",
              "    .dataframe tbody tr th:only-of-type {\n",
              "        vertical-align: middle;\n",
              "    }\n",
              "\n",
              "    .dataframe tbody tr th {\n",
              "        vertical-align: top;\n",
              "    }\n",
              "\n",
              "    .dataframe thead th {\n",
              "        text-align: right;\n",
              "    }\n",
              "</style>\n",
              "<table border=\"1\" class=\"dataframe\">\n",
              "  <thead>\n",
              "    <tr style=\"text-align: right;\">\n",
              "      <th></th>\n",
              "      <th>user_id</th>\n",
              "      <th>eval_set</th>\n",
              "      <th>order_id</th>\n",
              "    </tr>\n",
              "  </thead>\n",
              "  <tbody>\n",
              "    <tr>\n",
              "      <th>10</th>\n",
              "      <td>1</td>\n",
              "      <td>train</td>\n",
              "      <td>1187899</td>\n",
              "    </tr>\n",
              "    <tr>\n",
              "      <th>25</th>\n",
              "      <td>2</td>\n",
              "      <td>train</td>\n",
              "      <td>1492625</td>\n",
              "    </tr>\n",
              "    <tr>\n",
              "      <th>38</th>\n",
              "      <td>3</td>\n",
              "      <td>test</td>\n",
              "      <td>2774568</td>\n",
              "    </tr>\n",
              "    <tr>\n",
              "      <th>44</th>\n",
              "      <td>4</td>\n",
              "      <td>test</td>\n",
              "      <td>329954</td>\n",
              "    </tr>\n",
              "    <tr>\n",
              "      <th>49</th>\n",
              "      <td>5</td>\n",
              "      <td>train</td>\n",
              "      <td>2196797</td>\n",
              "    </tr>\n",
              "  </tbody>\n",
              "</table>\n",
              "</div>"
            ],
            "text/plain": [
              "    user_id eval_set  order_id\n",
              "10        1    train   1187899\n",
              "25        2    train   1492625\n",
              "38        3     test   2774568\n",
              "44        4     test    329954\n",
              "49        5    train   2196797"
            ]
          },
          "metadata": {
            "tags": []
          },
          "execution_count": 5
        }
      ]
    },
    {
      "cell_type": "code",
      "metadata": {
        "id": "fPPJNO9TmOpF",
        "colab_type": "code",
        "colab": {
          "base_uri": "https://localhost:8080/",
          "height": 178
        },
        "outputId": "4d5aafd5-2c47-41df-809f-f27c3fee164f"
      },
      "source": [
        "final_data = pd.merge(final_data, train_test_data, on='user_id', how='left')\n",
        "print(\"Total null values\",final_data.isnull().any().sum().sum())\n",
        "final_data.head(3)"
      ],
      "execution_count": null,
      "outputs": [
        {
          "output_type": "stream",
          "text": [
            "Total null values 0\n"
          ],
          "name": "stdout"
        },
        {
          "output_type": "execute_result",
          "data": {
            "text/html": [
              "<div>\n",
              "<style scoped>\n",
              "    .dataframe tbody tr th:only-of-type {\n",
              "        vertical-align: middle;\n",
              "    }\n",
              "\n",
              "    .dataframe tbody tr th {\n",
              "        vertical-align: top;\n",
              "    }\n",
              "\n",
              "    .dataframe thead th {\n",
              "        text-align: right;\n",
              "    }\n",
              "</style>\n",
              "<table border=\"1\" class=\"dataframe\">\n",
              "  <thead>\n",
              "    <tr style=\"text-align: right;\">\n",
              "      <th></th>\n",
              "      <th>user_id</th>\n",
              "      <th>product_id</th>\n",
              "      <th>times_bought</th>\n",
              "      <th>user_pro_reorder_ratio</th>\n",
              "      <th>recent_ten</th>\n",
              "      <th>recent_ten_ratio</th>\n",
              "      <th>max_number_of_orders</th>\n",
              "      <th>mean_number_of_orders</th>\n",
              "      <th>min_number_of_orders</th>\n",
              "      <th>average_user_product</th>\n",
              "      <th>max_order_day</th>\n",
              "      <th>max_order_by_hour</th>\n",
              "      <th>total_reorders</th>\n",
              "      <th>total_non_reorders</th>\n",
              "      <th>reorder_ratio</th>\n",
              "      <th>times_product_ordered</th>\n",
              "      <th>product_reorder_ratio</th>\n",
              "      <th>product_not_reorder_time</th>\n",
              "      <th>average_product_cart_position</th>\n",
              "      <th>late_product_cart_position</th>\n",
              "      <th>early_product_cart_position</th>\n",
              "      <th>average_product_order_day</th>\n",
              "      <th>late_product_order_day</th>\n",
              "      <th>early_product_order_day</th>\n",
              "      <th>average_product_hour</th>\n",
              "      <th>late_product_hour</th>\n",
              "      <th>early_product_hour</th>\n",
              "      <th>eval_set</th>\n",
              "      <th>order_id</th>\n",
              "    </tr>\n",
              "  </thead>\n",
              "  <tbody>\n",
              "    <tr>\n",
              "      <th>0</th>\n",
              "      <td>1</td>\n",
              "      <td>196</td>\n",
              "      <td>10</td>\n",
              "      <td>1.000000</td>\n",
              "      <td>10.0</td>\n",
              "      <td>1.000000</td>\n",
              "      <td>10</td>\n",
              "      <td>5</td>\n",
              "      <td>1</td>\n",
              "      <td>5.898438</td>\n",
              "      <td>4</td>\n",
              "      <td>7</td>\n",
              "      <td>41.0</td>\n",
              "      <td>18.0</td>\n",
              "      <td>0.694824</td>\n",
              "      <td>35791</td>\n",
              "      <td>0.776367</td>\n",
              "      <td>64</td>\n",
              "      <td>3.722656</td>\n",
              "      <td>60.0</td>\n",
              "      <td>1.0</td>\n",
              "      <td>2.898438</td>\n",
              "      <td>6.0</td>\n",
              "      <td>0.0</td>\n",
              "      <td>12.523438</td>\n",
              "      <td>23.0</td>\n",
              "      <td>0.0</td>\n",
              "      <td>train</td>\n",
              "      <td>1187899</td>\n",
              "    </tr>\n",
              "    <tr>\n",
              "      <th>1</th>\n",
              "      <td>1</td>\n",
              "      <td>10258</td>\n",
              "      <td>9</td>\n",
              "      <td>1.000000</td>\n",
              "      <td>9.0</td>\n",
              "      <td>0.899902</td>\n",
              "      <td>10</td>\n",
              "      <td>5</td>\n",
              "      <td>1</td>\n",
              "      <td>5.898438</td>\n",
              "      <td>4</td>\n",
              "      <td>7</td>\n",
              "      <td>41.0</td>\n",
              "      <td>18.0</td>\n",
              "      <td>0.694824</td>\n",
              "      <td>1946</td>\n",
              "      <td>0.713867</td>\n",
              "      <td>45</td>\n",
              "      <td>4.277344</td>\n",
              "      <td>29.0</td>\n",
              "      <td>1.0</td>\n",
              "      <td>2.718750</td>\n",
              "      <td>6.0</td>\n",
              "      <td>0.0</td>\n",
              "      <td>12.257812</td>\n",
              "      <td>23.0</td>\n",
              "      <td>0.0</td>\n",
              "      <td>train</td>\n",
              "      <td>1187899</td>\n",
              "    </tr>\n",
              "    <tr>\n",
              "      <th>2</th>\n",
              "      <td>1</td>\n",
              "      <td>10326</td>\n",
              "      <td>1</td>\n",
              "      <td>0.166667</td>\n",
              "      <td>1.0</td>\n",
              "      <td>0.099976</td>\n",
              "      <td>10</td>\n",
              "      <td>5</td>\n",
              "      <td>1</td>\n",
              "      <td>5.898438</td>\n",
              "      <td>4</td>\n",
              "      <td>7</td>\n",
              "      <td>41.0</td>\n",
              "      <td>18.0</td>\n",
              "      <td>0.694824</td>\n",
              "      <td>5526</td>\n",
              "      <td>0.651855</td>\n",
              "      <td>131</td>\n",
              "      <td>4.191406</td>\n",
              "      <td>37.0</td>\n",
              "      <td>1.0</td>\n",
              "      <td>2.742188</td>\n",
              "      <td>6.0</td>\n",
              "      <td>0.0</td>\n",
              "      <td>12.898438</td>\n",
              "      <td>23.0</td>\n",
              "      <td>0.0</td>\n",
              "      <td>train</td>\n",
              "      <td>1187899</td>\n",
              "    </tr>\n",
              "  </tbody>\n",
              "</table>\n",
              "</div>"
            ],
            "text/plain": [
              "   user_id  product_id  times_bought  ...  early_product_hour  eval_set  order_id\n",
              "0        1         196            10  ...                 0.0     train   1187899\n",
              "1        1       10258             9  ...                 0.0     train   1187899\n",
              "2        1       10326             1  ...                 0.0     train   1187899\n",
              "\n",
              "[3 rows x 29 columns]"
            ]
          },
          "metadata": {
            "tags": []
          },
          "execution_count": 6
        }
      ]
    },
    {
      "cell_type": "code",
      "metadata": {
        "id": "W424j_XkmOpM",
        "colab_type": "code",
        "colab": {}
      },
      "source": [
        "train_data = final_data.loc[final_data['eval_set']=='train']\n",
        "test_data = final_data.loc[final_data['eval_set']=='test']"
      ],
      "execution_count": null,
      "outputs": []
    },
    {
      "cell_type": "code",
      "metadata": {
        "id": "5uoSI1UhmOpV",
        "colab_type": "code",
        "colab": {
          "base_uri": "https://localhost:8080/",
          "height": 161
        },
        "outputId": "254bd4dd-3b8c-46ba-cd99-099dffb512e0"
      },
      "source": [
        "train_data = pd.merge(train_data, train[['product_id', 'order_id', 'reordered']], on=['product_id', 'order_id'], how='left')\n",
        "train_data.head(3)"
      ],
      "execution_count": null,
      "outputs": [
        {
          "output_type": "execute_result",
          "data": {
            "text/html": [
              "<div>\n",
              "<style scoped>\n",
              "    .dataframe tbody tr th:only-of-type {\n",
              "        vertical-align: middle;\n",
              "    }\n",
              "\n",
              "    .dataframe tbody tr th {\n",
              "        vertical-align: top;\n",
              "    }\n",
              "\n",
              "    .dataframe thead th {\n",
              "        text-align: right;\n",
              "    }\n",
              "</style>\n",
              "<table border=\"1\" class=\"dataframe\">\n",
              "  <thead>\n",
              "    <tr style=\"text-align: right;\">\n",
              "      <th></th>\n",
              "      <th>user_id</th>\n",
              "      <th>product_id</th>\n",
              "      <th>times_bought</th>\n",
              "      <th>user_pro_reorder_ratio</th>\n",
              "      <th>recent_ten</th>\n",
              "      <th>recent_ten_ratio</th>\n",
              "      <th>max_number_of_orders</th>\n",
              "      <th>mean_number_of_orders</th>\n",
              "      <th>min_number_of_orders</th>\n",
              "      <th>average_user_product</th>\n",
              "      <th>max_order_day</th>\n",
              "      <th>max_order_by_hour</th>\n",
              "      <th>total_reorders</th>\n",
              "      <th>total_non_reorders</th>\n",
              "      <th>reorder_ratio</th>\n",
              "      <th>times_product_ordered</th>\n",
              "      <th>product_reorder_ratio</th>\n",
              "      <th>product_not_reorder_time</th>\n",
              "      <th>average_product_cart_position</th>\n",
              "      <th>late_product_cart_position</th>\n",
              "      <th>early_product_cart_position</th>\n",
              "      <th>average_product_order_day</th>\n",
              "      <th>late_product_order_day</th>\n",
              "      <th>early_product_order_day</th>\n",
              "      <th>average_product_hour</th>\n",
              "      <th>late_product_hour</th>\n",
              "      <th>early_product_hour</th>\n",
              "      <th>eval_set</th>\n",
              "      <th>order_id</th>\n",
              "      <th>reordered</th>\n",
              "    </tr>\n",
              "  </thead>\n",
              "  <tbody>\n",
              "    <tr>\n",
              "      <th>0</th>\n",
              "      <td>1</td>\n",
              "      <td>196</td>\n",
              "      <td>10</td>\n",
              "      <td>1.000000</td>\n",
              "      <td>10.0</td>\n",
              "      <td>1.000000</td>\n",
              "      <td>10</td>\n",
              "      <td>5</td>\n",
              "      <td>1</td>\n",
              "      <td>5.898438</td>\n",
              "      <td>4</td>\n",
              "      <td>7</td>\n",
              "      <td>41.0</td>\n",
              "      <td>18.0</td>\n",
              "      <td>0.694824</td>\n",
              "      <td>35791</td>\n",
              "      <td>0.776367</td>\n",
              "      <td>64</td>\n",
              "      <td>3.722656</td>\n",
              "      <td>60.0</td>\n",
              "      <td>1.0</td>\n",
              "      <td>2.898438</td>\n",
              "      <td>6.0</td>\n",
              "      <td>0.0</td>\n",
              "      <td>12.523438</td>\n",
              "      <td>23.0</td>\n",
              "      <td>0.0</td>\n",
              "      <td>train</td>\n",
              "      <td>1187899</td>\n",
              "      <td>1.0</td>\n",
              "    </tr>\n",
              "    <tr>\n",
              "      <th>1</th>\n",
              "      <td>1</td>\n",
              "      <td>10258</td>\n",
              "      <td>9</td>\n",
              "      <td>1.000000</td>\n",
              "      <td>9.0</td>\n",
              "      <td>0.899902</td>\n",
              "      <td>10</td>\n",
              "      <td>5</td>\n",
              "      <td>1</td>\n",
              "      <td>5.898438</td>\n",
              "      <td>4</td>\n",
              "      <td>7</td>\n",
              "      <td>41.0</td>\n",
              "      <td>18.0</td>\n",
              "      <td>0.694824</td>\n",
              "      <td>1946</td>\n",
              "      <td>0.713867</td>\n",
              "      <td>45</td>\n",
              "      <td>4.277344</td>\n",
              "      <td>29.0</td>\n",
              "      <td>1.0</td>\n",
              "      <td>2.718750</td>\n",
              "      <td>6.0</td>\n",
              "      <td>0.0</td>\n",
              "      <td>12.257812</td>\n",
              "      <td>23.0</td>\n",
              "      <td>0.0</td>\n",
              "      <td>train</td>\n",
              "      <td>1187899</td>\n",
              "      <td>1.0</td>\n",
              "    </tr>\n",
              "    <tr>\n",
              "      <th>2</th>\n",
              "      <td>1</td>\n",
              "      <td>10326</td>\n",
              "      <td>1</td>\n",
              "      <td>0.166667</td>\n",
              "      <td>1.0</td>\n",
              "      <td>0.099976</td>\n",
              "      <td>10</td>\n",
              "      <td>5</td>\n",
              "      <td>1</td>\n",
              "      <td>5.898438</td>\n",
              "      <td>4</td>\n",
              "      <td>7</td>\n",
              "      <td>41.0</td>\n",
              "      <td>18.0</td>\n",
              "      <td>0.694824</td>\n",
              "      <td>5526</td>\n",
              "      <td>0.651855</td>\n",
              "      <td>131</td>\n",
              "      <td>4.191406</td>\n",
              "      <td>37.0</td>\n",
              "      <td>1.0</td>\n",
              "      <td>2.742188</td>\n",
              "      <td>6.0</td>\n",
              "      <td>0.0</td>\n",
              "      <td>12.898438</td>\n",
              "      <td>23.0</td>\n",
              "      <td>0.0</td>\n",
              "      <td>train</td>\n",
              "      <td>1187899</td>\n",
              "      <td>NaN</td>\n",
              "    </tr>\n",
              "  </tbody>\n",
              "</table>\n",
              "</div>"
            ],
            "text/plain": [
              "   user_id  product_id  times_bought  ...  eval_set  order_id  reordered\n",
              "0        1         196            10  ...     train   1187899        1.0\n",
              "1        1       10258             9  ...     train   1187899        1.0\n",
              "2        1       10326             1  ...     train   1187899        NaN\n",
              "\n",
              "[3 rows x 30 columns]"
            ]
          },
          "metadata": {
            "tags": []
          },
          "execution_count": 10
        }
      ]
    },
    {
      "cell_type": "code",
      "metadata": {
        "id": "BBFTW6MomOpb",
        "colab_type": "code",
        "colab": {
          "base_uri": "https://localhost:8080/",
          "height": 34
        },
        "outputId": "a55f8881-bf78-4ca3-bd6e-12f20509545f"
      },
      "source": [
        "train_data['reordered'].fillna(0, inplace=True)\n",
        "print(\"Null values\", train_data.isnull().any().sum().sum())"
      ],
      "execution_count": null,
      "outputs": [
        {
          "output_type": "stream",
          "text": [
            "Null values 0\n"
          ],
          "name": "stdout"
        }
      ]
    },
    {
      "cell_type": "code",
      "metadata": {
        "id": "b4XMVuZUmOpf",
        "colab_type": "code",
        "colab": {}
      },
      "source": [
        "train_data = train_data.set_index(['user_id', 'product_id'])\n",
        "test_data = test_data.set_index(['user_id', 'product_id'])\n",
        "\n",
        "train_data.drop(['eval_set', 'order_id'], axis=1, inplace=True)\n",
        "test_data.drop(['eval_set', 'order_id'], axis=1, inplace=True)"
      ],
      "execution_count": null,
      "outputs": []
    },
    {
      "cell_type": "code",
      "metadata": {
        "id": "HFqo415HmOpl",
        "colab_type": "code",
        "colab": {
          "base_uri": "https://localhost:8080/",
          "height": 52
        },
        "outputId": "b27d6292-ceaf-4dd7-b798-5899c9c43187"
      },
      "source": [
        "print(\"Train Data Shape\", train_data.shape)\n",
        "print(\"Test Data Shape\", test_data.shape)"
      ],
      "execution_count": null,
      "outputs": [
        {
          "output_type": "stream",
          "text": [
            "Train Data Shape (8474661, 26)\n",
            "Test Data Shape (4833292, 25)\n"
          ],
          "name": "stdout"
        }
      ]
    },
    {
      "cell_type": "code",
      "metadata": {
        "id": "9k41n2XXmOpt",
        "colab_type": "code",
        "colab": {}
      },
      "source": [
        "pickle.dump((train_data),open('/content/drive/My Drive/Instacart Analysis/final_data_trainn.pkl','wb'))\n",
        "pickle.dump((test_data),open('/content/drive/My Drive/Instacart Analysis/final_data_test.pkl','wb'))"
      ],
      "execution_count": null,
      "outputs": []
    }
  ]
}